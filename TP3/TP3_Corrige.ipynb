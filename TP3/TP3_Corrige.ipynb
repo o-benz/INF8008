{
  "cells": [
    {
      "cell_type": "markdown",
      "metadata": {
        "id": "th8R6iFhsz79"
      },
      "source": [
        "\n",
        "\n",
        "## <center> Polytechnique Montréal <br> Département Génie Informatique et Génie Logiciel <br>  INF8008 – Prétraitement de données <br> . <br> TP3  - Échantillonnage et imputations <br>  Hiver 2025 <br> . <br> 17 février 2025 </center>"
      ]
    },
    {
      "cell_type": "markdown",
      "metadata": {
        "id": "4-uCAmWYtjG8"
      },
      "source": [
        "## Introduction\n",
        "\n",
        "Le TP3 porte principalement sur l'échantillonnage et l'imputation, mais nous aborderons tout de même l'agrégation, la tabulation, le remodelage, le pivotement et les statistiques descriptives.  <b> Nous survolons l'utilisation de fonctions de base de Pandas et de l'analyse de données numériques. </b>\n",
        "\n",
        "Dans ce travail, vous aurez à utiliser les données des deux fichiers .csv suivants :\n",
        "\n",
        " - <b> appointments.csv </b> : Matrice de données de 100 000 rendez-vous faits par 943 patients et portant sur 1682 docteurs;\n",
        " - <b> patients.csv </b> : Matrice de données sur les patients.\n",
        "\n",
        "Ces données ont été générées synthétiquement par un grand modèle de langage pour approximer les interactions réelles dans le domaine des soins de santé tout en garantissant la confidentialité des données.\n",
        "\n"
      ]
    },
    {
      "cell_type": "markdown",
      "metadata": {
        "id": "jSAmD2Iuuxds"
      },
      "source": [
        "Voici les librairies python qui seront à utiliser pour ce TP :\n",
        "- [matplotlib](https://matplotlib.org/stable/users/explain/quick_start.html)\n",
        "- [numpy](https://numpy.org/doc/stable/user/basics.html)\n",
        "- [pandas](https://pandas.pydata.org/docs/user_guide/index.html)\n",
        "\n",
        "\n",
        "\n"
      ]
    },
    {
      "cell_type": "code",
      "execution_count": null,
      "metadata": {
        "id": "Yowt8NL4v29E"
      },
      "outputs": [],
      "source": [
        "import pandas as pd\n",
        "import numpy as np"
      ]
    },
    {
      "cell_type": "code",
      "execution_count": null,
      "metadata": {
        "id": "pVLjUZbts_z6"
      },
      "outputs": [],
      "source": [
        "df_appointments = pd.read_csv('appointments.csv')\n",
        "df_patients = pd.read_csv('patients.csv')"
      ]
    },
    {
      "cell_type": "code",
      "execution_count": null,
      "metadata": {
        "colab": {
          "base_uri": "https://localhost:8080/",
          "height": 424
        },
        "id": "3q1QiA8zOcuV",
        "outputId": "e990a6e9-5b02-4b60-9ef4-4f37ab1cc018"
      },
      "outputs": [
        {
          "data": {
            "text/html": [
              "<div>\n",
              "<style scoped>\n",
              "    .dataframe tbody tr th:only-of-type {\n",
              "        vertical-align: middle;\n",
              "    }\n",
              "\n",
              "    .dataframe tbody tr th {\n",
              "        vertical-align: top;\n",
              "    }\n",
              "\n",
              "    .dataframe thead th {\n",
              "        text-align: right;\n",
              "    }\n",
              "</style>\n",
              "<table border=\"1\" class=\"dataframe\">\n",
              "  <thead>\n",
              "    <tr style=\"text-align: right;\">\n",
              "      <th></th>\n",
              "      <th>patient.id</th>\n",
              "      <th>doctor.id</th>\n",
              "      <th>niveau.recommandation</th>\n",
              "      <th>date</th>\n",
              "    </tr>\n",
              "  </thead>\n",
              "  <tbody>\n",
              "    <tr>\n",
              "      <th>0</th>\n",
              "      <td>938</td>\n",
              "      <td>588</td>\n",
              "      <td>4</td>\n",
              "      <td>2021-01-15</td>\n",
              "    </tr>\n",
              "    <tr>\n",
              "      <th>1</th>\n",
              "      <td>81</td>\n",
              "      <td>1083</td>\n",
              "      <td>4</td>\n",
              "      <td>2021-11-26</td>\n",
              "    </tr>\n",
              "    <tr>\n",
              "      <th>2</th>\n",
              "      <td>890</td>\n",
              "      <td>1144</td>\n",
              "      <td>2</td>\n",
              "      <td>2021-05-05</td>\n",
              "    </tr>\n",
              "    <tr>\n",
              "      <th>3</th>\n",
              "      <td>428</td>\n",
              "      <td>18</td>\n",
              "      <td>5</td>\n",
              "      <td>2021-06-09</td>\n",
              "    </tr>\n",
              "    <tr>\n",
              "      <th>4</th>\n",
              "      <td>483</td>\n",
              "      <td>1130</td>\n",
              "      <td>5</td>\n",
              "      <td>2021-01-26</td>\n",
              "    </tr>\n",
              "    <tr>\n",
              "      <th>...</th>\n",
              "      <td>...</td>\n",
              "      <td>...</td>\n",
              "      <td>...</td>\n",
              "      <td>...</td>\n",
              "    </tr>\n",
              "    <tr>\n",
              "      <th>96943</th>\n",
              "      <td>351</td>\n",
              "      <td>435</td>\n",
              "      <td>4</td>\n",
              "      <td>2021-01-12</td>\n",
              "    </tr>\n",
              "    <tr>\n",
              "      <th>96944</th>\n",
              "      <td>187</td>\n",
              "      <td>1246</td>\n",
              "      <td>3</td>\n",
              "      <td>2021-01-05</td>\n",
              "    </tr>\n",
              "    <tr>\n",
              "      <th>96945</th>\n",
              "      <td>748</td>\n",
              "      <td>560</td>\n",
              "      <td>5</td>\n",
              "      <td>2021-06-16</td>\n",
              "    </tr>\n",
              "    <tr>\n",
              "      <th>96946</th>\n",
              "      <td>285</td>\n",
              "      <td>1429</td>\n",
              "      <td>3</td>\n",
              "      <td>2021-05-14</td>\n",
              "    </tr>\n",
              "    <tr>\n",
              "      <th>96947</th>\n",
              "      <td>817</td>\n",
              "      <td>923</td>\n",
              "      <td>3</td>\n",
              "      <td>2021-10-15</td>\n",
              "    </tr>\n",
              "  </tbody>\n",
              "</table>\n",
              "<p>96948 rows × 4 columns</p>\n",
              "</div>"
            ],
            "text/plain": [
              "       patient.id  doctor.id  niveau.recommandation        date\n",
              "0             938        588                      4  2021-01-15\n",
              "1              81       1083                      4  2021-11-26\n",
              "2             890       1144                      2  2021-05-05\n",
              "3             428         18                      5  2021-06-09\n",
              "4             483       1130                      5  2021-01-26\n",
              "...           ...        ...                    ...         ...\n",
              "96943         351        435                      4  2021-01-12\n",
              "96944         187       1246                      3  2021-01-05\n",
              "96945         748        560                      5  2021-06-16\n",
              "96946         285       1429                      3  2021-05-14\n",
              "96947         817        923                      3  2021-10-15\n",
              "\n",
              "[96948 rows x 4 columns]"
            ]
          },
          "execution_count": 3,
          "metadata": {},
          "output_type": "execute_result"
        }
      ],
      "source": [
        "df_appointments"
      ]
    },
    {
      "cell_type": "markdown",
      "metadata": {
        "id": "6zP9EwsKve8l"
      },
      "source": [
        "## Prédiction de recommendations par factorisation de matrice\n",
        "<b> Mise en contexte : </b>\n",
        "\n",
        "Un principe fondamental des systèmes de recommandations est de prédire les rendez-vous des patients aux docteurs qui n’ont pas encore de rendez-vous et sont présumés des candidats à recommander. On recommande alors les docteurs dont les rendez-vous estimés sont les plus élevés. Une méthode très facile à implémenter consiste à factoriser une matrice de rendez-vous dans un espace à dimensions réduites puis à effectuer le produit des matrices factorisées. Ce produit constitue la prédiction des rendez-vous sur la base de réduction de dimensions.\n",
        "\n",
        "Le fichier appointments.csv contient 100 000 rendez-vous de 943 patients pour 1682 docteurs. Il faut, dans un premier temps, créer cette matrice et ensuite la factoriser en un produit de matrices dont le rang est plus petit. Mais la matrice originale contient un grand nombre de valeurs manquantes et il est nécessaire d’effectuer une imputation avant la factorisation par des méthodes analytiques, notamment la méthode de décomposition en valeurs singulières que nous utiliserons (SVD).\n",
        "\n",
        "De plus, il faut aussi effectuer une validation croisée afin de déterminer le bon nombre dimensions pour la factorisation ainsi que s’il est préférable de faire une imputation de valeurs aléatoires, de la moyenne des lignes, ou de la moyenne des lignes et des colonnes.\n",
        "\n",
        "### A)\n",
        "Mettez les données de \"df_appointments\" sous la forme d'une matrice de rendez-vous patients $\\times$ docteurs. <b>(1.5 points)</b>\n",
        "\n",
        "Pour ce faire:\n",
        "1. Retirez la colonne \"date\" du DataFrame \"df_appointments\".\n",
        "2. Triez les données par \"patient.id\" et \"doctor.id\".\n",
        "3. Regroupez les données par \"patient.id\" et faites l'agrégation des \"niveau.recommandation\" pour chaque \"doctor.id\".\n",
        "4. Convertissez en matrice.\n",
        "\n",
        "Affichez les dimensions de la matrice, celle-ci devrait être de \"shape\" (943, 1682)."
      ]
    },
    {
      "cell_type": "code",
      "execution_count": null,
      "metadata": {
        "colab": {
          "base_uri": "https://localhost:8080/"
        },
        "id": "6JJzhtUMyzuC",
        "outputId": "7178e7dd-c29b-4559-b06f-452909126b55"
      },
      "outputs": [
        {
          "name": "stderr",
          "output_type": "stream",
          "text": [
            "C:\\Users\\abdoj\\AppData\\Local\\Temp\\ipykernel_2324\\1652898773.py:5: DeprecationWarning: DataFrameGroupBy.apply operated on the grouping columns. This behavior is deprecated, and in a future version of pandas the grouping columns will be excluded from the operation. Either pass `include_groups=False` to exclude the groupings or explicitly select the grouping columns after groupby to silence this warning.\n",
            "  Rdf = Rdf.groupby('patient.id').apply(lambda x: pd.Series(x['niveau.recommandation'].values, index=x['doctor.id'])).unstack()\n"
          ]
        },
        {
          "data": {
            "text/plain": [
              "(943, 1682)"
            ]
          },
          "execution_count": 4,
          "metadata": {},
          "output_type": "execute_result"
        }
      ],
      "source": [
        "#TODO:\n",
        "\n",
        "Rdf = df_appointments.drop(columns=['date'])\n",
        "Rdf = Rdf.sort_values(by=['patient.id', 'doctor.id'])\n",
        "Rdf = Rdf.groupby('patient.id').apply(lambda x: pd.Series(x['niveau.recommandation'].values, index=x['doctor.id'])).unstack()\n",
        "\n",
        "R = Rdf.to_numpy()\n",
        "\n",
        "R.shape"
      ]
    },
    {
      "cell_type": "code",
      "execution_count": null,
      "metadata": {
        "colab": {
          "base_uri": "https://localhost:8080/"
        },
        "id": "TC0OULbDYs6-",
        "outputId": "96b9790f-19ce-4716-d14c-b6ba42bd8e94"
      },
      "outputs": [
        {
          "data": {
            "text/plain": [
              "array([[nan,  5., nan, ..., nan, nan, nan],\n",
              "       [nan, nan, nan, ..., nan, nan, nan],\n",
              "       [ 1., nan,  2., ..., nan, nan, nan],\n",
              "       ...,\n",
              "       [nan,  2., nan, ..., nan, nan, nan],\n",
              "       [nan, nan, nan, ..., nan, nan,  5.],\n",
              "       [nan, nan,  4., ..., nan, nan, nan]])"
            ]
          },
          "execution_count": 5,
          "metadata": {},
          "output_type": "execute_result"
        }
      ],
      "source": [
        "R"
      ]
    },
    {
      "cell_type": "markdown",
      "metadata": {
        "id": "Pn_swMkLvhWE"
      },
      "source": [
        "\n",
        "### B)\n",
        "Pour factoriser une matrice, elle ne doit contenir aucune valeur manquante.  Imputez (remplacez) les valeurs manquantes (valeurs non observées) dans la matrice créée précédemment selon les trois méthodes suivantes : <b>(2.5 points)</b>  \n",
        "1. Remplacer les \"nan\" par des valeurs aléatoires d'une distribution normale (0,1).\n",
        "2. Remplacer les \"nan\" par la moyenne des lignes.\n",
        "3. Remplacer les \"nan\" par la moyenne des lignes et colonnes.\n",
        "\n",
        "Affichez la matrice obtenue pour chaque méthode.\n",
        "\n"
      ]
    },
    {
      "cell_type": "code",
      "execution_count": null,
      "metadata": {
        "colab": {
          "base_uri": "https://localhost:8080/"
        },
        "id": "5oST8x2-vfQh",
        "outputId": "ddfa865f-aa6e-4a58-fc50-14e323e77342"
      },
      "outputs": [
        {
          "name": "stdout",
          "output_type": "stream",
          "text": [
            "Méthode 1: \n",
            " [[ 4.89443867e-03  5.00000000e+00 -1.64486478e+00 ... -1.01491477e+00\n",
            "  -2.89035348e-01 -4.79805672e-01]\n",
            " [-7.06530255e-01  1.24296921e+00 -9.88944537e-01 ...  2.73580500e-01\n",
            "   3.35941078e-01 -1.37274445e+00]\n",
            " [ 1.00000000e+00  1.92367575e-01  2.00000000e+00 ... -2.16803563e-01\n",
            "  -1.49362956e+00 -5.15637952e-01]\n",
            " ...\n",
            " [ 1.02115536e-01  2.00000000e+00 -3.30888095e-02 ...  2.82556362e-01\n",
            "   1.02172107e+00 -4.68805362e-01]\n",
            " [ 1.48838930e-02  5.64425674e-01 -2.32836044e-01 ...  1.26789424e+00\n",
            "  -1.72121732e+00  5.00000000e+00]\n",
            " [ 1.20634562e+00 -6.90520174e-01  4.00000000e+00 ...  1.14792472e+00\n",
            "   8.57904050e-01 -7.86265151e-01]]\n",
            "\n",
            "Méthode 2: \n",
            " [[3.35185185 5.         3.35185185 ... 3.35185185 3.35185185 3.35185185]\n",
            " [2.78431373 2.78431373 2.78431373 ... 2.78431373 2.78431373 2.78431373]\n",
            " [1.         2.70873786 2.         ... 2.70873786 2.70873786 2.70873786]\n",
            " ...\n",
            " [2.95614035 2.         2.95614035 ... 2.95614035 2.95614035 2.95614035]\n",
            " [3.18691589 3.18691589 3.18691589 ... 3.18691589 3.18691589 5.        ]\n",
            " [3.07526882 3.07526882 4.         ... 3.07526882 3.07526882 3.07526882]]\n",
            "\n",
            "Méthode 3: \n",
            " [[3.33956229 5.         3.02592593 ... 3.21829881 3.11823362 3.05328442]\n",
            " [3.05579323 2.68215686 2.74215686 ... 2.93452974 2.83446456 2.76951535]\n",
            " [1.         2.64436893 2.         ... 2.89674181 2.79667662 2.73172742]\n",
            " ...\n",
            " [3.14170654 2.         2.82807018 ... 3.02044306 2.92037787 2.85542867]\n",
            " [3.25709431 2.88345794 2.94345794 ... 3.13583083 3.03576564 5.        ]\n",
            " [3.20127077 2.82763441 4.         ... 3.08000729 2.9799421  2.9149929 ]]\n",
            "\n"
          ]
        }
      ],
      "source": [
        "nan_mask = np.isnan(R)\n",
        "valeursObservees = ~np.isnan(R)\n",
        "\n",
        "#TODO:\n",
        "\n",
        "# Methode 1: Remplacer les \"nan\" par des valeurs aléatoires d'une distribution normale (0,1)\n",
        "random_values = np.random.randn(*R.shape)\n",
        "R_filled_random = np.where(np.isnan(R), random_values, R)\n",
        "\n",
        "print(\"Méthode 1: \\n\", R_filled_random)\n",
        "print()\n",
        "\n",
        "# Methode 2: Remplacer les \"nan\" par la moyenne des lignes\n",
        "row_means = np.nanmean(R, axis=1, keepdims=True)\n",
        "R_filled_row_mean = np.where(np.isnan(R), row_means, R)\n",
        "\n",
        "print(\"Méthode 2: \\n\", R_filled_row_mean)\n",
        "print()\n",
        "\n",
        "# Method 3: Remplacer les \"nan\" par la moyenne des lignes et colonnes\n",
        "row_means = np.nanmean(R, axis=1, keepdims=True)\n",
        "col_means = np.nanmean(R, axis=0, keepdims=True)\n",
        "mean_of_means = (row_means + col_means) / 2\n",
        "R_filled_row_col_mean = np.where(np.isnan(R), mean_of_means, R)\n",
        "\n",
        "print(\"Méthode 3: \\n\", R_filled_row_col_mean)\n",
        "print()"
      ]
    },
    {
      "cell_type": "markdown",
      "metadata": {
        "id": "a43M_-VLZ-eB"
      },
      "source": [
        "### C)\n",
        "\n",
        "<b> Mise en contexte: </b>\n",
        "\n",
        "Il faut maintenant effectuer une validation croisée à 5 replis en échantillonnant aléatoirement 5 ensembles de rendez-vous parmi les 100 000 rendez-vous observés qui serviront tour à tour d’ensemble de test, les autres étant utilisées pour l’entraînement (estimation des matrices de factorisation).\n",
        "\n",
        "Pour ce faire, utilisez la fonction <code>validation_croisee_replis()</code> qui effectue une validation croisée par replis de la factorisation SVD et retourne l’erreur quadratique moyenne. Elle utilise une matrice, <code>echantillonReplis</code>, dont chaque ligne contient l’indice des observations de test pour chaque \"replis\" et qui est créée plus loin.\n",
        "\n",
        "Utilisez la variable <code>valeurs_observees</code> (obtenue à l'aide de la matrice créer dans la partie \"A\" ci-dessus) et la fonction <code>random.choice()</code> de numpy.\n",
        "\n",
        "Affichez les dimensions de l'échantillon, vous devriez avoir (5, 19389). <b> (1 point) </b>\n"
      ]
    },
    {
      "cell_type": "code",
      "execution_count": null,
      "metadata": {
        "id": "F9W1kpUqlABV"
      },
      "outputs": [],
      "source": [
        "from validation_croisee import validation_croisee_replis, validation_croisee"
      ]
    },
    {
      "cell_type": "code",
      "execution_count": null,
      "metadata": {
        "colab": {
          "base_uri": "https://localhost:8080/"
        },
        "id": "IhyVILpNLj57",
        "outputId": "87816b2b-f6ae-4435-b1b1-857644ba6064"
      },
      "outputs": [
        {
          "name": "stdout",
          "output_type": "stream",
          "text": [
            "Dimensions of echantillonReplis: (5, 19389)\n"
          ]
        }
      ],
      "source": [
        "n_dimensions = 14\n",
        "nombre_replis = 5\n",
        "valeurs_observees = ~np.isnan(R)\n",
        "\n",
        "#TODO:\n",
        "\n",
        "# Get the indices of observed values\n",
        "observed_indices = np.where(valeurs_observees)\n",
        "\n",
        "# Determine the sample size for each fold\n",
        "sample_size = min(np.sum(valeurs_observees), np.sum(valeurs_observees) // nombre_replis)\n",
        "\n",
        "# Sample indices for each fold\n",
        "echantillon_replis = np.random.choice(np.arange(np.sum(valeurs_observees)), size=(nombre_replis, sample_size), replace=False)\n",
        "\n",
        "# Output the dimensions of echantillonReplis\n",
        "print(\"Dimensions of echantillonReplis:\", echantillon_replis.shape)"
      ]
    },
    {
      "cell_type": "markdown",
      "metadata": {
        "id": "U_a-rkWVEdPz"
      },
      "source": [
        "### D)\n",
        "\n",
        "Pour chacune des 3 méthodes d'imputation utilisées précédemment, affichez le résultat de la validation croisée. <b> (0.5 point) </b>\n",
        "\n",
        "Les résultats qui seront affichés pour chaque méthode devraient être similaire à ceux-ci:\n",
        "1. Méthode 1 : array([3.07936543 2.97096366 3.00239858 2.98364498 3.07552508]).\n",
        "\n",
        "2. Méthode 2 : array([1.35600187 1.36579327 1.37056779 1.35480193 1.3561739]).\n",
        "\n",
        "3. Méthode 3 : array([1.34846446 1.36657222 1.3627661  1.3456932  1.34794998]).\n"
      ]
    },
    {
      "cell_type": "code",
      "execution_count": null,
      "metadata": {
        "id": "2aza_6nOt3hH"
      },
      "outputs": [],
      "source": [
        "#TODO: Méthode 1\n",
        "\n",
        "method1_results = validation_croisee_replis(R, R_filled_random, echantillon_replis, valeurs_observees, n_dimensions)"
      ]
    },
    {
      "cell_type": "code",
      "execution_count": null,
      "metadata": {
        "id": "ZACsm6v35USK"
      },
      "outputs": [],
      "source": [
        "#TODO: Méthode 2\n",
        "\n",
        "method2_results = validation_croisee_replis(R, R_filled_row_mean, echantillon_replis, valeurs_observees, n_dimensions)"
      ]
    },
    {
      "cell_type": "code",
      "execution_count": null,
      "metadata": {
        "id": "c1q5EWgs9j9q"
      },
      "outputs": [],
      "source": [
        "#TODO: Méthode 3\n",
        "\n",
        "method3_results = validation_croisee_replis(R, R_filled_row_col_mean, echantillon_replis, valeurs_observees, n_dimensions)\n"
      ]
    },
    {
      "cell_type": "code",
      "execution_count": null,
      "metadata": {
        "colab": {
          "base_uri": "https://localhost:8080/"
        },
        "id": "6grrN80AlABW",
        "outputId": "1225cea4-6016-4dbb-eeb2-2a7b00375cac"
      },
      "outputs": [
        {
          "name": "stdout",
          "output_type": "stream",
          "text": [
            "Méthode 1 : \n",
            "[3.07936543 2.97096366 3.00239858 2.98364498 3.07552508]\n",
            "Méthode 2 : \n",
            "[1.35600187 1.36579327 1.37056779 1.35480193 1.3561739 ]\n",
            "Méthode 3 : \n",
            "[1.34846446 1.36657222 1.3627661  1.3456932  1.34794998]\n"
          ]
        }
      ],
      "source": [
        "print (\"Méthode 1 : \")\n",
        "print(method1_results)\n",
        "print (\"Méthode 2 : \")\n",
        "print(method2_results)\n",
        "print (\"Méthode 3 : \")\n",
        "print(method3_results)"
      ]
    },
    {
      "cell_type": "markdown",
      "metadata": {
        "id": "74bX_g0nmoPd"
      },
      "source": [
        "Affichez les résultats de la validation croisée pour chaque méthode (Méthode 1, Méthode 2, Méthode 3) sur un seul graphique en boîte à moustaches (boxplot). <b> (2 points) </b>"
      ]
    },
    {
      "cell_type": "code",
      "execution_count": null,
      "metadata": {
        "colab": {
          "base_uri": "https://localhost:8080/",
          "height": 472
        },
        "id": "9138EwEdlABW",
        "outputId": "31b50f62-3356-4025-89d5-37c50940baa2"
      },
      "outputs": [
        {
          "name": "stderr",
          "output_type": "stream",
          "text": [
            "C:\\Users\\abdoj\\AppData\\Local\\Temp\\ipykernel_2324\\107265810.py:8: MatplotlibDeprecationWarning: The 'labels' parameter of boxplot() has been renamed 'tick_labels' since Matplotlib 3.9; support for the old name will be dropped in 3.11.\n",
            "  plt.boxplot(all_results, labels=[\"Méthode 1\", \"Méthode 2\", \"Méthode 3\"])\n"
          ]
        },
        {
          "data": {
            "image/png": "[encoded data removed]",
            "text/plain": [
              "<Figure size 640x480 with 1 Axes>"
            ]
          },
          "metadata": {},
          "output_type": "display_data"
        }
      ],
      "source": [
        "# TODO:\n",
        "import matplotlib.pyplot as plt\n",
        "\n",
        "# Combine results into a single list\n",
        "all_results = [method1_results, method2_results, method3_results]\n",
        "\n",
        "# Plotting the results\n",
        "plt.boxplot(all_results, labels=[\"Méthode 1\", \"Méthode 2\", \"Méthode 3\"])\n",
        "plt.title(\"Cross-validation Results\")\n",
        "plt.xlabel(\"Imputation Method\")\n",
        "plt.ylabel(\"Error Quadratique\")\n",
        "plt.show()\n"
      ]
    },
    {
      "cell_type": "markdown",
      "metadata": {
        "id": "0W2AvdW8a_J_"
      },
      "source": [
        "### E)\n",
        "Explorez le nombre de dimensions qui est optimal par visualisation de la performance prédictive en fonction du nombre de dimensions. Prenez la moyenne par ligne et colonne comme imputation et cet ensemble de dimensions à explorer : (2, 4, 8, 10, 15, 20, 40). N’utilisez qu’un échantillon de données.  <b>(1 point)</b>\n",
        "\n",
        "Pour ce faire:\n",
        "1. Calculez l'erreur quadratique pour chaque dimension.\n",
        "2. Affichez dans un graphique l'erreur quadratique selon le nombre de dimensions.\n",
        "\n",
        "*Note: Le graphique doit utiliser des marqueurs de type 'o' et un style de ligne '-'. N'oubliez pas de nommer les axes et de donner un titre.*\n",
        "\n"
      ]
    },
    {
      "cell_type": "code",
      "execution_count": null,
      "metadata": {
        "id": "SjVYk0b2-gEY"
      },
      "outputs": [],
      "source": [
        "import matplotlib.pyplot as plt"
      ]
    },
    {
      "cell_type": "code",
      "execution_count": null,
      "metadata": {
        "colab": {
          "base_uri": "https://localhost:8080/",
          "height": 493
        },
        "id": "C11T9-vKMLmE",
        "outputId": "ae9d70eb-2688-4ee9-8792-25aff8627ee3"
      },
      "outputs": [
        {
          "data": {
            "image/png": "[encoded data removed]",
            "text/plain": [
              "<Figure size 640x480 with 1 Axes>"
            ]
          },
          "metadata": {},
          "output_type": "display_data"
        }
      ],
      "source": [
        "#TODO:\n",
        "\n",
        "dimensions = [2, 4, 8, 10, 15, 20, 40]\n",
        "err_quad = [validation_croisee(R, R_filled_row_col_mean, echantillon_replis[0], valeurs_observees, ndim) for ndim in dimensions]\n",
        "\n",
        "plt.plot(dimensions, err_quad, marker='o', linestyle='-', color='b')\n",
        "plt.title(\"Erreur quadratique moyenne\\nen fonction du nombre de dimensions\")\n",
        "plt.xlabel(\"Nombre de dimensions\")\n",
        "plt.ylabel(\"Erreur Quadratique\")\n",
        "plt.grid(True)\n",
        "plt.show()"
      ]
    },
    {
      "cell_type": "markdown",
      "metadata": {
        "id": "0cHD2zjooFb9"
      },
      "source": [
        "## Probabilités bayésiennes\n",
        "\n",
        "<b> Mise en contexte : </b>\n",
        "\n",
        "La seconde approche de prédiction est basée sur les probabilités conditionnelles avec des ratios de vraisemblance. Ces calculs nécessitent des tableaux de contingences entre deux variables, la variable à prédire et le facteur de prédiction. Nous voudrons prédire si un individu est susceptible de recommender un docteur en fonction de trois variables, son sexe, son âge et sa condition de santé. Il nous faut donc créer les tableaux suivants.\n",
        "\n",
        "\n",
        "### F)\n",
        "\n",
        "Créez un tableau des données de rendez-vous et des patients.\n",
        "\n",
        "Pour ce faire:\n",
        "1. Renommez la colonne \"patients.id\" du DataFrame appointments par \"id \".\n",
        "2. Faites un left-join de nouveau DataFrame créé avec le DataFrame des patients.\n",
        "3. Enlevez les colonnes \"date\" et \" zip\".\n",
        "4. Ajoutez une nouvelle colonne \"recommande\" qui est à True si le \"niveau.recommandation\" est supérieur à 4.\n",
        "\n",
        "Affichez le nouveau tableau. <b> (1 point) </b>"
      ]
    },
    {
      "cell_type": "code",
      "execution_count": null,
      "metadata": {
        "colab": {
          "base_uri": "https://localhost:8080/",
          "height": 424
        },
        "id": "PLfteMRIoxsK",
        "outputId": "391a8fc6-4b21-4592-c5e1-22b63a738b46"
      },
      "outputs": [
        {
          "data": {
            "text/html": [
              "<div>\n",
              "<style scoped>\n",
              "    .dataframe tbody tr th:only-of-type {\n",
              "        vertical-align: middle;\n",
              "    }\n",
              "\n",
              "    .dataframe tbody tr th {\n",
              "        vertical-align: top;\n",
              "    }\n",
              "\n",
              "    .dataframe thead th {\n",
              "        text-align: right;\n",
              "    }\n",
              "</style>\n",
              "<table border=\"1\" class=\"dataframe\">\n",
              "  <thead>\n",
              "    <tr style=\"text-align: right;\">\n",
              "      <th></th>\n",
              "      <th>id</th>\n",
              "      <th>doctor.id</th>\n",
              "      <th>niveau.recommandation</th>\n",
              "      <th>age</th>\n",
              "      <th>gender</th>\n",
              "      <th>condition</th>\n",
              "      <th>recommande</th>\n",
              "    </tr>\n",
              "  </thead>\n",
              "  <tbody>\n",
              "    <tr>\n",
              "      <th>0</th>\n",
              "      <td>938</td>\n",
              "      <td>588</td>\n",
              "      <td>4</td>\n",
              "      <td>38</td>\n",
              "      <td>M</td>\n",
              "      <td>Asthma</td>\n",
              "      <td>False</td>\n",
              "    </tr>\n",
              "    <tr>\n",
              "      <th>1</th>\n",
              "      <td>81</td>\n",
              "      <td>1083</td>\n",
              "      <td>4</td>\n",
              "      <td>70</td>\n",
              "      <td>M</td>\n",
              "      <td>Hypertension</td>\n",
              "      <td>False</td>\n",
              "    </tr>\n",
              "    <tr>\n",
              "      <th>2</th>\n",
              "      <td>890</td>\n",
              "      <td>1144</td>\n",
              "      <td>2</td>\n",
              "      <td>62</td>\n",
              "      <td>F</td>\n",
              "      <td>Asthma</td>\n",
              "      <td>False</td>\n",
              "    </tr>\n",
              "    <tr>\n",
              "      <th>3</th>\n",
              "      <td>428</td>\n",
              "      <td>18</td>\n",
              "      <td>5</td>\n",
              "      <td>56</td>\n",
              "      <td>F</td>\n",
              "      <td>Hypertension</td>\n",
              "      <td>True</td>\n",
              "    </tr>\n",
              "    <tr>\n",
              "      <th>4</th>\n",
              "      <td>483</td>\n",
              "      <td>1130</td>\n",
              "      <td>5</td>\n",
              "      <td>27</td>\n",
              "      <td>M</td>\n",
              "      <td>Healthy</td>\n",
              "      <td>True</td>\n",
              "    </tr>\n",
              "    <tr>\n",
              "      <th>...</th>\n",
              "      <td>...</td>\n",
              "      <td>...</td>\n",
              "      <td>...</td>\n",
              "      <td>...</td>\n",
              "      <td>...</td>\n",
              "      <td>...</td>\n",
              "      <td>...</td>\n",
              "    </tr>\n",
              "    <tr>\n",
              "      <th>96943</th>\n",
              "      <td>351</td>\n",
              "      <td>435</td>\n",
              "      <td>4</td>\n",
              "      <td>52</td>\n",
              "      <td>F</td>\n",
              "      <td>Asthma</td>\n",
              "      <td>False</td>\n",
              "    </tr>\n",
              "    <tr>\n",
              "      <th>96944</th>\n",
              "      <td>187</td>\n",
              "      <td>1246</td>\n",
              "      <td>3</td>\n",
              "      <td>71</td>\n",
              "      <td>F</td>\n",
              "      <td>Healthy</td>\n",
              "      <td>False</td>\n",
              "    </tr>\n",
              "    <tr>\n",
              "      <th>96945</th>\n",
              "      <td>748</td>\n",
              "      <td>560</td>\n",
              "      <td>5</td>\n",
              "      <td>49</td>\n",
              "      <td>M</td>\n",
              "      <td>Healthy</td>\n",
              "      <td>True</td>\n",
              "    </tr>\n",
              "    <tr>\n",
              "      <th>96946</th>\n",
              "      <td>285</td>\n",
              "      <td>1429</td>\n",
              "      <td>3</td>\n",
              "      <td>41</td>\n",
              "      <td>F</td>\n",
              "      <td>Asthma</td>\n",
              "      <td>False</td>\n",
              "    </tr>\n",
              "    <tr>\n",
              "      <th>96947</th>\n",
              "      <td>817</td>\n",
              "      <td>923</td>\n",
              "      <td>3</td>\n",
              "      <td>27</td>\n",
              "      <td>F</td>\n",
              "      <td>Healthy</td>\n",
              "      <td>False</td>\n",
              "    </tr>\n",
              "  </tbody>\n",
              "</table>\n",
              "<p>96948 rows × 7 columns</p>\n",
              "</div>"
            ],
            "text/plain": [
              "        id  doctor.id  niveau.recommandation  age gender     condition  \\\n",
              "0      938        588                      4   38      M        Asthma   \n",
              "1       81       1083                      4   70      M  Hypertension   \n",
              "2      890       1144                      2   62      F        Asthma   \n",
              "3      428         18                      5   56      F  Hypertension   \n",
              "4      483       1130                      5   27      M       Healthy   \n",
              "...    ...        ...                    ...  ...    ...           ...   \n",
              "96943  351        435                      4   52      F        Asthma   \n",
              "96944  187       1246                      3   71      F       Healthy   \n",
              "96945  748        560                      5   49      M       Healthy   \n",
              "96946  285       1429                      3   41      F        Asthma   \n",
              "96947  817        923                      3   27      F       Healthy   \n",
              "\n",
              "       recommande  \n",
              "0           False  \n",
              "1           False  \n",
              "2           False  \n",
              "3            True  \n",
              "4            True  \n",
              "...           ...  \n",
              "96943       False  \n",
              "96944       False  \n",
              "96945        True  \n",
              "96946       False  \n",
              "96947       False  \n",
              "\n",
              "[96948 rows x 7 columns]"
            ]
          },
          "execution_count": 16,
          "metadata": {},
          "output_type": "execute_result"
        }
      ],
      "source": [
        "# TODO:\n",
        "# Attention aux espaces dans les noms de colonnes\n",
        "\n",
        "# Renommez la colonne \"patients.id\" du DataFrame appointments par \"id \"\n",
        "u_data_renamed = df_appointments.rename(columns={'patient.id': 'id'})\n",
        "\n",
        "# Faites un left-join de nouveau DataFrame créé avec le DataFrame des patients\n",
        "votes = pd.merge(u_data_renamed, df_patients, on='id', how='left')\n",
        "\n",
        "# Enlevez les colonnes \"date\" et \" zip\"\n",
        "votes = votes.drop(columns=['date', ' zip'])\n",
        "\n",
        "# Ajoutez une nouvelle colonne \"recommande\" qui est à True si le \"niveau.recommandation\" est supérieur à 4\n",
        "votes['recommande'] = votes['niveau.recommandation'] > 4\n",
        "votes"
      ]
    },
    {
      "cell_type": "markdown",
      "metadata": {
        "id": "gKsyXKMNzfGo"
      },
      "source": [
        "### G)\n",
        "\n",
        "Créez un nouveau tableau \"recommande_gender\" qui présente la proportion de patients qui recommande ou qui ne recommande pas un docteur.\n",
        "\n",
        "Pour ce faire :\n",
        "1. À partir du DataFrame \"appointments\", regroupez les données par \"doctor.id\" et par \"gender\".\n",
        "2. Appliquez la fonction \"recommande_tbl\" sur la colonne \"recommande\" et réinitialisez l'index.\n",
        "3. Créez un \"pivot table\" dont l'index est \"doctor.id\", la colonne est \" gender \", les valeurs sont \"recommande\" et \"recommandePas\", puis utilisez la sommation comme fonction d'agrégation.\n",
        "4. Créez une colonne \"LS\" à l'aide de la fonction \"ratio_vraisemblance\" qui contient le résultat du ratio de vraisemblance. Voici les paramètres à donner à cette fonction :\n",
        "  - EH:  recommande_gender[('recommande', 'F')]\n",
        "  - EnH: recommande_gender[('recommandePas', 'F')]\n",
        "  - nEH: recommande_gender[('recommande', 'M')]\n",
        "  - nEnH: recommande_gender[('recommandePas', 'M')]\n",
        "\n",
        "*Note: La valeur LS de votre 1ère ligne devrait être environ 1.147059.*\n",
        "\n",
        "Affichez le nouveau DataFrame. <b> (1 point) </b>\n"
      ]
    },
    {
      "cell_type": "code",
      "execution_count": null,
      "metadata": {
        "id": "ATrGw5Z4zZ0V"
      },
      "outputs": [],
      "source": [
        "def recommande_tbl(x):\n",
        "    return pd.DataFrame({'recommande': [sum(x)], 'recommandePas': [sum(1-x)]})\n",
        "\n",
        "def ratio_vraisemblance(EH, EnH, nEH, nEnH):\n",
        "    return ((EH+1)/(EH+nEH+2))/((EnH+1)/(EnH+nEnH+2))"
      ]
    },
    {
      "cell_type": "code",
      "execution_count": null,
      "metadata": {
        "colab": {
          "base_uri": "https://localhost:8080/",
          "height": 455
        },
        "id": "ULstOHKbyYNm",
        "outputId": "4085994e-fb52-49b4-e213-97b98749aade"
      },
      "outputs": [
        {
          "data": {
            "text/html": [
              "<div>\n",
              "<style scoped>\n",
              "    .dataframe tbody tr th:only-of-type {\n",
              "        vertical-align: middle;\n",
              "    }\n",
              "\n",
              "    .dataframe tbody tr th {\n",
              "        vertical-align: top;\n",
              "    }\n",
              "\n",
              "    .dataframe thead tr th {\n",
              "        text-align: left;\n",
              "    }\n",
              "</style>\n",
              "<table border=\"1\" class=\"dataframe\">\n",
              "  <thead>\n",
              "    <tr>\n",
              "      <th></th>\n",
              "      <th>doctor.id</th>\n",
              "      <th colspan=\"2\" halign=\"left\">recommande</th>\n",
              "      <th colspan=\"2\" halign=\"left\">recommandePas</th>\n",
              "      <th>LS</th>\n",
              "    </tr>\n",
              "    <tr>\n",
              "      <th>gender</th>\n",
              "      <th></th>\n",
              "      <th>F</th>\n",
              "      <th>M</th>\n",
              "      <th>F</th>\n",
              "      <th>M</th>\n",
              "      <th></th>\n",
              "    </tr>\n",
              "  </thead>\n",
              "  <tbody>\n",
              "    <tr>\n",
              "      <th>0</th>\n",
              "      <td>1</td>\n",
              "      <td>9</td>\n",
              "      <td>9</td>\n",
              "      <td>16</td>\n",
              "      <td>21</td>\n",
              "      <td>1.147059</td>\n",
              "    </tr>\n",
              "    <tr>\n",
              "      <th>1</th>\n",
              "      <td>2</td>\n",
              "      <td>5</td>\n",
              "      <td>4</td>\n",
              "      <td>16</td>\n",
              "      <td>25</td>\n",
              "      <td>1.379679</td>\n",
              "    </tr>\n",
              "    <tr>\n",
              "      <th>2</th>\n",
              "      <td>3</td>\n",
              "      <td>5</td>\n",
              "      <td>1</td>\n",
              "      <td>21</td>\n",
              "      <td>23</td>\n",
              "      <td>1.568182</td>\n",
              "    </tr>\n",
              "    <tr>\n",
              "      <th>3</th>\n",
              "      <td>4</td>\n",
              "      <td>10</td>\n",
              "      <td>8</td>\n",
              "      <td>30</td>\n",
              "      <td>26</td>\n",
              "      <td>1.029032</td>\n",
              "    </tr>\n",
              "    <tr>\n",
              "      <th>4</th>\n",
              "      <td>5</td>\n",
              "      <td>3</td>\n",
              "      <td>10</td>\n",
              "      <td>25</td>\n",
              "      <td>19</td>\n",
              "      <td>0.471795</td>\n",
              "    </tr>\n",
              "    <tr>\n",
              "      <th>...</th>\n",
              "      <td>...</td>\n",
              "      <td>...</td>\n",
              "      <td>...</td>\n",
              "      <td>...</td>\n",
              "      <td>...</td>\n",
              "      <td>...</td>\n",
              "    </tr>\n",
              "    <tr>\n",
              "      <th>1677</th>\n",
              "      <td>1678</td>\n",
              "      <td>4</td>\n",
              "      <td>1</td>\n",
              "      <td>18</td>\n",
              "      <td>22</td>\n",
              "      <td>1.578947</td>\n",
              "    </tr>\n",
              "    <tr>\n",
              "      <th>1678</th>\n",
              "      <td>1679</td>\n",
              "      <td>8</td>\n",
              "      <td>12</td>\n",
              "      <td>16</td>\n",
              "      <td>26</td>\n",
              "      <td>1.058824</td>\n",
              "    </tr>\n",
              "    <tr>\n",
              "      <th>1679</th>\n",
              "      <td>1680</td>\n",
              "      <td>10</td>\n",
              "      <td>5</td>\n",
              "      <td>23</td>\n",
              "      <td>21</td>\n",
              "      <td>1.240196</td>\n",
              "    </tr>\n",
              "    <tr>\n",
              "      <th>1680</th>\n",
              "      <td>1681</td>\n",
              "      <td>4</td>\n",
              "      <td>3</td>\n",
              "      <td>26</td>\n",
              "      <td>19</td>\n",
              "      <td>0.967078</td>\n",
              "    </tr>\n",
              "    <tr>\n",
              "      <th>1681</th>\n",
              "      <td>1682</td>\n",
              "      <td>4</td>\n",
              "      <td>4</td>\n",
              "      <td>20</td>\n",
              "      <td>25</td>\n",
              "      <td>1.119048</td>\n",
              "    </tr>\n",
              "  </tbody>\n",
              "</table>\n",
              "<p>1682 rows × 6 columns</p>\n",
              "</div>"
            ],
            "text/plain": [
              "       doctor.id recommande     recommandePas            LS\n",
              "gender                    F   M             F   M          \n",
              "0              1          9   9            16  21  1.147059\n",
              "1              2          5   4            16  25  1.379679\n",
              "2              3          5   1            21  23  1.568182\n",
              "3              4         10   8            30  26  1.029032\n",
              "4              5          3  10            25  19  0.471795\n",
              "...          ...        ...  ..           ...  ..       ...\n",
              "1677        1678          4   1            18  22  1.578947\n",
              "1678        1679          8  12            16  26  1.058824\n",
              "1679        1680         10   5            23  21  1.240196\n",
              "1680        1681          4   3            26  19  0.967078\n",
              "1681        1682          4   4            20  25  1.119048\n",
              "\n",
              "[1682 rows x 6 columns]"
            ]
          },
          "execution_count": 22,
          "metadata": {},
          "output_type": "execute_result"
        }
      ],
      "source": [
        "# TODO:\n",
        "# Solution des points 1, 2 et 3\n",
        "recommande_gender = votes.groupby(['doctor.id', 'gender'])['recommande'] \\\n",
        "                   .apply(recommande_tbl) \\\n",
        "                   .reset_index() \\\n",
        "                   .pivot_table(index='doctor.id', columns='gender', values=['recommande', 'recommandePas'], aggfunc='sum')\n",
        "\n",
        "# Créez une colonne \"LS\" à l'aide de la fonction \"ratio_vraisemblance\" qui contient le résultat du ratio de vraisemblance.\n",
        "recommande_gender['LS'] = ratio_vraisemblance(recommande_gender[('recommande', 'F')], recommande_gender[('recommandePas', 'F')], recommande_gender[('recommande', 'M')], recommande_gender[('recommandePas', 'M')])\n",
        "\n",
        "# Reset index to get a flat DataFrame\n",
        "recommande_gender = recommande_gender.reset_index()\n",
        "recommande_gender"
      ]
    },
    {
      "cell_type": "markdown",
      "metadata": {
        "id": "zYaydJTm8gok"
      },
      "source": [
        "### H)\n",
        "Affichez dans un graphique à barres la valeur LS pour les dix premiers \"doctor.id\" en utilisant le tableau \"recommande_gender\". <b> (0.5 point) </b>\n",
        "\n",
        "*Note: N'oubliez pas de nommer vos axes et votre graphique.*"
      ]
    },
    {
      "cell_type": "code",
      "execution_count": null,
      "metadata": {
        "colab": {
          "base_uri": "https://localhost:8080/",
          "height": 564
        },
        "id": "ibJPkWa-382w",
        "outputId": "f19a744a-a0da-461f-e05f-37ab706e7422"
      },
      "outputs": [
        {
          "data": {
            "image/png": "[encoded data removed]",
            "text/plain": [
              "<Figure size 800x600 with 1 Axes>"
            ]
          },
          "metadata": {},
          "output_type": "display_data"
        }
      ],
      "source": [
        "import matplotlib.pyplot as plt\n",
        "\n",
        "# TODO:\n",
        "\n",
        "# Sous-ensemble du DataFrame recommande_gender pour n'inclure que les dix premiers \"doctor.id\"\n",
        "doctor_range = [i for i in range (11)]\n",
        "recommande_gender_subset = recommande_gender[recommande_gender['doctor.id'].isin(doctor_range)]\n",
        "\n",
        "# Plot les valeurs LS pour les dix premiers \"doctor.id\"\n",
        "plt.figure(figsize=(8, 6))\n",
        "plt.bar(recommande_gender_subset['doctor.id'], recommande_gender_subset['LS'], color='skyblue')\n",
        "plt.title('LS Values for First Three Items')\n",
        "plt.xlabel('Doctor ID')\n",
        "plt.ylabel('LS Value')\n",
        "plt.xticks(recommande_gender_subset['doctor.id'])\n",
        "plt.grid(axis='y', linestyle='--', alpha=0.7)\n",
        "plt.show()"
      ]
    },
    {
      "cell_type": "markdown",
      "metadata": {
        "id": "0rT7_Mm0OIaD"
      },
      "source": [
        "## 3. LIVRABLES\n",
        "Vous devez remettre sur Moodle un fichier compressé .zip contenant :\n",
        "\n",
        "1) Le code : Un Jupyter notebook en Python qui contient le code tel implanté avec les librairies minimales demandées pour ce TP (Python, Pandas, Matplotlib). Le code doit être exécutable sans erreur et accompagné des commentaires appropriés dans le notebook de manière. Tous vos résultats doivent être reproductibles avec le code dans le notebook. *Attention, en aucun cas votre code ne doit avoir été copié de d'ailleurs.*\n",
        "\n",
        "2) Un fichier pdf représentant votre notebook complètement exécuté sous format pdf (obtenu via latex ou imprimé en pdf avec le navigateur). Assurez-vous que le PDF est entièrement lisible. [Tutoriel youtube](https://www.youtube.com/watch?v=-Ti9Mm21uVc)\n",
        "\n",
        "ATTENTION: assurez-vous que votre fichier compressé .zip ne dépasse pas la taille limite acceptée sur Moodle.\n"
      ]
    },
    {
      "cell_type": "markdown",
      "metadata": {
        "id": "JkxB1hfwRQw9"
      },
      "source": [
        "__ÉVALUATION__ <br>\n",
        "Votre TP sera évalué sur les points suivants :\n",
        "\n",
        "__Critères :__\n",
        "1. Implantation correcte et efficace\n",
        "2. Qualité du code (noms significatifs, structure, performance, gestion d’exception, etc.) <b>(1 point)</b>\n",
        "3. Réponses correctes/sensées aux questions de réflexion ou d'analyse\n",
        "\n",
        "__CODE D’HONNEUR__\n",
        "- __Règle 1__:  Le plagiat de code est bien évidemment interdit. Toute utilisation de code doit être référencée adéquatement. Vous __ne pouvez pas__ soumettre un code, écrit par quelqu’un d’autre. Dans le cas contraire, cela sera considéré comme du plagiat.\n",
        "- __Règle 2__: Vous êtes libres de discuter avec d'autres équipes. Cependant, vous ne pouvez en aucun cas incorporer leur code dans votre TP.\n",
        "- __Règle 3__:  Vous ne pouvez pas partager votre code publiquement."
      ]
    },
    {
      "cell_type": "markdown",
      "metadata": {
        "id": "6B9vE0FUSGFP"
      },
      "source": [
        "### Conversion en PDF sur Google Colab"
      ]
    },
    {
      "cell_type": "code",
      "execution_count": null,
      "metadata": {
        "id": "Iig7VzFFN11u"
      },
      "outputs": [],
      "source": [
        "%%capture\n",
        "!sudo apt-get install texlive-xetex texlive-fonts-recommended texlive-plain-generic"
      ]
    },
    {
      "cell_type": "markdown",
      "metadata": {
        "id": "tz0BpqmcU9ZA"
      },
      "source": [
        "Assurez vous d'avoir téléchargé le TP complété en notebook sur votre ordinateur, puis importé ce fichier dans le répertoire \"content\" avant de rouler la ligne suivante."
      ]
    },
    {
      "cell_type": "code",
      "execution_count": null,
      "metadata": {
        "id": "OPSlcCFrSqik"
      },
      "outputs": [],
      "source": [
        "!jupyter nbconvert --to pdf /content/TP1.ipynb"
      ]
    }
  ],
  "metadata": {
    "colab": {
      "provenance": []
    },
    "kernelspec": {
      "display_name": "Python 3",
      "name": "python3"
    },
    "language_info": {
      "codemirror_mode": {
        "name": "ipython",
        "version": 3
      },
      "file_extension": ".py",
      "mimetype": "text/x-python",
      "name": "python",
      "nbconvert_exporter": "python",
      "pygments_lexer": "ipython3",
      "version": "3.11.9"
    }
  },
  "nbformat": 4,
  "nbformat_minor": 0
}