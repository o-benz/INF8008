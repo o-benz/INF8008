{
  "cells": [
    {
      "cell_type": "markdown",
      "metadata": {
        "id": "th8R6iFhsz79"
      },
      "source": [
        "\n",
        "\n",
        "## <center> Polytechnique Montréal <br> Département Génie Informatique et Génie Logiciel <br>  INF8008 – Prétraitement de données <br> . <br> TP3  - Échantillonnage et imputations <br>  Hiver 2025 <br> . <br> 17 février 2025 </center>"
      ]
    },
    {
      "cell_type": "markdown",
      "metadata": {
        "id": "4-uCAmWYtjG8"
      },
      "source": [
        "## Introduction\n",
        "\n",
        "Le TP3 porte principalement sur l'échantillonnage et l'imputation, mais nous aborderons tout de même l'agrégation, la tabulation, le remodelage, le pivotement et les statistiques descriptives.  <b> Nous survolons l'utilisation de fonctions de base de Pandas et de l'analyse de données numériques. </b>\n",
        "\n",
        "Dans ce travail, vous aurez à utiliser les données des deux fichiers .csv suivants :\n",
        "\n",
        " - <b> appointments.csv </b> : Matrice de données de 100 000 rendez-vous faits par 943 patients et portant sur 1682 docteurs;\n",
        " - <b> patients.csv </b> : Matrice de données sur les patients.\n",
        "\n",
        "Ces données ont été générées synthétiquement par un grand modèle de langage pour approximer les interactions réelles dans le domaine des soins de santé tout en garantissant la confidentialité des données.\n",
        "\n"
      ]
    },
    {
      "cell_type": "markdown",
      "metadata": {
        "id": "jSAmD2Iuuxds"
      },
      "source": [
        "Voici les librairies python qui seront à utiliser pour ce TP :\n",
        "- [matplotlib](https://matplotlib.org/stable/users/explain/quick_start.html)\n",
        "- [numpy](https://numpy.org/doc/stable/user/basics.html)\n",
        "- [pandas](https://pandas.pydata.org/docs/user_guide/index.html)\n",
        "\n",
        "\n",
        "\n"
      ]
    },
    {
      "cell_type": "code",
      "execution_count": 1,
      "metadata": {
        "id": "Yowt8NL4v29E"
      },
      "outputs": [],
      "source": [
        "import pandas as pd\n",
        "import numpy as np"
      ]
    },
    {
      "cell_type": "code",
      "execution_count": 2,
      "metadata": {
        "id": "pVLjUZbts_z6"
      },
      "outputs": [],
      "source": [
        "df_appointments = pd.read_csv('appointments.csv')\n",
        "df_patients = pd.read_csv('patients.csv')"
      ]
    },
    {
      "cell_type": "code",
      "execution_count": 3,
      "metadata": {
        "colab": {
          "base_uri": "https://localhost:8080/",
          "height": 424
        },
        "id": "3q1QiA8zOcuV",
        "outputId": "e990a6e9-5b02-4b60-9ef4-4f37ab1cc018"
      },
      "outputs": [
        {
          "data": {
            "text/html": [
              "<div>\n",
              "<style scoped>\n",
              "    .dataframe tbody tr th:only-of-type {\n",
              "        vertical-align: middle;\n",
              "    }\n",
              "\n",
              "    .dataframe tbody tr th {\n",
              "        vertical-align: top;\n",
              "    }\n",
              "\n",
              "    .dataframe thead th {\n",
              "        text-align: right;\n",
              "    }\n",
              "</style>\n",
              "<table border=\"1\" class=\"dataframe\">\n",
              "  <thead>\n",
              "    <tr style=\"text-align: right;\">\n",
              "      <th></th>\n",
              "      <th>patient.id</th>\n",
              "      <th>doctor.id</th>\n",
              "      <th>niveau.recommandation</th>\n",
              "      <th>date</th>\n",
              "    </tr>\n",
              "  </thead>\n",
              "  <tbody>\n",
              "    <tr>\n",
              "      <th>0</th>\n",
              "      <td>938</td>\n",
              "      <td>588</td>\n",
              "      <td>4</td>\n",
              "      <td>2021-01-15</td>\n",
              "    </tr>\n",
              "    <tr>\n",
              "      <th>1</th>\n",
              "      <td>81</td>\n",
              "      <td>1083</td>\n",
              "      <td>4</td>\n",
              "      <td>2021-11-26</td>\n",
              "    </tr>\n",
              "    <tr>\n",
              "      <th>2</th>\n",
              "      <td>890</td>\n",
              "      <td>1144</td>\n",
              "      <td>2</td>\n",
              "      <td>2021-05-05</td>\n",
              "    </tr>\n",
              "    <tr>\n",
              "      <th>3</th>\n",
              "      <td>428</td>\n",
              "      <td>18</td>\n",
              "      <td>5</td>\n",
              "      <td>2021-06-09</td>\n",
              "    </tr>\n",
              "    <tr>\n",
              "      <th>4</th>\n",
              "      <td>483</td>\n",
              "      <td>1130</td>\n",
              "      <td>5</td>\n",
              "      <td>2021-01-26</td>\n",
              "    </tr>\n",
              "    <tr>\n",
              "      <th>...</th>\n",
              "      <td>...</td>\n",
              "      <td>...</td>\n",
              "      <td>...</td>\n",
              "      <td>...</td>\n",
              "    </tr>\n",
              "    <tr>\n",
              "      <th>96943</th>\n",
              "      <td>351</td>\n",
              "      <td>435</td>\n",
              "      <td>4</td>\n",
              "      <td>2021-01-12</td>\n",
              "    </tr>\n",
              "    <tr>\n",
              "      <th>96944</th>\n",
              "      <td>187</td>\n",
              "      <td>1246</td>\n",
              "      <td>3</td>\n",
              "      <td>2021-01-05</td>\n",
              "    </tr>\n",
              "    <tr>\n",
              "      <th>96945</th>\n",
              "      <td>748</td>\n",
              "      <td>560</td>\n",
              "      <td>5</td>\n",
              "      <td>2021-06-16</td>\n",
              "    </tr>\n",
              "    <tr>\n",
              "      <th>96946</th>\n",
              "      <td>285</td>\n",
              "      <td>1429</td>\n",
              "      <td>3</td>\n",
              "      <td>2021-05-14</td>\n",
              "    </tr>\n",
              "    <tr>\n",
              "      <th>96947</th>\n",
              "      <td>817</td>\n",
              "      <td>923</td>\n",
              "      <td>3</td>\n",
              "      <td>2021-10-15</td>\n",
              "    </tr>\n",
              "  </tbody>\n",
              "</table>\n",
              "<p>96948 rows × 4 columns</p>\n",
              "</div>"
            ],
            "text/plain": [
              "       patient.id  doctor.id  niveau.recommandation        date\n",
              "0             938        588                      4  2021-01-15\n",
              "1              81       1083                      4  2021-11-26\n",
              "2             890       1144                      2  2021-05-05\n",
              "3             428         18                      5  2021-06-09\n",
              "4             483       1130                      5  2021-01-26\n",
              "...           ...        ...                    ...         ...\n",
              "96943         351        435                      4  2021-01-12\n",
              "96944         187       1246                      3  2021-01-05\n",
              "96945         748        560                      5  2021-06-16\n",
              "96946         285       1429                      3  2021-05-14\n",
              "96947         817        923                      3  2021-10-15\n",
              "\n",
              "[96948 rows x 4 columns]"
            ]
          },
          "execution_count": 3,
          "metadata": {},
          "output_type": "execute_result"
        }
      ],
      "source": [
        "df_appointments"
      ]
    },
    {
      "cell_type": "markdown",
      "metadata": {
        "id": "6zP9EwsKve8l"
      },
      "source": [
        "## Prédiction de recommendations par factorisation de matrice\n",
        "<b> Mise en contexte : </b>\n",
        "\n",
        "Un principe fondamental des systèmes de recommandations est de prédire les rendez-vous des patients aux docteurs qui n’ont pas encore de rendez-vous et sont présumés des candidats à recommander. On recommande alors les docteurs dont les rendez-vous estimés sont les plus élevés. Une méthode très facile à implémenter consiste à factoriser une matrice de rendez-vous dans un espace à dimensions réduites puis à effectuer le produit des matrices factorisées. Ce produit constitue la prédiction des rendez-vous sur la base de réduction de dimensions.\n",
        "\n",
        "Le fichier appointments.csv contient 100 000 rendez-vous de 943 patients pour 1682 docteurs. Il faut, dans un premier temps, créer cette matrice et ensuite la factoriser en un produit de matrices dont le rang est plus petit. Mais la matrice originale contient un grand nombre de valeurs manquantes et il est nécessaire d’effectuer une imputation avant la factorisation par des méthodes analytiques, notamment la méthode de décomposition en valeurs singulières que nous utiliserons (SVD).\n",
        "\n",
        "De plus, il faut aussi effectuer une validation croisée afin de déterminer le bon nombre dimensions pour la factorisation ainsi que s’il est préférable de faire une imputation de valeurs aléatoires, de la moyenne des lignes, ou de la moyenne des lignes et des colonnes.\n",
        "\n",
        "### A)\n",
        "Mettez les données de \"df_appointments\" sous la forme d'une matrice de rendez-vous patients $\\times$ docteurs. <b>(1.5 points)</b>\n",
        "\n",
        "Pour ce faire:\n",
        "1. Retirez la colonne \"date\" du DataFrame \"df_appointments\".\n",
        "2. Triez les données par \"patient.id\" et \"doctor.id\".\n",
        "3. Regroupez les données par \"patient.id\" et faites l'agrégation des \"niveau.recommandation\" pour chaque \"doctor.id\".\n",
        "4. Convertissez en matrice.\n",
        "\n",
        "Affichez les dimensions de la matrice, celle-ci devrait être de \"shape\" (943, 1682)."
      ]
    },
    {
      "cell_type": "code",
      "execution_count": 60,
      "metadata": {
        "id": "6JJzhtUMyzuC"
      },
      "outputs": [
        {
          "name": "stdout",
          "output_type": "stream",
          "text": [
            "Dimensions de la matrice: (943, 1682)\n"
          ]
        }
      ],
      "source": [
        "# Retirer la colonne \"date\"\n",
        "df_app_sans_date = df_appointments.drop(columns=[\"date\"])\n",
        "\n",
        "# Trier les données par \"patient.id\" et \"doctor.id\"\n",
        "df_app_trie = df_app_sans_date.sort_values(by=[\"patient.id\", \"doctor.id\"])\n",
        "\n",
        "# Regrouper les données et convertir en matrice\n",
        "R = df_app_trie.pivot_table(\n",
        "    index=\"patient.id\", \n",
        "    columns=\"doctor.id\", \n",
        "    values=\"niveau.recommandation\"\n",
        ")\n",
        "\n",
        "# Afficher les dimensions de la matrice\n",
        "print(\"Dimensions de la matrice:\", R.shape)"
      ]
    },
    {
      "cell_type": "markdown",
      "metadata": {
        "id": "Pn_swMkLvhWE"
      },
      "source": [
        "\n",
        "### B)\n",
        "Pour factoriser une matrice, elle ne doit contenir aucune valeur manquante.  Imputez (remplacez) les valeurs manquantes (valeurs non observées) dans la matrice créée précédemment selon les trois méthodes suivantes : <b>(2.5 points)</b>  \n",
        "1. Remplacer les \"nan\" par des valeurs aléatoires d'une distribution normale (0,1).\n",
        "2. Remplacer les \"nan\" par la moyenne des lignes.\n",
        "3. Remplacer les \"nan\" par la moyenne des lignes et colonnes.\n",
        "\n",
        "Affichez la matrice obtenue pour chaque méthode.\n",
        "\n"
      ]
    },
    {
      "cell_type": "code",
      "execution_count": 59,
      "metadata": {
        "id": "5oST8x2-vfQh"
      },
      "outputs": [
        {
          "name": "stdout",
          "output_type": "stream",
          "text": [
            "Méthode 1: \n",
            " doctor.id          1         2         3         4         5\n",
            "patient.id                                                  \n",
            "1           0.310248  5.000000 -0.367821 -0.776631  2.000000\n",
            "2           1.837024 -1.500075 -1.175135  0.526934  0.582942\n",
            "3           1.000000 -0.891187  2.000000  0.338592  0.810296\n",
            "4           5.000000  0.468435 -1.477461  1.315567  0.600257\n",
            "5           0.847673 -0.250074  0.595617  0.177595 -0.136482\n",
            "Méthode 2: \n",
            " doctor.id          1         2         3         4         5\n",
            "patient.id                                                  \n",
            "1           3.351852  5.000000  3.351852  3.351852  2.000000\n",
            "2           2.784314  2.784314  2.784314  2.784314  2.784314\n",
            "3           1.000000  2.708738  2.000000  2.708738  2.708738\n",
            "4           5.000000  3.086538  3.086538  3.086538  3.086538\n",
            "5           2.744444  2.744444  2.744444  2.744444  2.744444\n"
          ]
        },
        {
          "name": "stderr",
          "output_type": "stream",
          "text": [
            "C:\\Users\\omarb\\AppData\\Local\\Temp\\ipykernel_44280\\2259394830.py:33: DeprecationWarning: Conversion of an array with ndim > 0 to a scalar is deprecated, and will error in future. Ensure you extract a single element from your array before performing this operation. (Deprecated NumPy 1.25.)\n",
            "  R_method3_values[i, j] = (row_means[i] + col_means[0, j]) / 2\n"
          ]
        },
        {
          "name": "stdout",
          "output_type": "stream",
          "text": [
            "Méthode 3: \n",
            " doctor.id          1         2         3         4         5\n",
            "patient.id                                                  \n",
            "1           3.339562  5.000000  3.025926  3.229980  2.000000\n",
            "2           3.055793  2.682157  2.742157  2.946211  2.979876\n",
            "3           1.000000  2.644369  2.000000  2.908423  2.942088\n",
            "4           5.000000  2.833269  2.893269  3.097323  3.130989\n",
            "5           3.035859  2.662222  2.722222  2.926276  2.959942\n"
          ]
        }
      ],
      "source": [
        "nan_mask = np.isnan(R.values)\n",
        "valeursObservees = ~np.isnan(R.values)\n",
        "\n",
        "# Méthode 1: Remplacer par des valeurs aléatoires d'une distribution Normale (0,1)\n",
        "R_method1 = R.copy()\n",
        "random_values = np.random.normal(0, 1, size=R.shape)\n",
        "R_method1_values = R_method1.values\n",
        "R_method1_values[nan_mask] = random_values[nan_mask]\n",
        "R_method1 = pd.DataFrame(R_method1_values, index=R.index, columns=R.columns)\n",
        "print(\"Méthode 1: \\n\", R_method1.iloc[:5, :5])  # Affichage partiel pour lisibilité\n",
        "\n",
        "# Méthode 2: Remplacer par la moyenne des lignes\n",
        "R_method2 = R.copy()\n",
        "row_means = np.nanmean(R.values, axis=1)\n",
        "R_method2_values = R_method2.values\n",
        "for i, mean in enumerate(row_means):\n",
        "    R_method2_values[i, nan_mask[i, :]] = mean\n",
        "R_method2 = pd.DataFrame(R_method2_values, index=R.index, columns=R.columns)\n",
        "print(\"Méthode 2: \\n\", R_method2.iloc[:5, :5])  # Affichage partiel pour lisibilité\n",
        "\n",
        "# Méthode 3: Remplacer par la moyenne des lignes et colonnes\n",
        "R_method3 = R.copy()\n",
        "R_values = R.values\n",
        "row_means = np.nanmean(R_values, axis=1).reshape(-1, 1)\n",
        "col_means = np.nanmean(R_values, axis=0).reshape(1, -1)\n",
        "global_mean = np.nanmean(R_values)\n",
        "\n",
        "R_method3_values = R_method3.values\n",
        "for i in range(R_values.shape[0]):\n",
        "    for j in range(R_values.shape[1]):\n",
        "        if nan_mask[i, j]:\n",
        "            if not np.isnan(row_means[i]) and not np.isnan(col_means[0, j]):\n",
        "                R_method3_values[i, j] = (row_means[i] + col_means[0, j]) / 2\n",
        "            elif not np.isnan(row_means[i]):\n",
        "                R_method3_values[i, j] = row_means[i]\n",
        "            elif not np.isnan(col_means[0, j]):\n",
        "                R_method3_values[i, j] = col_means[0, j]\n",
        "            else:\n",
        "                R_method3_values[i, j] = global_mean\n",
        "\n",
        "R_method3 = pd.DataFrame(R_method3_values, index=R.index, columns=R.columns)\n",
        "print(\"Méthode 3: \\n\", R_method3.iloc[:5, :5])  # Affichage partiel pour lisibilité"
      ]
    },
    {
      "cell_type": "markdown",
      "metadata": {
        "id": "a43M_-VLZ-eB"
      },
      "source": [
        "### C)\n",
        "\n",
        "<b> Mise en contexte: </b>\n",
        "\n",
        "Il faut maintenant effectuer une validation croisée à 5 replis en échantillonnant aléatoirement 5 ensembles de rendez-vous parmi les 100 000 rendez-vous observés qui serviront tour à tour d’ensemble de test, les autres étant utilisées pour l’entraînement (estimation des matrices de factorisation).\n",
        "\n",
        "Pour ce faire, utilisez la fonction <code>validation_croisee_replis()</code> qui effectue une validation croisée par replis de la factorisation SVD et retourne l’erreur quadratique moyenne. Elle utilise une matrice, <code>echantillonReplis</code>, dont chaque ligne contient l’indice des observations de test pour chaque \"replis\" et qui est créée plus loin.\n",
        "\n",
        "Utilisez la variable <code>valeurs_observees</code> (obtenue à l'aide de la matrice créer dans la partie \"A\" ci-dessus) et la fonction <code>random.choice()</code> de numpy.\n",
        "\n",
        "Affichez les dimensions de l'échantillon, vous devriez avoir (5, 19389). <b> (1 point) </b>\n"
      ]
    },
    {
      "cell_type": "code",
      "execution_count": 58,
      "metadata": {
        "id": "F9W1kpUqlABV"
      },
      "outputs": [],
      "source": [
        "from validation_croisee import validation_croisee_replis, validation_croisee"
      ]
    },
    {
      "cell_type": "code",
      "execution_count": 61,
      "metadata": {
        "id": "IhyVILpNLj57"
      },
      "outputs": [
        {
          "name": "stdout",
          "output_type": "stream",
          "text": [
            "Dimensions of echantillonReplis: (5, 19392)\n"
          ]
        }
      ],
      "source": [
        "\n",
        "# Paramètres pour la validation croisée\n",
        "n_dimensions = 14\n",
        "nombre_replis = 5\n",
        "valeurs_observees = ~np.isnan(R)\n",
        "\n",
        "# Préparation des indices des valeurs observées dans R\n",
        "indices_observes = np.where(valeurs_observees)\n",
        "indices_combinés = np.column_stack(indices_observes)\n",
        "total_observations = len(indices_combinés)\n",
        "\n",
        "# Mélanger les indices (on utilise ici np.random.shuffle)\n",
        "np.random.shuffle(indices_combinés)\n",
        "\n",
        "# Calculer la taille de chaque repli\n",
        "taille_repli = total_observations // nombre_replis\n",
        "taille_max_repli = taille_repli + (total_observations % nombre_replis)\n",
        "\n",
        "# Créer la matrice echantillonReplis\n",
        "echantillonReplis = np.full((nombre_replis, taille_max_repli), -1, dtype=int)\n",
        "\n",
        "for i in range(nombre_replis):\n",
        "    debut = i * taille_repli\n",
        "    fin = (i + 1) * taille_repli if i < nombre_replis - 1 else total_observations\n",
        "    fold_indices = indices_combinés[debut:fin]\n",
        "    flat_indices = np.ravel_multi_index((fold_indices[:, 0], fold_indices[:, 1]), dims=R.shape)\n",
        "    echantillonReplis[i, :len(flat_indices)] = flat_indices\n",
        "\n",
        "print(\"Dimensions of echantillonReplis:\", echantillonReplis.shape)"
      ]
    },
    {
      "cell_type": "markdown",
      "metadata": {
        "id": "U_a-rkWVEdPz"
      },
      "source": [
        "### D)\n",
        "\n",
        "Pour chacune des 3 méthodes d'imputation utilisées précédemment, affichez le résultat de la validation croisée. <b> (0.5 point) </b>\n",
        "\n",
        "Les résultats qui seront affichés pour chaque méthode devraient être similaire à ceux-ci:\n",
        "1. Méthode 1 : array([3.07936543 2.97096366 3.00239858 2.98364498 3.07552508]).\n",
        "\n",
        "2. Méthode 2 : array([1.35600187 1.36579327 1.37056779 1.35480193 1.3561739]).\n",
        "\n",
        "3. Méthode 3 : array([1.34846446 1.36657222 1.3627661  1.3456932  1.34794998]).\n"
      ]
    },
    {
      "cell_type": "code",
      "execution_count": 62,
      "metadata": {
        "id": "2aza_6nOt3hH"
      },
      "outputs": [],
      "source": [
        "method1_results = validation_croisee_replis(\n",
        "    R_values, \n",
        "    R_method1_values, \n",
        "    echantillonReplis, \n",
        "    valeurs_observees, \n",
        "    n_dimensions\n",
        ")"
      ]
    },
    {
      "cell_type": "code",
      "execution_count": 63,
      "metadata": {
        "id": "ZACsm6v35USK"
      },
      "outputs": [],
      "source": [
        "method2_results = validation_croisee_replis(\n",
        "    R_values, \n",
        "    R_method2_values, \n",
        "    echantillonReplis, \n",
        "    valeurs_observees, \n",
        "    n_dimensions\n",
        ")"
      ]
    },
    {
      "cell_type": "code",
      "execution_count": 64,
      "metadata": {
        "id": "c1q5EWgs9j9q"
      },
      "outputs": [],
      "source": [
        "method3_results = validation_croisee_replis(\n",
        "    R_values, \n",
        "    R_method3_values, \n",
        "    echantillonReplis, \n",
        "    valeurs_observees, \n",
        "    n_dimensions\n",
        ")"
      ]
    },
    {
      "cell_type": "code",
      "execution_count": 65,
      "metadata": {
        "id": "6grrN80AlABW"
      },
      "outputs": [
        {
          "name": "stdout",
          "output_type": "stream",
          "text": [
            "Méthode 1 : \n",
            "[3.0243388  3.03510304 3.02472443 3.02918287 3.03296541]\n",
            "Méthode 2 : \n",
            "[1.35921342 1.35504515 1.34793269 1.35193028 1.35193927]\n",
            "Méthode 3 : \n",
            "[1.35261568 1.34904603 1.34201558 1.34577679 1.34583966]\n"
          ]
        }
      ],
      "source": [
        "print (\"Méthode 1 : \")\n",
        "print(method1_results)\n",
        "print (\"Méthode 2 : \")\n",
        "print(method2_results)\n",
        "print (\"Méthode 3 : \")\n",
        "print(method3_results)"
      ]
    },
    {
      "cell_type": "markdown",
      "metadata": {
        "id": "74bX_g0nmoPd"
      },
      "source": [
        "Affichez les résultats de la validation croisée pour chaque méthode (Méthode 1, Méthode 2, Méthode 3) sur un seul graphique en boîte à moustaches (boxplot). <b> (2 points) </b>"
      ]
    },
    {
      "cell_type": "code",
      "execution_count": 67,
      "metadata": {
        "colab": {
          "base_uri": "https://localhost:8080/",
          "height": 472
        },
        "id": "9138EwEdlABW",
        "outputId": "31b50f62-3356-4025-89d5-37c50940baa2"
      },
      "outputs": [
        {
          "name": "stderr",
          "output_type": "stream",
          "text": [
            "C:\\Users\\omarb\\AppData\\Local\\Temp\\ipykernel_44280\\1063870985.py:7: MatplotlibDeprecationWarning: The 'labels' parameter of boxplot() has been renamed 'tick_labels' since Matplotlib 3.9; support for the old name will be dropped in 3.11.\n",
            "  plt.boxplot(data, labels=labels)\n"
          ]
        },
        {
          "data": {
            "image/png": "[encoded data removed]",
            "text/plain": [
              "<Figure size 1000x600 with 1 Axes>"
            ]
          },
          "metadata": {},
          "output_type": "display_data"
        }
      ],
      "source": [
        "import matplotlib.pyplot as plt\n",
        "\n",
        "plt.figure(figsize=(10, 6))\n",
        "data = [method1_results, method2_results, method3_results]\n",
        "labels = ['Aléatoire (Méthode 1)', 'Moyenne lignes (Méthode 2)', 'Moyenne lignes+colonnes (Méthode 3)']\n",
        "\n",
        "plt.boxplot(data, labels=labels)\n",
        "plt.title('Comparaison des méthodes d\\'imputation par validation croisée')\n",
        "plt.ylabel('Erreur quadratique moyenne (RMSE)')\n",
        "plt.grid(axis='y', linestyle='--', alpha=0.7)\n",
        "\n",
        "# Ajout des points individuels pour mieux visualiser la distribution\n",
        "for i, results in enumerate(data):\n",
        "    # Ajouter un peu de bruit horizontal pour mieux voir les points\n",
        "    x = np.random.normal(i+1, 0.05, size=len(results))\n",
        "    plt.scatter(x, results, alpha=0.6, color='red', s=30)\n",
        "\n",
        "plt.tight_layout()\n",
        "plt.show()"
      ]
    },
    {
      "cell_type": "markdown",
      "metadata": {
        "id": "0W2AvdW8a_J_"
      },
      "source": [
        "### E)\n",
        "Explorez le nombre de dimensions qui est optimal par visualisation de la performance prédictive en fonction du nombre de dimensions. Prenez la moyenne par ligne et colonne comme imputation et cet ensemble de dimensions à explorer : (2, 4, 8, 10, 15, 20, 40). N’utilisez qu’un échantillon de données.  <b>(1 point)</b>\n",
        "\n",
        "Pour ce faire:\n",
        "1. Calculez l'erreur quadratique pour chaque dimension.\n",
        "2. Affichez dans un graphique l'erreur quadratique selon le nombre de dimensions.\n",
        "\n",
        "*Note: Le graphique doit utiliser des marqueurs de type 'o' et un style de ligne '-'. N'oubliez pas de nommer les axes et de donner un titre.*\n",
        "\n"
      ]
    },
    {
      "cell_type": "code",
      "execution_count": null,
      "metadata": {
        "id": "SjVYk0b2-gEY"
      },
      "outputs": [],
      "source": [
        "import matplotlib.pyplot as plt"
      ]
    },
    {
      "cell_type": "code",
      "execution_count": 68,
      "metadata": {
        "colab": {
          "base_uri": "https://localhost:8080/",
          "height": 493
        },
        "id": "C11T9-vKMLmE",
        "outputId": "ae9d70eb-2688-4ee9-8792-25aff8627ee3"
      },
      "outputs": [
        {
          "name": "stdout",
          "output_type": "stream",
          "text": [
            "Dimensions: 2, RMSE: 1.4050\n",
            "Dimensions: 4, RMSE: 1.3956\n",
            "Dimensions: 8, RMSE: 1.3781\n",
            "Dimensions: 10, RMSE: 1.3692\n",
            "Dimensions: 15, RMSE: 1.3483\n",
            "Dimensions: 20, RMSE: 1.3279\n",
            "Dimensions: 40, RMSE: 1.2513\n"
          ]
        },
        {
          "data": {
            "image/png": "[encoded data removed]",
            "text/plain": [
              "<Figure size 1000x600 with 1 Axes>"
            ]
          },
          "metadata": {},
          "output_type": "display_data"
        }
      ],
      "source": [
        "# Utiliser la méthode 3 (moyenne des lignes et colonnes) qui semble donner les meilleurs résultats\n",
        "dimensions_a_explorer = [2, 4, 8, 10, 15, 20, 40]\n",
        "rmse_par_dimension = []\n",
        "\n",
        "# Pour réduire le temps de calcul, utilisons seulement le premier repli\n",
        "sample_test_indices = echantillonReplis[0]\n",
        "\n",
        "for dim in dimensions_a_explorer:\n",
        "    # Calcul de l'erreur quadratique pour cette dimension\n",
        "    rmse = validation_croisee(\n",
        "        R_values, \n",
        "        R_method3_values, \n",
        "        sample_test_indices, \n",
        "        valeurs_observees, \n",
        "        dim\n",
        "    )\n",
        "    rmse_par_dimension.append(rmse)\n",
        "    print(f\"Dimensions: {dim}, RMSE: {rmse:.4f}\")\n",
        "\n",
        "# Affichage graphique de l'erreur selon le nombre de dimensions\n",
        "plt.figure(figsize=(10, 6))\n",
        "plt.plot(dimensions_a_explorer, rmse_par_dimension, 'o-', linewidth=2, markersize=8)\n",
        "plt.xlabel('Nombre de dimensions')\n",
        "plt.ylabel('Erreur quadratique moyenne (RMSE)')\n",
        "plt.title('Performance prédictive en fonction du nombre de dimensions')\n",
        "plt.grid(True, linestyle='--', alpha=0.7)\n",
        "plt.xticks(dimensions_a_explorer)\n",
        "\n",
        "# Ajouter les valeurs RMSE au-dessus des points\n",
        "for i, txt in enumerate(rmse_par_dimension):\n",
        "    plt.annotate(f\"{txt:.4f}\", \n",
        "                 (dimensions_a_explorer[i], rmse_par_dimension[i]),\n",
        "                 textcoords=\"offset points\", \n",
        "                 xytext=(0,10), \n",
        "                 ha='center')\n",
        "\n",
        "# Trouver et marquer la dimension optimale\n",
        "dim_optimale_index = np.argmin(rmse_par_dimension)\n",
        "dim_optimale = dimensions_a_explorer[dim_optimale_index]\n",
        "rmse_optimale = rmse_par_dimension[dim_optimale_index]\n",
        "\n",
        "plt.scatter([dim_optimale], [rmse_optimale], s=100, c='red', zorder=5)\n",
        "plt.annotate(f\"Optimal: {dim_optimale} dimensions\\nRMSE: {rmse_optimale:.4f}\",\n",
        "             (dim_optimale, rmse_optimale),\n",
        "             textcoords=\"offset points\", \n",
        "             xytext=(20,-20),\n",
        "             arrowprops=dict(arrowstyle='->', color='red'))\n",
        "\n",
        "plt.tight_layout()\n",
        "plt.show()"
      ]
    },
    {
      "cell_type": "markdown",
      "metadata": {
        "id": "0cHD2zjooFb9"
      },
      "source": [
        "## Probabilités bayésiennes\n",
        "\n",
        "<b> Mise en contexte : </b>\n",
        "\n",
        "La seconde approche de prédiction est basée sur les probabilités conditionnelles avec des ratios de vraisemblance. Ces calculs nécessitent des tableaux de contingences entre deux variables, la variable à prédire et le facteur de prédiction. Nous voudrons prédire si un individu est susceptible de recommender un docteur en fonction de trois variables, son sexe, son âge et sa condition de santé. Il nous faut donc créer les tableaux suivants.\n",
        "\n",
        "\n",
        "### F)\n",
        "\n",
        "Créez un tableau des données de rendez-vous et des patients.\n",
        "\n",
        "Pour ce faire:\n",
        "1. Renommez la colonne \"patients.id\" du DataFrame appointments par \"id \".\n",
        "2. Faites un left-join de nouveau DataFrame créé avec le DataFrame des patients.\n",
        "3. Enlevez les colonnes \"date\" et \" zip\".\n",
        "4. Ajoutez une nouvelle colonne \"recommande\" qui est à True si le \"niveau.recommandation\" est supérieur à 4.\n",
        "\n",
        "Affichez le nouveau tableau. <b> (1 point) </b>"
      ]
    },
    {
      "cell_type": "code",
      "execution_count": 70,
      "metadata": {
        "id": "PLfteMRIoxsK"
      },
      "outputs": [
        {
          "name": "stdout",
          "output_type": "stream",
          "text": [
            "Dimensions du tableau combiné: (96948, 8)\n"
          ]
        },
        {
          "data": {
            "text/html": [
              "<div>\n",
              "<style scoped>\n",
              "    .dataframe tbody tr th:only-of-type {\n",
              "        vertical-align: middle;\n",
              "    }\n",
              "\n",
              "    .dataframe tbody tr th {\n",
              "        vertical-align: top;\n",
              "    }\n",
              "\n",
              "    .dataframe thead th {\n",
              "        text-align: right;\n",
              "    }\n",
              "</style>\n",
              "<table border=\"1\" class=\"dataframe\">\n",
              "  <thead>\n",
              "    <tr style=\"text-align: right;\">\n",
              "      <th></th>\n",
              "      <th>id</th>\n",
              "      <th>doctor.id</th>\n",
              "      <th>niveau.recommandation</th>\n",
              "      <th>age</th>\n",
              "      <th>gender</th>\n",
              "      <th>condition</th>\n",
              "      <th>zip</th>\n",
              "      <th>recommande</th>\n",
              "    </tr>\n",
              "  </thead>\n",
              "  <tbody>\n",
              "    <tr>\n",
              "      <th>0</th>\n",
              "      <td>938</td>\n",
              "      <td>588</td>\n",
              "      <td>4</td>\n",
              "      <td>38</td>\n",
              "      <td>M</td>\n",
              "      <td>Asthma</td>\n",
              "      <td>55038</td>\n",
              "      <td>False</td>\n",
              "    </tr>\n",
              "    <tr>\n",
              "      <th>1</th>\n",
              "      <td>81</td>\n",
              "      <td>1083</td>\n",
              "      <td>4</td>\n",
              "      <td>70</td>\n",
              "      <td>M</td>\n",
              "      <td>Hypertension</td>\n",
              "      <td>21218</td>\n",
              "      <td>False</td>\n",
              "    </tr>\n",
              "    <tr>\n",
              "      <th>2</th>\n",
              "      <td>890</td>\n",
              "      <td>1144</td>\n",
              "      <td>2</td>\n",
              "      <td>62</td>\n",
              "      <td>F</td>\n",
              "      <td>Asthma</td>\n",
              "      <td>97301</td>\n",
              "      <td>False</td>\n",
              "    </tr>\n",
              "    <tr>\n",
              "      <th>3</th>\n",
              "      <td>428</td>\n",
              "      <td>18</td>\n",
              "      <td>5</td>\n",
              "      <td>56</td>\n",
              "      <td>F</td>\n",
              "      <td>Hypertension</td>\n",
              "      <td>55414</td>\n",
              "      <td>True</td>\n",
              "    </tr>\n",
              "    <tr>\n",
              "      <th>4</th>\n",
              "      <td>483</td>\n",
              "      <td>1130</td>\n",
              "      <td>5</td>\n",
              "      <td>27</td>\n",
              "      <td>M</td>\n",
              "      <td>Healthy</td>\n",
              "      <td>43212</td>\n",
              "      <td>True</td>\n",
              "    </tr>\n",
              "  </tbody>\n",
              "</table>\n",
              "</div>"
            ],
            "text/plain": [
              "    id  doctor.id  niveau.recommandation  age gender     condition    zip  \\\n",
              "0  938        588                      4   38      M        Asthma  55038   \n",
              "1   81       1083                      4   70      M  Hypertension  21218   \n",
              "2  890       1144                      2   62      F        Asthma  97301   \n",
              "3  428         18                      5   56      F  Hypertension  55414   \n",
              "4  483       1130                      5   27      M       Healthy  43212   \n",
              "\n",
              "   recommande  \n",
              "0       False  \n",
              "1       False  \n",
              "2       False  \n",
              "3        True  \n",
              "4        True  "
            ]
          },
          "execution_count": 70,
          "metadata": {},
          "output_type": "execute_result"
        }
      ],
      "source": [
        "# Préparation des données pour l'analyse bayésienne\n",
        "# 1. Renommer la colonne patient.id du DataFrame appointments\n",
        "df_appointments_renamed = df_appointments.rename(columns={\"patient.id\": \"id\"})\n",
        "\n",
        "# 2. Joindre avec le DataFrame des patients (left join)\n",
        "df_combined = pd.merge(df_appointments_renamed, df_patients, on=\"id\", how=\"left\")\n",
        "\n",
        "# 3. Supprimer les colonnes \"date\" et \"zip\" si elles existent\n",
        "columns_to_drop = [col for col in [\"date\", \"zip\"] if col in df_combined.columns]\n",
        "df_combined = df_combined.drop(columns=columns_to_drop)\n",
        "\n",
        "# 4. Ajouter une colonne \"recommande\" (True si niveau.recommandation > 4)\n",
        "df_combined[\"recommande\"] = df_combined[\"niveau.recommandation\"] > 4\n",
        "\n",
        "# Afficher le nouveau tableau\n",
        "print(\"Dimensions du tableau combiné:\", df_combined.shape)\n",
        "df_combined.head()"
      ]
    },
    {
      "cell_type": "markdown",
      "metadata": {
        "id": "gKsyXKMNzfGo"
      },
      "source": [
        "### G)\n",
        "\n",
        "Créez un nouveau tableau \"recommande_gender\" qui présente la proportion de patients qui recommande ou qui ne recommande pas un docteur.\n",
        "\n",
        "Pour ce faire :\n",
        "1. À partir du DataFrame \"appointments\", regroupez les données par \"doctor.id\" et par \"gender\".\n",
        "2. Appliquez la fonction \"recommande_tbl\" sur la colonne \"recommande\" et réinitialisez l'index.\n",
        "3. Créez un \"pivot table\" dont l'index est \"doctor.id\", la colonne est \" gender \", les valeurs sont \"recommande\" et \"recommandePas\", puis utilisez la sommation comme fonction d'agrégation.\n",
        "4. Créez une colonne \"LS\" à l'aide de la fonction \"ratio_vraisemblance\" qui contient le résultat du ratio de vraisemblance. Voici les paramètres à donner à cette fonction :\n",
        "  - EH:  recommande_gender[('recommande', 'F')]\n",
        "  - EnH: recommande_gender[('recommandePas', 'F')]\n",
        "  - nEH: recommande_gender[('recommande', 'M')]\n",
        "  - nEnH: recommande_gender[('recommandePas', 'M')]\n",
        "\n",
        "*Note: La valeur LS de votre 1ère ligne devrait être environ 1.147059.*\n",
        "\n",
        "Affichez le nouveau DataFrame. <b> (1 point) </b>\n"
      ]
    },
    {
      "cell_type": "code",
      "execution_count": 72,
      "metadata": {
        "id": "ATrGw5Z4zZ0V"
      },
      "outputs": [],
      "source": [
        "def recommande_tbl(x):\n",
        "    return pd.DataFrame({'recommande': [sum(x)], 'recommandePas': [sum(1-x)]})\n",
        "\n",
        "def ratio_vraisemblance(EH, EnH, nEH, nEnH):\n",
        "    return ((EH+1)/(EH+nEH+2))/((EnH+1)/(EnH+nEnH+2))"
      ]
    },
    {
      "cell_type": "code",
      "execution_count": 73,
      "metadata": {
        "id": "ULstOHKbyYNm"
      },
      "outputs": [
        {
          "name": "stdout",
          "output_type": "stream",
          "text": [
            "Première valeur LS: 1.147059\n"
          ]
        },
        {
          "data": {
            "text/html": [
              "<div>\n",
              "<style scoped>\n",
              "    .dataframe tbody tr th:only-of-type {\n",
              "        vertical-align: middle;\n",
              "    }\n",
              "\n",
              "    .dataframe tbody tr th {\n",
              "        vertical-align: top;\n",
              "    }\n",
              "\n",
              "    .dataframe thead tr th {\n",
              "        text-align: left;\n",
              "    }\n",
              "\n",
              "    .dataframe thead tr:last-of-type th {\n",
              "        text-align: right;\n",
              "    }\n",
              "</style>\n",
              "<table border=\"1\" class=\"dataframe\">\n",
              "  <thead>\n",
              "    <tr>\n",
              "      <th></th>\n",
              "      <th colspan=\"2\" halign=\"left\">recommande</th>\n",
              "      <th colspan=\"2\" halign=\"left\">recommandePas</th>\n",
              "      <th>LS</th>\n",
              "    </tr>\n",
              "    <tr>\n",
              "      <th>gender</th>\n",
              "      <th>F</th>\n",
              "      <th>M</th>\n",
              "      <th>F</th>\n",
              "      <th>M</th>\n",
              "      <th></th>\n",
              "    </tr>\n",
              "    <tr>\n",
              "      <th>doctor.id</th>\n",
              "      <th></th>\n",
              "      <th></th>\n",
              "      <th></th>\n",
              "      <th></th>\n",
              "      <th></th>\n",
              "    </tr>\n",
              "  </thead>\n",
              "  <tbody>\n",
              "    <tr>\n",
              "      <th>1</th>\n",
              "      <td>9</td>\n",
              "      <td>9</td>\n",
              "      <td>16</td>\n",
              "      <td>21</td>\n",
              "      <td>1.147059</td>\n",
              "    </tr>\n",
              "    <tr>\n",
              "      <th>2</th>\n",
              "      <td>5</td>\n",
              "      <td>4</td>\n",
              "      <td>16</td>\n",
              "      <td>25</td>\n",
              "      <td>1.379679</td>\n",
              "    </tr>\n",
              "    <tr>\n",
              "      <th>3</th>\n",
              "      <td>5</td>\n",
              "      <td>1</td>\n",
              "      <td>21</td>\n",
              "      <td>23</td>\n",
              "      <td>1.568182</td>\n",
              "    </tr>\n",
              "    <tr>\n",
              "      <th>4</th>\n",
              "      <td>10</td>\n",
              "      <td>8</td>\n",
              "      <td>30</td>\n",
              "      <td>26</td>\n",
              "      <td>1.029032</td>\n",
              "    </tr>\n",
              "    <tr>\n",
              "      <th>5</th>\n",
              "      <td>3</td>\n",
              "      <td>10</td>\n",
              "      <td>25</td>\n",
              "      <td>19</td>\n",
              "      <td>0.471795</td>\n",
              "    </tr>\n",
              "  </tbody>\n",
              "</table>\n",
              "</div>"
            ],
            "text/plain": [
              "          recommande     recommandePas            LS\n",
              "gender             F   M             F   M          \n",
              "doctor.id                                           \n",
              "1                  9   9            16  21  1.147059\n",
              "2                  5   4            16  25  1.379679\n",
              "3                  5   1            21  23  1.568182\n",
              "4                 10   8            30  26  1.029032\n",
              "5                  3  10            25  19  0.471795"
            ]
          },
          "execution_count": 73,
          "metadata": {},
          "output_type": "execute_result"
        }
      ],
      "source": [
        "# Création du tableau recommande_gender\n",
        "# 1. Regrouper par doctor.id et gender\n",
        "recommande_gender = df_combined.groupby([\"doctor.id\", \"gender\"])[\"recommande\"].apply(recommande_tbl).reset_index()\n",
        "\n",
        "# 2. Pivoter le tableau\n",
        "recommande_gender = recommande_gender.pivot_table(\n",
        "    index=\"doctor.id\",\n",
        "    columns=\"gender\",\n",
        "    values=[\"recommande\", \"recommandePas\"],\n",
        "    aggfunc=\"sum\"\n",
        ")\n",
        "\n",
        "# 3. Calculer le ratio de vraisemblance (LS)\n",
        "recommande_gender[\"LS\"] = ratio_vraisemblance(\n",
        "    EH=recommande_gender[(\"recommande\", \"F\")],\n",
        "    EnH=recommande_gender[(\"recommandePas\", \"F\")],\n",
        "    nEH=recommande_gender[(\"recommande\", \"M\")],\n",
        "    nEnH=recommande_gender[(\"recommandePas\", \"M\")]\n",
        ")\n",
        "\n",
        "# Vérifier la première valeur LS\n",
        "print(f\"Première valeur LS: {recommande_gender['LS'].iloc[0]:.6f}\")\n",
        "\n",
        "# Afficher le tableau\n",
        "recommande_gender.head()"
      ]
    },
    {
      "cell_type": "markdown",
      "metadata": {
        "id": "zYaydJTm8gok"
      },
      "source": [
        "### H)\n",
        "Affichez dans un graphique à barres la valeur LS pour les dix premiers \"doctor.id\" en utilisant le tableau \"recommande_gender\". <b> (0.5 point) </b>\n",
        "\n",
        "*Note: N'oubliez pas de nommer vos axes et votre graphique.*"
      ]
    },
    {
      "cell_type": "code",
      "execution_count": 74,
      "metadata": {
        "colab": {
          "base_uri": "https://localhost:8080/",
          "height": 564
        },
        "id": "ibJPkWa-382w",
        "outputId": "f19a744a-a0da-461f-e05f-37ab706e7422"
      },
      "outputs": [
        {
          "data": {
            "image/png": "[encoded data removed]",
            "text/plain": [
              "<Figure size 1200x600 with 1 Axes>"
            ]
          },
          "metadata": {},
          "output_type": "display_data"
        }
      ],
      "source": [
        "# Création du graphique à barres pour les 10 premiers docteurs\n",
        "plt.figure(figsize=(12, 6))\n",
        "\n",
        "# Extraire les 10 premiers doctors.id et leurs valeurs LS\n",
        "top_10_doctors = recommande_gender[\"LS\"].head(10)\n",
        "doctors_ids = top_10_doctors.index\n",
        "\n",
        "# Créer le graphique à barres\n",
        "bars = plt.bar(doctors_ids, top_10_doctors, color='skyblue', edgecolor='navy')\n",
        "\n",
        "# Ajouter les valeurs sur les barres\n",
        "for bar in bars:\n",
        "    height = bar.get_height()\n",
        "    plt.text(bar.get_x() + bar.get_width()/2., height,\n",
        "             f'{height:.2f}',\n",
        "             ha='center', va='bottom', fontweight='bold')\n",
        "\n",
        "# Ajouter les titres et les étiquettes\n",
        "plt.title('Ratio de vraisemblance (LS) pour les 10 premiers docteurs', fontsize=14)\n",
        "plt.xlabel('ID du docteur', fontsize=12)\n",
        "plt.ylabel('Ratio de vraisemblance (LS)', fontsize=12)\n",
        "plt.xticks(rotation=45, ha='right')\n",
        "plt.grid(axis='y', linestyle='--', alpha=0.7)\n",
        "plt.tight_layout()\n",
        "\n",
        "# Afficher le graphique\n",
        "plt.show()"
      ]
    },
    {
      "cell_type": "markdown",
      "metadata": {
        "id": "0rT7_Mm0OIaD"
      },
      "source": [
        "## 3. LIVRABLES\n",
        "Vous devez remettre sur Moodle un fichier compressé .zip contenant :\n",
        "\n",
        "1) Le code : Un Jupyter notebook en Python qui contient le code tel implanté avec les librairies minimales demandées pour ce TP (Python, Pandas, Matplotlib). Le code doit être exécutable sans erreur et accompagné des commentaires appropriés dans le notebook de manière. Tous vos résultats doivent être reproductibles avec le code dans le notebook. *Attention, en aucun cas votre code ne doit avoir été copié de d'ailleurs.*\n",
        "\n",
        "2) Un fichier pdf représentant votre notebook complètement exécuté sous format pdf (obtenu via latex ou imprimé en pdf avec le navigateur). Assurez-vous que le PDF est entièrement lisible. [Tutoriel youtube](https://www.youtube.com/watch?v=-Ti9Mm21uVc)\n",
        "\n",
        "ATTENTION: assurez-vous que votre fichier compressé .zip ne dépasse pas la taille limite acceptée sur Moodle.\n"
      ]
    },
    {
      "cell_type": "markdown",
      "metadata": {
        "id": "JkxB1hfwRQw9"
      },
      "source": [
        "__ÉVALUATION__ <br>\n",
        "Votre TP sera évalué sur les points suivants :\n",
        "\n",
        "__Critères :__\n",
        "1. Implantation correcte et efficace\n",
        "2. Qualité du code (noms significatifs, structure, performance, gestion d’exception, etc.) <b>(1 point)</b>\n",
        "3. Réponses correctes/sensées aux questions de réflexion ou d'analyse\n",
        "\n",
        "__CODE D’HONNEUR__\n",
        "- __Règle 1__:  Le plagiat de code est bien évidemment interdit. Toute utilisation de code doit être référencée adéquatement. Vous __ne pouvez pas__ soumettre un code, écrit par quelqu’un d’autre. Dans le cas contraire, cela sera considéré comme du plagiat.\n",
        "- __Règle 2__: Vous êtes libres de discuter avec d'autres équipes. Cependant, vous ne pouvez en aucun cas incorporer leur code dans votre TP.\n",
        "- __Règle 3__:  Vous ne pouvez pas partager votre code publiquement."
      ]
    },
    {
      "cell_type": "markdown",
      "metadata": {
        "id": "6B9vE0FUSGFP"
      },
      "source": [
        "### Conversion en PDF sur Google Colab"
      ]
    },
    {
      "cell_type": "code",
      "execution_count": null,
      "metadata": {
        "id": "Iig7VzFFN11u"
      },
      "outputs": [],
      "source": [
        "%%capture\n",
        "!sudo apt-get install texlive-xetex texlive-fonts-recommended texlive-plain-generic"
      ]
    },
    {
      "cell_type": "markdown",
      "metadata": {
        "id": "tz0BpqmcU9ZA"
      },
      "source": [
        "Assurez vous d'avoir téléchargé le TP complété en notebook sur votre ordinateur, puis importé ce fichier dans le répertoire \"content\" avant de rouler la ligne suivante."
      ]
    },
    {
      "cell_type": "code",
      "execution_count": null,
      "metadata": {
        "id": "OPSlcCFrSqik"
      },
      "outputs": [],
      "source": [
        "!jupyter nbconvert --to pdf /content/TP1.ipynb"
      ]
    }
  ],
  "metadata": {
    "colab": {
      "provenance": []
    },
    "kernelspec": {
      "display_name": "Python 3",
      "name": "python3"
    },
    "language_info": {
      "codemirror_mode": {
        "name": "ipython",
        "version": 3
      },
      "file_extension": ".py",
      "mimetype": "text/x-python",
      "name": "python",
      "nbconvert_exporter": "python",
      "pygments_lexer": "ipython3",
      "version": "3.12.1"
    }
  },
  "nbformat": 4,
  "nbformat_minor": 0
}
