{
  "cells": [
    {
      "cell_type": "markdown",
      "metadata": {
        "id": "th8R6iFhsz79"
      },
      "source": [
        "\n",
        "\n",
        "## <center> Polytechnique Montréal <br> Département Génie Informatique et Génie Logiciel <br>  INF8008 – Prétraitement de données <br> . <br> TP2  - Transformation, distribution et statistiques descriptives<br>  Hiver 2025 <br> . <br>  Janvier 2025 </center>"
      ]
    },
    {
      "cell_type": "markdown",
      "metadata": {
        "id": "4-uCAmWYtjG8"
      },
      "source": [
        "## Introduction\n",
        "\n",
        "Le TD2 porte sur la transformation, la distribution et les statistiques descriptives. **Nous survolons l'utilisation de fonctions de base de Pandas et de l'analyse de données numériques.** Les données du fichier *Alzheimer_s_Disease_and_Healthy_Aging_Data.csv* sont des données publiques provenant d'enquêtes sur le vieillissement et la santé, faites par le [Département de la Santé et des Services sociaux des États-Unis](https://catalog.data.gov/dataset/alzheimers-disease-and-healthy-aging-data). Contrairement aux données du TP1 qui avaient été traitées au préalable, celles utilisées pour ce TP ne le sont pas. Vous devrez traiter les données brutes pour obtenir une version plus condensée, facilitant l'analyse des tendances et des sous-groupes de population.\n",
        "\n",
        "Les champs principaux du fichier de données **Alzheimer_s_Disease_and_Healthy_Aging_Data.csv** sont les suivants :\n",
        "\n",
        "- **YearStart/YearEnd** : années de début et de fin des données\n",
        "- **LocationAbbr** : abréviation du lieu\n",
        "- **Class** : catégorie des données (ex. : Santé mentale)\n",
        "- **Topic** : sujet spécifique (ex. : détresse mentale fréquente)\n",
        "- **Question** : question étudiée\n",
        "- **Data_Value_Unit** : unité de mesure des données (ex. : pourcentage)\n",
        "- **Data_Value** : valeur des données collectées\n",
        "- **StratificationCategory1 / Stratification1** : catégorie et détail de la première stratification (ex. : âge, genre)\n",
        "- **StratificationCategory2 / Stratification2** : catégorie et détail de la deuxième stratification (ex. : race, ethnie)\n",
        "\n",
        "Ces données servent de base pour explorer les tendances, identifier des corrélations, et mieux comprendre les facteurs liés aux maladies neurodégénératives et à la santé mentale des populations vieillissantes. Votre objectif dans ce TP sera de préparer ces données pour qu'elles soient prêtes pour une analyse approfondie."
      ]
    },
    {
      "cell_type": "markdown",
      "metadata": {
        "id": "jSAmD2Iuuxds"
      },
      "source": [
        "Voici les librairies python qui sera à utiliser pour ce TP :\n",
        "- [pandas](https://pandas.pydata.org/docs/user_guide/index.html)\n",
        "- [numpy](https://numpy.org/doc/stable/user/basics.html)\n",
        "- [matplotlib](https://matplotlib.org/stable/users/explain/quick_start.html)\n",
        "\n",
        "**À noter qu'au niveau de chaque question, il est recommandé de copier le DataFrame obtenu à la question précédente dans un nouveau DataFrame.**\n",
        "\n",
        "*Veuillez vous référer à l'énoncé PDF de ce TP pour voir la sortie attendue.*\n"
      ]
    },
    {
      "cell_type": "code",
      "execution_count": 1,
      "metadata": {
        "id": "Yowt8NL4v29E"
      },
      "outputs": [],
      "source": [
        "import pandas as pd\n",
        "import numpy as np"
      ]
    },
    {
      "cell_type": "code",
      "execution_count": 2,
      "metadata": {
        "id": "pVLjUZbts_z6"
      },
      "outputs": [
        {
          "data": {
            "text/html": [
              "<div>\n",
              "<style scoped>\n",
              "    .dataframe tbody tr th:only-of-type {\n",
              "        vertical-align: middle;\n",
              "    }\n",
              "\n",
              "    .dataframe tbody tr th {\n",
              "        vertical-align: top;\n",
              "    }\n",
              "\n",
              "    .dataframe thead th {\n",
              "        text-align: right;\n",
              "    }\n",
              "</style>\n",
              "<table border=\"1\" class=\"dataframe\">\n",
              "  <thead>\n",
              "    <tr style=\"text-align: right;\">\n",
              "      <th></th>\n",
              "      <th>RowId</th>\n",
              "      <th>YearStart</th>\n",
              "      <th>YearEnd</th>\n",
              "      <th>LocationAbbr</th>\n",
              "      <th>LocationDesc</th>\n",
              "      <th>Datasource</th>\n",
              "      <th>Class</th>\n",
              "      <th>Topic</th>\n",
              "      <th>Question</th>\n",
              "      <th>Data_Value_Unit</th>\n",
              "      <th>...</th>\n",
              "      <th>Stratification2</th>\n",
              "      <th>Geolocation</th>\n",
              "      <th>ClassID</th>\n",
              "      <th>TopicID</th>\n",
              "      <th>QuestionID</th>\n",
              "      <th>LocationID</th>\n",
              "      <th>StratificationCategoryID1</th>\n",
              "      <th>StratificationID1</th>\n",
              "      <th>StratificationCategoryID2</th>\n",
              "      <th>StratificationID2</th>\n",
              "    </tr>\n",
              "  </thead>\n",
              "  <tbody>\n",
              "    <tr>\n",
              "      <th>0</th>\n",
              "      <td>BRFSS~2022~2022~42~Q03~TMC01~AGE~RACE</td>\n",
              "      <td>2022</td>\n",
              "      <td>2022</td>\n",
              "      <td>PA</td>\n",
              "      <td>Pennsylvania</td>\n",
              "      <td>BRFSS</td>\n",
              "      <td>Mental Health</td>\n",
              "      <td>Frequent mental distress</td>\n",
              "      <td>Percentage of older adults who are experiencin...</td>\n",
              "      <td>%</td>\n",
              "      <td>...</td>\n",
              "      <td>Native Am/Alaskan Native</td>\n",
              "      <td>POINT (-77.86070029 40.79373015)</td>\n",
              "      <td>C05</td>\n",
              "      <td>TMC01</td>\n",
              "      <td>Q03</td>\n",
              "      <td>42</td>\n",
              "      <td>AGE</td>\n",
              "      <td>5064</td>\n",
              "      <td>RACE</td>\n",
              "      <td>NAA</td>\n",
              "    </tr>\n",
              "    <tr>\n",
              "      <th>1</th>\n",
              "      <td>BRFSS~2022~2022~46~Q03~TMC01~AGE~RACE</td>\n",
              "      <td>2022</td>\n",
              "      <td>2022</td>\n",
              "      <td>SD</td>\n",
              "      <td>South Dakota</td>\n",
              "      <td>BRFSS</td>\n",
              "      <td>Mental Health</td>\n",
              "      <td>Frequent mental distress</td>\n",
              "      <td>Percentage of older adults who are experiencin...</td>\n",
              "      <td>%</td>\n",
              "      <td>...</td>\n",
              "      <td>Asian/Pacific Islander</td>\n",
              "      <td>POINT (-100.3735306 44.35313005)</td>\n",
              "      <td>C05</td>\n",
              "      <td>TMC01</td>\n",
              "      <td>Q03</td>\n",
              "      <td>46</td>\n",
              "      <td>AGE</td>\n",
              "      <td>65PLUS</td>\n",
              "      <td>RACE</td>\n",
              "      <td>ASN</td>\n",
              "    </tr>\n",
              "    <tr>\n",
              "      <th>2</th>\n",
              "      <td>BRFSS~2022~2022~16~Q03~TMC01~AGE~RACE</td>\n",
              "      <td>2022</td>\n",
              "      <td>2022</td>\n",
              "      <td>ID</td>\n",
              "      <td>Idaho</td>\n",
              "      <td>BRFSS</td>\n",
              "      <td>Mental Health</td>\n",
              "      <td>Frequent mental distress</td>\n",
              "      <td>Percentage of older adults who are experiencin...</td>\n",
              "      <td>%</td>\n",
              "      <td>...</td>\n",
              "      <td>Black, non-Hispanic</td>\n",
              "      <td>POINT (-114.36373 43.68263001)</td>\n",
              "      <td>C05</td>\n",
              "      <td>TMC01</td>\n",
              "      <td>Q03</td>\n",
              "      <td>16</td>\n",
              "      <td>AGE</td>\n",
              "      <td>65PLUS</td>\n",
              "      <td>RACE</td>\n",
              "      <td>BLK</td>\n",
              "    </tr>\n",
              "    <tr>\n",
              "      <th>3</th>\n",
              "      <td>BRFSS~2022~2022~24~Q03~TMC01~AGE~RACE</td>\n",
              "      <td>2022</td>\n",
              "      <td>2022</td>\n",
              "      <td>MD</td>\n",
              "      <td>Maryland</td>\n",
              "      <td>BRFSS</td>\n",
              "      <td>Mental Health</td>\n",
              "      <td>Frequent mental distress</td>\n",
              "      <td>Percentage of older adults who are experiencin...</td>\n",
              "      <td>%</td>\n",
              "      <td>...</td>\n",
              "      <td>Black, non-Hispanic</td>\n",
              "      <td>POINT (-76.60926011 39.29058096)</td>\n",
              "      <td>C05</td>\n",
              "      <td>TMC01</td>\n",
              "      <td>Q03</td>\n",
              "      <td>24</td>\n",
              "      <td>AGE</td>\n",
              "      <td>65PLUS</td>\n",
              "      <td>RACE</td>\n",
              "      <td>BLK</td>\n",
              "    </tr>\n",
              "    <tr>\n",
              "      <th>4</th>\n",
              "      <td>BRFSS~2022~2022~55~Q03~TMC01~AGE~GENDER</td>\n",
              "      <td>2022</td>\n",
              "      <td>2022</td>\n",
              "      <td>WI</td>\n",
              "      <td>Wisconsin</td>\n",
              "      <td>BRFSS</td>\n",
              "      <td>Mental Health</td>\n",
              "      <td>Frequent mental distress</td>\n",
              "      <td>Percentage of older adults who are experiencin...</td>\n",
              "      <td>%</td>\n",
              "      <td>...</td>\n",
              "      <td>Male</td>\n",
              "      <td>POINT (-89.81637074 44.39319117)</td>\n",
              "      <td>C05</td>\n",
              "      <td>TMC01</td>\n",
              "      <td>Q03</td>\n",
              "      <td>55</td>\n",
              "      <td>AGE</td>\n",
              "      <td>65PLUS</td>\n",
              "      <td>GENDER</td>\n",
              "      <td>MALE</td>\n",
              "    </tr>\n",
              "    <tr>\n",
              "      <th>...</th>\n",
              "      <td>...</td>\n",
              "      <td>...</td>\n",
              "      <td>...</td>\n",
              "      <td>...</td>\n",
              "      <td>...</td>\n",
              "      <td>...</td>\n",
              "      <td>...</td>\n",
              "      <td>...</td>\n",
              "      <td>...</td>\n",
              "      <td>...</td>\n",
              "      <td>...</td>\n",
              "      <td>...</td>\n",
              "      <td>...</td>\n",
              "      <td>...</td>\n",
              "      <td>...</td>\n",
              "      <td>...</td>\n",
              "      <td>...</td>\n",
              "      <td>...</td>\n",
              "      <td>...</td>\n",
              "      <td>...</td>\n",
              "      <td>...</td>\n",
              "    </tr>\n",
              "    <tr>\n",
              "      <th>284137</th>\n",
              "      <td>BRFSS~2016~2016~55~Q15~TSC02~AGE~RACE</td>\n",
              "      <td>2016</td>\n",
              "      <td>2016</td>\n",
              "      <td>WI</td>\n",
              "      <td>Wisconsin</td>\n",
              "      <td>BRFSS</td>\n",
              "      <td>Screenings and Vaccines</td>\n",
              "      <td>Colorectal cancer screening</td>\n",
              "      <td>Percentage of older adults who had either a ho...</td>\n",
              "      <td>%</td>\n",
              "      <td>...</td>\n",
              "      <td>Black, non-Hispanic</td>\n",
              "      <td>POINT (-89.81637074 44.39319117)</td>\n",
              "      <td>C03</td>\n",
              "      <td>TSC02</td>\n",
              "      <td>Q15</td>\n",
              "      <td>55</td>\n",
              "      <td>AGE</td>\n",
              "      <td>AGE_OVERALL</td>\n",
              "      <td>RACE</td>\n",
              "      <td>BLK</td>\n",
              "    </tr>\n",
              "    <tr>\n",
              "      <th>284138</th>\n",
              "      <td>BRFSS~2017~2017~56~Q45~TOC13~AGE~RACE</td>\n",
              "      <td>2017</td>\n",
              "      <td>2017</td>\n",
              "      <td>WY</td>\n",
              "      <td>Wyoming</td>\n",
              "      <td>BRFSS</td>\n",
              "      <td>Overall Health</td>\n",
              "      <td>Fair or poor health among older adults with ar...</td>\n",
              "      <td>Fair or poor health among older adults with do...</td>\n",
              "      <td>%</td>\n",
              "      <td>...</td>\n",
              "      <td>Hispanic</td>\n",
              "      <td>POINT (-108.1098304 43.23554134)</td>\n",
              "      <td>C01</td>\n",
              "      <td>TOC13</td>\n",
              "      <td>Q45</td>\n",
              "      <td>56</td>\n",
              "      <td>AGE</td>\n",
              "      <td>5064</td>\n",
              "      <td>RACE</td>\n",
              "      <td>HIS</td>\n",
              "    </tr>\n",
              "    <tr>\n",
              "      <th>284139</th>\n",
              "      <td>BRFSS~2015~2015~56~Q42~TCC04~AGE~RACE</td>\n",
              "      <td>2015</td>\n",
              "      <td>2015</td>\n",
              "      <td>WY</td>\n",
              "      <td>Wyoming</td>\n",
              "      <td>BRFSS</td>\n",
              "      <td>Cognitive Decline</td>\n",
              "      <td>Talked with health care professional about sub...</td>\n",
              "      <td>Percentage of older adults with subjective cog...</td>\n",
              "      <td>%</td>\n",
              "      <td>...</td>\n",
              "      <td>Asian/Pacific Islander</td>\n",
              "      <td>POINT (-108.1098304 43.23554134)</td>\n",
              "      <td>C06</td>\n",
              "      <td>TCC04</td>\n",
              "      <td>Q42</td>\n",
              "      <td>56</td>\n",
              "      <td>AGE</td>\n",
              "      <td>AGE_OVERALL</td>\n",
              "      <td>RACE</td>\n",
              "      <td>ASN</td>\n",
              "    </tr>\n",
              "    <tr>\n",
              "      <th>284140</th>\n",
              "      <td>BRFSS~2019~2019~54~Q46~TOC10~AGE~RACE</td>\n",
              "      <td>2019</td>\n",
              "      <td>2019</td>\n",
              "      <td>WV</td>\n",
              "      <td>West Virginia</td>\n",
              "      <td>BRFSS</td>\n",
              "      <td>Overall Health</td>\n",
              "      <td>Disability status, including sensory or mobili...</td>\n",
              "      <td>Percentage of older adults who report having a...</td>\n",
              "      <td>%</td>\n",
              "      <td>...</td>\n",
              "      <td>Hispanic</td>\n",
              "      <td>POINT (-80.71264013 38.6655102)</td>\n",
              "      <td>C01</td>\n",
              "      <td>TOC10</td>\n",
              "      <td>Q46</td>\n",
              "      <td>54</td>\n",
              "      <td>AGE</td>\n",
              "      <td>65PLUS</td>\n",
              "      <td>RACE</td>\n",
              "      <td>HIS</td>\n",
              "    </tr>\n",
              "    <tr>\n",
              "      <th>284141</th>\n",
              "      <td>BRFSS~2015~2015~56~Q02~TNC02~AGE~RACE</td>\n",
              "      <td>2015</td>\n",
              "      <td>2015</td>\n",
              "      <td>WY</td>\n",
              "      <td>Wyoming</td>\n",
              "      <td>BRFSS</td>\n",
              "      <td>Nutrition/Physical Activity/Obesity</td>\n",
              "      <td>Eating 3 or more vegetables daily</td>\n",
              "      <td>Percentage of older adults who are eating 3 or...</td>\n",
              "      <td>%</td>\n",
              "      <td>...</td>\n",
              "      <td>Native Am/Alaskan Native</td>\n",
              "      <td>POINT (-108.1098304 43.23554134)</td>\n",
              "      <td>C02</td>\n",
              "      <td>TNC02</td>\n",
              "      <td>Q02</td>\n",
              "      <td>56</td>\n",
              "      <td>AGE</td>\n",
              "      <td>5064</td>\n",
              "      <td>RACE</td>\n",
              "      <td>NAA</td>\n",
              "    </tr>\n",
              "  </tbody>\n",
              "</table>\n",
              "<p>284142 rows × 31 columns</p>\n",
              "</div>"
            ],
            "text/plain": [
              "                                          RowId  YearStart  YearEnd  \\\n",
              "0         BRFSS~2022~2022~42~Q03~TMC01~AGE~RACE       2022     2022   \n",
              "1         BRFSS~2022~2022~46~Q03~TMC01~AGE~RACE       2022     2022   \n",
              "2         BRFSS~2022~2022~16~Q03~TMC01~AGE~RACE       2022     2022   \n",
              "3         BRFSS~2022~2022~24~Q03~TMC01~AGE~RACE       2022     2022   \n",
              "4       BRFSS~2022~2022~55~Q03~TMC01~AGE~GENDER       2022     2022   \n",
              "...                                         ...        ...      ...   \n",
              "284137    BRFSS~2016~2016~55~Q15~TSC02~AGE~RACE       2016     2016   \n",
              "284138    BRFSS~2017~2017~56~Q45~TOC13~AGE~RACE       2017     2017   \n",
              "284139    BRFSS~2015~2015~56~Q42~TCC04~AGE~RACE       2015     2015   \n",
              "284140    BRFSS~2019~2019~54~Q46~TOC10~AGE~RACE       2019     2019   \n",
              "284141    BRFSS~2015~2015~56~Q02~TNC02~AGE~RACE       2015     2015   \n",
              "\n",
              "       LocationAbbr   LocationDesc Datasource  \\\n",
              "0                PA   Pennsylvania      BRFSS   \n",
              "1                SD   South Dakota      BRFSS   \n",
              "2                ID          Idaho      BRFSS   \n",
              "3                MD       Maryland      BRFSS   \n",
              "4                WI      Wisconsin      BRFSS   \n",
              "...             ...            ...        ...   \n",
              "284137           WI      Wisconsin      BRFSS   \n",
              "284138           WY        Wyoming      BRFSS   \n",
              "284139           WY        Wyoming      BRFSS   \n",
              "284140           WV  West Virginia      BRFSS   \n",
              "284141           WY        Wyoming      BRFSS   \n",
              "\n",
              "                                      Class  \\\n",
              "0                             Mental Health   \n",
              "1                             Mental Health   \n",
              "2                             Mental Health   \n",
              "3                             Mental Health   \n",
              "4                             Mental Health   \n",
              "...                                     ...   \n",
              "284137              Screenings and Vaccines   \n",
              "284138                       Overall Health   \n",
              "284139                    Cognitive Decline   \n",
              "284140                       Overall Health   \n",
              "284141  Nutrition/Physical Activity/Obesity   \n",
              "\n",
              "                                                    Topic  \\\n",
              "0                                Frequent mental distress   \n",
              "1                                Frequent mental distress   \n",
              "2                                Frequent mental distress   \n",
              "3                                Frequent mental distress   \n",
              "4                                Frequent mental distress   \n",
              "...                                                   ...   \n",
              "284137                        Colorectal cancer screening   \n",
              "284138  Fair or poor health among older adults with ar...   \n",
              "284139  Talked with health care professional about sub...   \n",
              "284140  Disability status, including sensory or mobili...   \n",
              "284141                  Eating 3 or more vegetables daily   \n",
              "\n",
              "                                                 Question Data_Value_Unit  \\\n",
              "0       Percentage of older adults who are experiencin...               %   \n",
              "1       Percentage of older adults who are experiencin...               %   \n",
              "2       Percentage of older adults who are experiencin...               %   \n",
              "3       Percentage of older adults who are experiencin...               %   \n",
              "4       Percentage of older adults who are experiencin...               %   \n",
              "...                                                   ...             ...   \n",
              "284137  Percentage of older adults who had either a ho...               %   \n",
              "284138  Fair or poor health among older adults with do...               %   \n",
              "284139  Percentage of older adults with subjective cog...               %   \n",
              "284140  Percentage of older adults who report having a...               %   \n",
              "284141  Percentage of older adults who are eating 3 or...               %   \n",
              "\n",
              "        ...           Stratification2                       Geolocation  \\\n",
              "0       ...  Native Am/Alaskan Native  POINT (-77.86070029 40.79373015)   \n",
              "1       ...    Asian/Pacific Islander  POINT (-100.3735306 44.35313005)   \n",
              "2       ...       Black, non-Hispanic    POINT (-114.36373 43.68263001)   \n",
              "3       ...       Black, non-Hispanic  POINT (-76.60926011 39.29058096)   \n",
              "4       ...                      Male  POINT (-89.81637074 44.39319117)   \n",
              "...     ...                       ...                               ...   \n",
              "284137  ...       Black, non-Hispanic  POINT (-89.81637074 44.39319117)   \n",
              "284138  ...                  Hispanic  POINT (-108.1098304 43.23554134)   \n",
              "284139  ...    Asian/Pacific Islander  POINT (-108.1098304 43.23554134)   \n",
              "284140  ...                  Hispanic   POINT (-80.71264013 38.6655102)   \n",
              "284141  ...  Native Am/Alaskan Native  POINT (-108.1098304 43.23554134)   \n",
              "\n",
              "        ClassID  TopicID QuestionID LocationID  StratificationCategoryID1  \\\n",
              "0           C05    TMC01        Q03         42                        AGE   \n",
              "1           C05    TMC01        Q03         46                        AGE   \n",
              "2           C05    TMC01        Q03         16                        AGE   \n",
              "3           C05    TMC01        Q03         24                        AGE   \n",
              "4           C05    TMC01        Q03         55                        AGE   \n",
              "...         ...      ...        ...        ...                        ...   \n",
              "284137      C03    TSC02        Q15         55                        AGE   \n",
              "284138      C01    TOC13        Q45         56                        AGE   \n",
              "284139      C06    TCC04        Q42         56                        AGE   \n",
              "284140      C01    TOC10        Q46         54                        AGE   \n",
              "284141      C02    TNC02        Q02         56                        AGE   \n",
              "\n",
              "        StratificationID1 StratificationCategoryID2 StratificationID2  \n",
              "0                    5064                      RACE               NAA  \n",
              "1                  65PLUS                      RACE               ASN  \n",
              "2                  65PLUS                      RACE               BLK  \n",
              "3                  65PLUS                      RACE               BLK  \n",
              "4                  65PLUS                    GENDER              MALE  \n",
              "...                   ...                       ...               ...  \n",
              "284137        AGE_OVERALL                      RACE               BLK  \n",
              "284138               5064                      RACE               HIS  \n",
              "284139        AGE_OVERALL                      RACE               ASN  \n",
              "284140             65PLUS                      RACE               HIS  \n",
              "284141               5064                      RACE               NAA  \n",
              "\n",
              "[284142 rows x 31 columns]"
            ]
          },
          "execution_count": 2,
          "metadata": {},
          "output_type": "execute_result"
        }
      ],
      "source": [
        "df = pd.read_csv('./Alzheimer_s_Disease_and_Healthy_Aging_Data.csv')\n",
        "df"
      ]
    },
    {
      "cell_type": "markdown",
      "metadata": {
        "id": "6zP9EwsKve8l"
      },
      "source": [
        "\n",
        "### A)\n",
        "Vous remarquerez que ce jeu de données est assez large, avec 284142 lignes et 31 colonnes.\n",
        "\n",
        "Avec des ensembles de données de cette taille, on peut souvent trouver des défauts, comme des doublons de lignes.\n",
        "Vérifiez donc s'il existe des valeurs en double dans le DataFrame. <b>(2 points)</b>"
      ]
    },
    {
      "cell_type": "code",
      "execution_count": 3,
      "metadata": {
        "collapsed": true,
        "id": "6JJzhtUMyzuC"
      },
      "outputs": [
        {
          "name": "stdout",
          "output_type": "stream",
          "text": [
            "Nombre total de lignes : 284142\n",
            "Nombre de doublons : 0\n",
            "Pourcentage de doublons : 0.00%\n"
          ]
        }
      ],
      "source": [
        "# Vérifions d'abord le nombre total de lignes\n",
        "total_rows = len(df)\n",
        "\n",
        "# Comptons maintenant les doublons\n",
        "duplicates = df.duplicated()\n",
        "num_duplicates = duplicates.sum()\n",
        "\n",
        "# Affichons les résultats\n",
        "print(f\"Nombre total de lignes : {total_rows}\")\n",
        "print(f\"Nombre de doublons : {num_duplicates}\")\n",
        "print(f\"Pourcentage de doublons : {(num_duplicates/total_rows * 100):.2f}%\")\n",
        "\n",
        "# Affichons quelques exemples de doublons s'il y en a\n",
        "if num_duplicates > 0:\n",
        "    print(\"\\nExemples de lignes dupliquées :\")\n",
        "    print(df[duplicates])"
      ]
    },
    {
      "cell_type": "markdown",
      "metadata": {
        "id": "a43M_-VLZ-eB"
      },
      "source": [
        "### B)\n",
        "Il est possible d'extraire la durée du sondage en soustrayant l'année de début de l'année de fin. Utilisez lambda, ainsi que cette soustraction, pour garder les lignes avec une durée de sondage de moins d'1 an. <b>(3 points)</b>"
      ]
    },
    {
      "cell_type": "code",
      "execution_count": 4,
      "metadata": {
        "colab": {
          "base_uri": "https://localhost:8080/",
          "height": 1000
        },
        "id": "IhyVILpNLj57",
        "outputId": "7e44f190-25b5-4174-e6f5-2a4d0cb9d55e"
      },
      "outputs": [
        {
          "name": "stdout",
          "output_type": "stream",
          "text": [
            "Nombre de lignes avant filtrage : 284142\n",
            "Nombre de lignes après filtrage : 274881\n"
          ]
        }
      ],
      "source": [
        "# Créons une copie du DataFrame original\n",
        "df_filtered = df.copy()\n",
        "\n",
        "# Appliquons le filtre pour garder les lignes où la durée est < 1 an\n",
        "df_filtered = df_filtered[df_filtered.apply(lambda x: x['YearEnd'] - x['YearStart'] < 1, axis=1)]\n",
        "\n",
        "# Affichons le nombre de lignes avant et après le filtrage\n",
        "print(f\"Nombre de lignes avant filtrage : {len(df)}\")\n",
        "print(f\"Nombre de lignes après filtrage : {len(df_filtered)}\")"
      ]
    },
    {
      "cell_type": "markdown",
      "metadata": {
        "id": "0W2AvdW8a_J_"
      },
      "source": [
        "### C)\n",
        "Maintenant que cette étape est faite, les colonnes YearStart et YearEnd contiennent la même information. Renommez une des deux colonnes à `Year`, et supprimez l'autre. <b>(2 points)</b>"
      ]
    },
    {
      "cell_type": "code",
      "execution_count": 5,
      "metadata": {
        "id": "M2UmwXoY7j2v"
      },
      "outputs": [],
      "source": [
        "# Créons une copie du DataFrame précédent\n",
        "df_renamed = df_filtered.copy()\n",
        "\n",
        "# Renommons YearStart en Year\n",
        "df_renamed = df_renamed.rename(columns={'YearStart': 'Year'})\n",
        "\n",
        "# Supprimons YearEnd qui est redondante\n",
        "df_renamed = df_renamed.drop('YearEnd', axis=1)"
      ]
    },
    {
      "cell_type": "markdown",
      "metadata": {
        "id": "A8AQ5voy7j2v"
      },
      "source": [
        "### D)\n",
        "Certaines colonnes contiennent des données redondantes ou inutiles pour notre analyse. Éliminez toutes les colonnes inutiles en ne conservant que celles mentionnées dans l'introduction. Combien de colonnes reste-t-il ? <b>(2 points)</b>"
      ]
    },
    {
      "cell_type": "code",
      "execution_count": 6,
      "metadata": {
        "id": "ryL97wR77j2v"
      },
      "outputs": [
        {
          "name": "stdout",
          "output_type": "stream",
          "text": [
            "Nombre de colonnes initiales : 30\n",
            "Nombre de colonnes restantes : 11\n"
          ]
        }
      ],
      "source": [
        "# Créons une copie du DataFrame précédent\n",
        "df_cleaned = df_renamed.copy()\n",
        "\n",
        "# Liste des colonnes à conserver selon l'introduction\n",
        "colonnes_a_garder = [\n",
        "    'Year',  # renommée de YearStart\n",
        "    'LocationAbbr',\n",
        "    'Class',\n",
        "    'Topic',\n",
        "    'Question',\n",
        "    'Data_Value_Unit',\n",
        "    'Data_Value',\n",
        "    'StratificationCategory1',\n",
        "    'Stratification1',\n",
        "    'StratificationCategory2',\n",
        "    'Stratification2'\n",
        "]\n",
        "\n",
        "# Gardons uniquement ces colonnes\n",
        "df_cleaned = df_cleaned[colonnes_a_garder]\n",
        "\n",
        "# Affichons le nombre de colonnes, initiales et restantes\n",
        "print(f\"Nombre de colonnes initiales : {len(df_renamed.columns)}\")\n",
        "print(f\"Nombre de colonnes restantes : {len(df_cleaned.columns)}\")"
      ]
    },
    {
      "cell_type": "markdown",
      "metadata": {
        "id": "gMy_IkMd7j2w"
      },
      "source": [
        "### E)\n",
        "\n",
        "Comme vu dans le module 1, le prétraitement des données consiste à gérer les défauts des données collectées, comme les valeurs nulles. La colonne `Data_Value` est importante pour notre analyse.\n",
        "\n",
        "Vérifiez donc s'il existe des données manquantes dans la colonne `Data_Value`. Quel est le pourcentage de valeurs manquantes ? <b>(3 points)</b>"
      ]
    },
    {
      "cell_type": "code",
      "execution_count": 7,
      "metadata": {
        "id": "6RbAFSC37j2w"
      },
      "outputs": [
        {
          "name": "stdout",
          "output_type": "stream",
          "text": [
            "Nombre total de lignes : 274881\n",
            "Nombre de valeurs manquantes dans Data_Value : 88286\n",
            "Pourcentage de valeurs manquantes : 32.12%\n"
          ]
        }
      ],
      "source": [
        "# Créons une copie du DataFrame précédent\n",
        "df_missing = df_cleaned.copy()\n",
        "\n",
        "# Calculons le nombre total de lignes\n",
        "total_rows = len(df_missing)\n",
        "\n",
        "# Calculons le nombre de valeurs manquantes dans Data_Value\n",
        "missing_values = df_missing['Data_Value'].isna().sum()\n",
        "\n",
        "# Calculons le pourcentage de valeurs manquantes\n",
        "missing_percentage = (missing_values / total_rows) * 100\n",
        "\n",
        "# Affichons les résultats\n",
        "print(f\"Nombre total de lignes : {total_rows}\")\n",
        "print(f\"Nombre de valeurs manquantes dans Data_Value : {missing_values}\")\n",
        "print(f\"Pourcentage de valeurs manquantes : {missing_percentage:.2f}%\")"
      ]
    },
    {
      "cell_type": "markdown",
      "metadata": {
        "id": "cfLnrzgH7j2w"
      },
      "source": [
        "\n",
        "### F)\n",
        "Deux façons de traiter les données manquantes: les remplacer par la valeur médiane ou les éliminer complètement.\n",
        "\n",
        "Il n’existe pas de solution **unique ou meilleure**. Tout dépend de l’analyse effectuée. Il est essentiel d’examiner les effets de chacun de ces choix sur l’analyse ultérieure. C’est pourquoi, dans ce TP, nous essayerons les deux méthodes.\n",
        "\n",
        "Vous devez donc:\n",
        "\n",
        "1. Créez deux copies de l'ensemble de données.\n",
        "2. Supprimez les valeurs manquantes d'une des copies.\n",
        "3. Remplacez les valeurs manquantes d'une autre copie par la médiane.\n",
        "\n",
        "Affichez les nouveaux dataframes. Vous devriez avoir autour de 186595 lignes pour l'un et 274881 lignes pour l'autre. <b>(4 points)</b>"
      ]
    },
    {
      "cell_type": "code",
      "execution_count": 8,
      "metadata": {
        "id": "SkCA_UQx7j2w"
      },
      "outputs": [
        {
          "name": "stdout",
          "output_type": "stream",
          "text": [
            "DataFrame avec suppression des valeurs manquantes :\n",
            "Nombre de lignes : 186595\n",
            "\n",
            "DataFrame avec remplacement par la médiane ( 33.0 ) :\n",
            "Nombre de lignes : 274881\n",
            "\n",
            "Vérification des valeurs manquantes restantes :\n",
            "Dans df_drop : 0\n",
            "Dans df_median : 0\n"
          ]
        }
      ],
      "source": [
        "# Créons deux copies du DataFrame\n",
        "df_drop = df_missing.copy()\n",
        "df_median = df_missing.copy()\n",
        "\n",
        "# Supprimons les valeurs manquantes dans la première copie\n",
        "df_drop = df_drop.dropna(subset=['Data_Value'])\n",
        "\n",
        "# Remplaçons les valeurs manquantes par la médiane dans la seconde copie\n",
        "median_value = df_median['Data_Value'].median()\n",
        "df_median = df_median.fillna({'Data_Value': median_value})\n",
        "\n",
        "# Affichons les résultats\n",
        "print(\"DataFrame avec suppression des valeurs manquantes :\")\n",
        "print(f\"Nombre de lignes : {len(df_drop)}\")\n",
        "\n",
        "print(\"\\nDataFrame avec remplacement par la médiane (\", median_value, \") :\")\n",
        "print(f\"Nombre de lignes : {len(df_median)}\")\n",
        "\n",
        "# Vérifions qu'il n'y a plus de valeurs manquantes\n",
        "print(\"\\nVérification des valeurs manquantes restantes :\")\n",
        "print(\"Dans df_drop :\", df_drop['Data_Value'].isna().sum())\n",
        "print(\"Dans df_median :\", df_median['Data_Value'].isna().sum())"
      ]
    },
    {
      "cell_type": "markdown",
      "metadata": {
        "id": "RMjYOZWo7j2w"
      },
      "source": [
        "**Note :** Pour la suite du travail, chaque étape devra être réalisée sur les deux copies de l'ensemble de données.\n",
        "\n",
        "### G)\n",
        "\n",
        "Plusieurs classes existent. On va évaluer la santé mentale \"Mental Health\".\n",
        "Filtrez les données de la colonne \"class\" pour la valeur \"Mental Health\", puis déterminez la moyenne de `Data_Value` par `Year` et `Topic`. <b>(2 points)</b>"
      ]
    },
    {
      "cell_type": "code",
      "execution_count": 9,
      "metadata": {
        "id": "4wsEHZVo7j2w"
      },
      "outputs": [
        {
          "name": "stdout",
          "output_type": "stream",
          "text": [
            "Moyennes pour les données avec suppression des valeurs manquantes :\n",
            "Year  Topic                           \n",
            "2015  Frequent mental distress            10.370795\n",
            "      Lifetime diagnosis of depression    18.838661\n",
            "2016  Frequent mental distress            10.678795\n",
            "      Lifetime diagnosis of depression    17.439112\n",
            "2017  Frequent mental distress            10.960913\n",
            "      Lifetime diagnosis of depression    19.199265\n",
            "2018  Frequent mental distress            10.930743\n",
            "      Lifetime diagnosis of depression    17.982196\n",
            "2019  Frequent mental distress            10.901620\n",
            "      Lifetime diagnosis of depression    17.487637\n",
            "2020  Frequent mental distress            10.770949\n",
            "      Lifetime diagnosis of depression    17.193873\n",
            "2021  Frequent mental distress            11.314676\n",
            "      Lifetime diagnosis of depression    17.323026\n",
            "2022  Frequent mental distress            11.792802\n",
            "      Lifetime diagnosis of depression    17.957388\n",
            "Name: Data_Value, dtype: float64\n",
            "\n",
            "Moyennes pour les données avec remplacement par la médiane :\n",
            "Year  Topic                           \n",
            "2015  Frequent mental distress            18.601085\n",
            "      Lifetime diagnosis of depression    23.518149\n",
            "2016  Frequent mental distress            18.775391\n",
            "      Lifetime diagnosis of depression    22.530156\n",
            "2017  Frequent mental distress            18.710397\n",
            "      Lifetime diagnosis of depression    23.513863\n",
            "2018  Frequent mental distress            18.829718\n",
            "      Lifetime diagnosis of depression    22.814389\n",
            "2019  Frequent mental distress            18.950699\n",
            "      Lifetime diagnosis of depression    22.567108\n",
            "2020  Frequent mental distress            19.122905\n",
            "      Lifetime diagnosis of depression    22.561561\n",
            "2021  Frequent mental distress            19.217354\n",
            "      Lifetime diagnosis of depression    22.662039\n",
            "2022  Frequent mental distress            19.408730\n",
            "      Lifetime diagnosis of depression    23.028531\n",
            "Name: Data_Value, dtype: float64\n",
            "\n",
            "Nombre de lignes (données avec suppression) : 14508\n",
            "Nombre de lignes (données avec médiane) : 22184\n"
          ]
        }
      ],
      "source": [
        "# Pour le DataFrame avec suppression des valeurs manquantes\n",
        "df_drop_mental = df_drop[df_drop['Class'] == 'Mental Health']\n",
        "mental_health_means_drop = df_drop_mental.groupby(['Year', 'Topic'])['Data_Value'].mean()\n",
        "\n",
        "# Pour le DataFrame avec remplacement par la médiane\n",
        "df_median_mental = df_median[df_median['Class'] == 'Mental Health']\n",
        "mental_health_means_median = df_median_mental.groupby(['Year', 'Topic'])['Data_Value'].mean()\n",
        "\n",
        "# Affichons les résultats\n",
        "print(\"Moyennes pour les données avec suppression des valeurs manquantes :\")\n",
        "print(mental_health_means_drop)\n",
        "print(\"\\nMoyennes pour les données avec remplacement par la médiane :\")\n",
        "print(mental_health_means_median)\n",
        "\n",
        "# Affichons aussi le nombre de lignes dans chaque cas\n",
        "print(f\"\\nNombre de lignes (données avec suppression) : {len(df_drop_mental)}\")\n",
        "print(f\"Nombre de lignes (données avec médiane) : {len(df_median_mental)}\")"
      ]
    },
    {
      "cell_type": "markdown",
      "metadata": {
        "id": "znpsydXn7j2w"
      },
      "source": [
        "### H)\n",
        "Il est temps de comparer la suppression des données manquantes vs leur remplacement par la médiane. Pour cela, affichez les valeurs moyennes de `Data_Value` par année, pour chaque groupe et chaque topic. <b>(3 points)</b>"
      ]
    },
    {
      "cell_type": "code",
      "execution_count": 10,
      "metadata": {
        "colab": {
          "base_uri": "https://localhost:8080/",
          "height": 565
        },
        "id": "Y3XF0pzq7j2x",
        "outputId": "1674fb85-978c-4063-eacc-d1847212c772"
      },
      "outputs": [
        {
          "name": "stdout",
          "output_type": "stream",
          "text": [
            "Moyennes des données (suppression des valeurs manquantes) :\n",
            "Year  Class                    Topic                                                                   \n",
            "2015  Caregiving               Duration of caregiving among older adults                                   71.807449\n",
            "                               Expect to provide care for someone in the next two years                    18.322511\n",
            "                               Intensity of caregiving among older adults                                  30.750682\n",
            "                               Provide care for a friend or family member in past month                    22.575906\n",
            "                               Provide care for someone with cognitive impairment within the past month    11.159585\n",
            "                                                                                                             ...    \n",
            "2022  Screenings and Vaccines  Pap test within past 3 years                                                41.474790\n",
            "                               Up-to-date with recommended vaccines and screenings - Men                   39.180680\n",
            "                               Up-to-date with recommended vaccines and screenings - Women                 32.151133\n",
            "      Smoking and Alcohol Use  Binge drinking within past 30 days                                          10.292663\n",
            "                               Current smoking                                                             13.716592\n",
            "Name: Data_Value, Length: 250, dtype: float64\n",
            "\n",
            "Moyennes des données (remplacement par la médiane) :\n",
            "Year  Class                    Topic                                                                   \n",
            "2015  Caregiving               Duration of caregiving among older adults                                   58.930166\n",
            "                               Expect to provide care for someone in the next two years                    23.243165\n",
            "                               Intensity of caregiving among older adults                                  31.491311\n",
            "                               Provide care for a friend or family member in past month                    25.975718\n",
            "                               Provide care for someone with cognitive impairment within the past month    20.284465\n",
            "                                                                                                             ...    \n",
            "2022  Screenings and Vaccines  Pap test within past 3 years                                                37.980247\n",
            "                               Up-to-date with recommended vaccines and screenings - Men                   36.702363\n",
            "                               Up-to-date with recommended vaccines and screenings - Women                 32.510376\n",
            "      Smoking and Alcohol Use  Binge drinking within past 30 days                                          19.382044\n",
            "                               Current smoking                                                             20.710078\n",
            "Name: Data_Value, Length: 250, dtype: float64\n"
          ]
        },
        {
          "data": {
            "image/png": "[encoded data removed]",
            "text/plain": [
              "<Figure size 1200x600 with 1 Axes>"
            ]
          },
          "metadata": {},
          "output_type": "display_data"
        }
      ],
      "source": [
        "# Calcul des moyennes pour les données avec suppression des valeurs manquantes\n",
        "group_means_drop = df_drop.groupby(['Year', 'Class', 'Topic'])['Data_Value'].mean()\n",
        "\n",
        "# Calcul des moyennes pour les données avec remplacement par la médiane\n",
        "group_means_median = df_median.groupby(['Year', 'Class', 'Topic'])['Data_Value'].mean()\n",
        "\n",
        "# Comparaison des résultats\n",
        "print(\"Moyennes des données (suppression des valeurs manquantes) :\")\n",
        "print(group_means_drop)\n",
        "print(\"\\nMoyennes des données (remplacement par la médiane) :\")\n",
        "print(group_means_median)\n",
        "\n",
        "# Affichage des tendances (visualisation)\n",
        "import matplotlib.pyplot as plt\n",
        "\n",
        "comparison = pd.DataFrame({\n",
        "    'Suppression': group_means_drop,\n",
        "    'Remplacement_médiane': group_means_median\n",
        "}).reset_index()\n",
        "\n",
        "# Extraction des données pour \"Mental Health\" uniquement, par exemple\n",
        "comparison_mental = comparison[comparison['Class'] == 'Mental Health']\n",
        "\n",
        "# Graphique pour chaque topic\n",
        "topics = comparison_mental['Topic'].unique()\n",
        "plt.figure(figsize=(12, 6))\n",
        "\n",
        "for topic in topics:\n",
        "    topic_data = comparison_mental[comparison_mental['Topic'] == topic]\n",
        "    plt.plot(topic_data['Year'], topic_data['Suppression'], label=f'{topic} (Suppression)', marker='o')\n",
        "    plt.plot(topic_data['Year'], topic_data['Remplacement_médiane'], label=f'{topic} (Médiane)', linestyle='--', marker='x')\n",
        "\n",
        "plt.title(\"Comparaison des moyennes de Data_Value par méthode (Mental Health)\")\n",
        "plt.xlabel(\"Année\")\n",
        "plt.ylabel(\"Moyenne de Data_Value\")\n",
        "plt.legend()\n",
        "plt.grid()\n",
        "plt.show()\n"
      ]
    },
    {
      "cell_type": "markdown",
      "metadata": {
        "id": "0rT7_Mm0OIaD"
      },
      "source": [
        "## 3. LIVRABLES\n",
        "Vous devez remettre sur Moodle un fichier compressé .zip contenant :\n",
        "\n",
        "1) Le code : Un Jupyter notebook en Python qui contient le code tel implanté avec les librairies minimales demandées pour ce TP (Python, Pandas, Matplotlib). Le code doit être exécutable sans erreur et accompagné des commentaires appropriés dans le notebook de manière. Tous vos résultats doivent être reproductibles avec le code dans le notebook. *Attention, en aucun cas votre code ne doit avoir été copié de d'ailleurs.*\n",
        "\n",
        "2) Un fichier pdf représentant votre notebook complètement exécuté sous format pdf (obtenu via latex ou imprimé en pdf avec le navigateur). Assurez-vous que le PDF est entièrement lisible. [Tutoriel youtube](https://www.youtube.com/watch?v=-Ti9Mm21uVc)\n",
        "\n",
        "ATTENTION: assurez-vous que votre fichier compressé .zip ne dépasse pas la taille limite acceptée sur Moodle.\n"
      ]
    },
    {
      "cell_type": "markdown",
      "metadata": {
        "id": "JkxB1hfwRQw9"
      },
      "source": [
        "__ÉVALUATION__ <br>\n",
        "Votre TP sera évalué sur les points suivants :\n",
        "\n",
        "__Critères :__\n",
        "1. Implantation correcte et efficace\n",
        "2. Qualité du code (noms significatifs, structure, performance, gestion d’exception, etc.) <b>(1 point)</b>\n",
        "3. Réponses correctes/sensées aux questions de réflexion ou d'analyse\n",
        "\n",
        "__CODE D’HONNEUR__\n",
        "- __Règle 1__:  Le plagiat de code est bien évidemment interdit. Toute utilisation de code doit être référencée adéquatement. Vous __ne pouvez pas__ soumettre un code, écrit par quelqu’un d’autre. Dans le cas contraire, cela sera considéré comme du plagiat.\n",
        "- __Règle 2__: Vous êtes libres de discuter avec d'autres équipes. Cependant, vous ne pouvez en aucun cas incorporer leur code dans votre TP.\n",
        "- __Règle 3__:  Vous ne pouvez pas partager votre code publiquement (par exemple, dans un dépôt GitHub public) tant que le cours n'est pas fini."
      ]
    },
    {
      "cell_type": "markdown",
      "metadata": {
        "id": "6B9vE0FUSGFP"
      },
      "source": [
        "### Conversion en PDF sur Google Colab"
      ]
    },
    {
      "cell_type": "code",
      "execution_count": 11,
      "metadata": {
        "id": "Iig7VzFFN11u"
      },
      "outputs": [],
      "source": [
        "%%capture\n",
        "!sudo apt-get install texlive-xetex texlive-fonts-recommended texlive-plain-generic"
      ]
    },
    {
      "cell_type": "markdown",
      "metadata": {
        "id": "tz0BpqmcU9ZA"
      },
      "source": [
        "Assurez vous d'avoir téléchargé le TP complété en notebook sur votre ordinateur, puis importé ce fichier dans le répertoire \"content\" avant de rouler la ligne suivante."
      ]
    },
    {
      "cell_type": "code",
      "execution_count": null,
      "metadata": {
        "id": "OPSlcCFrSqik"
      },
      "outputs": [],
      "source": [
        "!jupyter nbconvert --to pdf /content/TP1.ipynb"
      ]
    }
  ],
  "metadata": {
    "colab": {
      "provenance": []
    },
    "kernelspec": {
      "display_name": "Python 3",
      "name": "python3"
    },
    "language_info": {
      "codemirror_mode": {
        "name": "ipython",
        "version": 3
      },
      "file_extension": ".py",
      "mimetype": "text/x-python",
      "name": "python",
      "nbconvert_exporter": "python",
      "pygments_lexer": "ipython3",
      "version": "3.12.1"
    }
  },
  "nbformat": 4,
  "nbformat_minor": 0
}
