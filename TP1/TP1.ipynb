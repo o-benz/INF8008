{
  "cells": [
    {
      "cell_type": "markdown",
      "metadata": {
        "id": "th8R6iFhsz79"
      },
      "source": [
        "## <center> Polytechnique Montréal <br> Département Génie Informatique et Génie Logiciel <br>  INF8008 – Prétraitement de données <br> . <br> TP1  - Analyse descriptive des données<br>  Hiver 2025 <br> . <br> 20 janvier 2025 </center>"
      ]
    },
    {
      "cell_type": "markdown",
      "metadata": {
        "id": "4-uCAmWYtjG8"
      },
      "source": [
        "## Introduction\n",
        "\n",
        "Le TD1 porte sur l'analyse descriptive de données.  Nous survolons l'utilisation de fonctions de base de Pandas et de l'analyse de données numériques et de leur visualisation.\n",
        "\n",
        "Les données du fichier <b> ntsb-accidents.csv </b> proviennent d'une base de données sur les accidents d’aviation provenant du <a href = https://carol.ntsb.gov> National Transportation Safety Board </a>. Nous nous en inspirerons pour le travail des TPs de cette session.\n",
        "\n",
        "Les champs du fichier de données <b> ntsb-accidents.csv </b> sont les suivants :\n",
        "\n",
        "- **event_id** : Identifiant unique de l'événement (souvent un code de référence pour suivre chaque cas).\n",
        "- **ntsb_make** : Fabricant de l'appareil impliqué dans l'événement (exemple : BELL, ROBINSON).\n",
        "- **ntsb_model** : Modèle spécifique de l'appareil (exemple : R22 BETA, R44).\n",
        "- **ntsb_number** : Code d'identification de l'incident assigné par la NTSB.\n",
        "- **year** : Année où l'événement a eu lieu.\n",
        "- **date** : Date et heure exactes de l'événement (année/mois/jour heure:minute:seconde).\n",
        "- **city** : Ville où l'événement s'est produit.\n",
        "- **state** : État ou province où l'événement s'est produit.\n",
        "- **country** : Pays où l'événement a eu lieu.\n",
        "- **total_fatalities** : Nombre total de décès associés à l'incident.\n",
        "- **latimes_make** : Fabricant simplifié utilisé dans les rapports (exemple : BELL, ROBINSON).\n",
        "- **latimes_model** : Modèle simplifié utilisé dans les rapports (exemple : R22, 369).\n",
        "- **latimes_make_and_model** : Combinaison du fabricant et du modèle pour décrire l'appareil de manière concise (exemple : BELL 407, ROBINSON R44).\n",
        "\n"
      ]
    },
    {
      "cell_type": "markdown",
      "metadata": {
        "id": "jSAmD2Iuuxds"
      },
      "source": [
        "Les librairies python qui seront à utiliser pour ce TP sont les suivantes:\n",
        "- [pandas](https://pandas.pydata.org/docs/user_guide/index.html)\n",
        "- [matplotlib](https://matplotlib.org/stable/users/explain/quick_start.html)\n",
        "\n",
        "\n"
      ]
    },
    {
      "cell_type": "code",
      "execution_count": null,
      "metadata": {
        "id": "Yowt8NL4v29E"
      },
      "outputs": [],
      "source": [
        "import pandas as pd"
      ]
    },
    {
      "cell_type": "markdown",
      "metadata": {
        "id": "6zP9EwsKve8l"
      },
      "source": [
        "## 1. Analyse des données numériques\n",
        "\n",
        "\n",
        "### Q1\n",
        "À l'aide de Pandas, chargez les données dans une variable nommée 'df'. Quelle est la dimension de 'df'? Combien y a-t-il de lignes et de colonnes? <b>(2 points)</b>"
      ]
    },
    {
      "cell_type": "code",
      "execution_count": null,
      "metadata": {
        "colab": {
          "base_uri": "https://localhost:8080/",
          "height": 597
        },
        "id": "6JJzhtUMyzuC",
        "outputId": "c971e578-3b35-4555-d08f-7df41a83794f"
      },
      "outputs": [],
      "source": [
        "#TODO: Chargement et affichage de df\n"
      ]
    },
    {
      "cell_type": "code",
      "execution_count": null,
      "metadata": {
        "colab": {
          "base_uri": "https://localhost:8080/"
        },
        "id": "RRr24fyJsmzX",
        "outputId": "795df170-be7b-47cd-d23d-d7459369a841"
      },
      "outputs": [],
      "source": [
        "#TODO: Complétez ce code afin d'afficher les bonnes informations dans les \"print\".\n",
        "\n"
      ]
    },
    {
      "cell_type": "markdown",
      "metadata": {
        "id": "gyXbJPKzyDbw"
      },
      "source": [
        "### Q2\n",
        "Quelle est l'intervalle d'années et l'ensemble des fabricants et modèles d'hélicoptères compris dans le jeu de données?<b>(1 point)</b>"
      ]
    },
    {
      "cell_type": "code",
      "execution_count": null,
      "metadata": {
        "colab": {
          "base_uri": "https://localhost:8080/"
        },
        "id": "BwUGtes-v0n0",
        "outputId": "268da871-7e35-4f88-a414-44775837486f"
      },
      "outputs": [],
      "source": [
        "#TODO:\n",
        "\n"
      ]
    },
    {
      "cell_type": "markdown",
      "metadata": {
        "id": "arqXC2AS-YwE"
      },
      "source": [
        "### Q3\n",
        "Combien de décès y a-t-il en moyenne? <b>(1 point)</b>"
      ]
    },
    {
      "cell_type": "code",
      "execution_count": null,
      "metadata": {
        "colab": {
          "base_uri": "https://localhost:8080/"
        },
        "id": "w6vAYZ9I-YwF",
        "outputId": "dea4e3e0-70b9-4a0b-f0a8-da6eb8326bcd"
      },
      "outputs": [],
      "source": [
        "#TODO:\n"
      ]
    },
    {
      "cell_type": "markdown",
      "metadata": {
        "id": "hATy_JNm0kQH"
      },
      "source": [
        "### Q4\n",
        "Combien d'**accidents** y a-t-il eu pour chaque combinaison de fabricant et modèle d'hélicoptère? Créez un tableau de fréquence du nombre d'accidents par combinaison de fabricant et modèle.  <b>(3 points)</b>\n"
      ]
    },
    {
      "cell_type": "code",
      "execution_count": null,
      "metadata": {
        "colab": {
          "base_uri": "https://localhost:8080/"
        },
        "id": "fu8P0Y8m37B-",
        "outputId": "ec64fabb-c25a-4666-b741-135fc5b26f96"
      },
      "outputs": [],
      "source": [
        "#TODO:\n",
        "\n"
      ]
    },
    {
      "cell_type": "markdown",
      "metadata": {
        "id": "24Ca2hNYFu6u"
      },
      "source": [
        "### Q5\n",
        "Déterminez la moyenne, la médiane et l'écart-type du nombre de décès. Dans un premier temps, fournissez les statistiques avec AIRBUS 350.  Puis, dans un second temps, fournissez les statistiques avec ROBINSON R44.<b>(3 points)</b>"
      ]
    },
    {
      "cell_type": "code",
      "execution_count": null,
      "metadata": {
        "colab": {
          "base_uri": "https://localhost:8080/"
        },
        "id": "LDXMzCZH_Zyu",
        "outputId": "9d584485-fa19-485f-8302-9dbca9f1b427"
      },
      "outputs": [],
      "source": [
        "# Calcul des statistiques pour AIRBUS 350\n",
        "\n",
        "\n",
        "# Calcul des statistiques pour ROBINSON R44\n"
      ]
    },
    {
      "cell_type": "code",
      "execution_count": null,
      "metadata": {
        "colab": {
          "base_uri": "https://localhost:8080/"
        },
        "id": "5sI3Ti0UFuVg",
        "outputId": "612b22bb-2970-4b8e-ab8c-46058c295448"
      },
      "outputs": [],
      "source": [
        "#TODO:\n"
      ]
    },
    {
      "cell_type": "markdown",
      "metadata": {
        "id": "NN-3hJmH5vU7"
      },
      "source": [
        "### Q6\n",
        "Combien d’accidents ont enregistré plus d’un décès?\n",
        "Combien de décès se sont produits en Californie en 2015? <b>(1 point)</b>"
      ]
    },
    {
      "cell_type": "code",
      "execution_count": null,
      "metadata": {
        "colab": {
          "base_uri": "https://localhost:8080/"
        },
        "id": "FQgpoppx8GOf",
        "outputId": "9f5557ed-6250-4813-abd4-3a1821453c5f"
      },
      "outputs": [],
      "source": [
        "#TODO:\n",
        "\n"
      ]
    },
    {
      "cell_type": "markdown",
      "metadata": {
        "id": "Is2pL61E2cA9"
      },
      "source": [
        "## 2. Visualisation de données"
      ]
    },
    {
      "cell_type": "code",
      "execution_count": null,
      "metadata": {
        "id": "X_ZqXvKZ1-wB"
      },
      "outputs": [],
      "source": []
    },
    {
      "cell_type": "markdown",
      "metadata": {
        "id": "q2P0oK6KDBCh"
      },
      "source": [
        "### Q7\n",
        "Affichez le nombre de décès par année. Nommez vos axes et donnez un titre à votre graphique. Qu’observez-vous? Quelle année marque le plus de décès? Quelle année marque le moins?<b>(3 points)</b>"
      ]
    },
    {
      "cell_type": "code",
      "execution_count": null,
      "metadata": {
        "colab": {
          "base_uri": "https://localhost:8080/",
          "height": 491
        },
        "id": "szVOQ95VC-lU",
        "outputId": "f68e1c71-238b-4540-e09d-0380eafd7fb6"
      },
      "outputs": [],
      "source": [
        "#TODO:\n",
        "\n"
      ]
    },
    {
      "cell_type": "markdown",
      "metadata": {
        "id": "9gr4L6CFH2pL"
      },
      "source": [
        "### Q8\n",
        "En utilisant la fonction subplot de matplotlib:\n",
        "\n",
        "1) Affichez le nombre d'accidents par année dans un diagramme à barres.\n",
        "\n",
        "2) Affichez le nombre de décès par année dans un diagramme à barres.\n",
        "\n",
        "Nommez vos axes et donnez un titre à votre graphique.\n",
        "En comparant ceux-ci, observez-vous une relation entre le nombre de décès et d'accidents? Pouvez-vous justifier la cause du nombre de décès minimal de l'année évoquée dans la question 7?  <b>(5 points)</b>"
      ]
    },
    {
      "cell_type": "code",
      "execution_count": null,
      "metadata": {
        "colab": {
          "base_uri": "https://localhost:8080/",
          "height": 607
        },
        "id": "e8zLBkxFK37A",
        "outputId": "f5a0df05-1cb6-4125-cace-d4540692c966"
      },
      "outputs": [],
      "source": [
        "#TODO: Filtrez votre dataframe\n",
        "\n",
        "#TODO: Partie 1\n",
        "\n",
        "\n",
        "#TODO: Partie 2\n",
        "\n"
      ]
    },
    {
      "cell_type": "markdown",
      "metadata": {
        "id": "0rT7_Mm0OIaD"
      },
      "source": [
        "## 3. LIVRABLES\n",
        "Vous devez remettre sur Moodle un fichier compressé .zip contenant :\n",
        "\n",
        "1) Le code : Un Jupyter notebook en Python qui contient le code tel implanté avec les librairies minimales demandées pour ce TP (Python, Pandas, Matplotlib). Le code doit être exécutable sans erreur et accompagné des commentaires appropriés dans le notebook de manière. Tous vos résultats doivent être reproductibles avec le code dans le notebook. *Attention, en aucun cas votre code ne doit avoir été copié de d'ailleurs.*\n",
        "\n",
        "2) Un fichier pdf représentant votre notebook complètement exécuté sous format pdf (obtenu via latex ou imprimé en pdf avec le navigateur). Assurez-vous que le PDF est entièrement lisible. [Tutoriel youtube](https://www.youtube.com/watch?v=-Ti9Mm21uVc)\n",
        "\n",
        "ATTENTION: assurez-vous que votre fichier compressé .zip ne dépasse pas la taille limite acceptée sur Moodle.\n"
      ]
    },
    {
      "cell_type": "markdown",
      "metadata": {
        "id": "JkxB1hfwRQw9"
      },
      "source": [
        "__ÉVALUATION__ <br>\n",
        "Votre TP sera évalué sur les points suivants :\n",
        "\n",
        "__Critères :__\n",
        "1. Implantation correcte et efficace\n",
        "2. Qualité du code (noms significatifs, structure, performance, gestion d’exception, etc.) <b>(1 point)</b>\n",
        "3. Réponses correctes/sensées aux questions de réflexion ou d'analyse\n",
        "\n",
        "__CODE D’HONNEUR__\n",
        "- __Règle 1__:  Le plagiat de code est bien évidemment interdit. Toute utilisation de code doit être référencée adéquatement. Vous __ne pouvez pas__ soumettre un code, écrit par quelqu’un d’autre. Dans le cas contraire, cela sera considéré comme du plagiat.\n",
        "- __Règle 2__: Vous êtes libres de discuter avec d'autres équipes. Cependant, vous ne pouvez en aucun cas incorporer leur code dans votre TP.\n",
        "- __Règle 3__:  Vous ne pouvez pas partager votre code publiquement (par exemple, dans un dépôt GitHub public) tant que le cours n'est pas fini."
      ]
    },
    {
      "cell_type": "markdown",
      "metadata": {
        "id": "6B9vE0FUSGFP"
      },
      "source": [
        "### Conversion en PDF sur Google Colab"
      ]
    },
    {
      "cell_type": "code",
      "execution_count": null,
      "metadata": {
        "id": "Iig7VzFFN11u"
      },
      "outputs": [],
      "source": [
        "%%capture\n",
        "!sudo apt-get install texlive-xetex texlive-fonts-recommended texlive-plain-generic"
      ]
    },
    {
      "cell_type": "markdown",
      "metadata": {
        "id": "tz0BpqmcU9ZA"
      },
      "source": [
        "Assurez vous d'avoir téléchargé le TP complété en notebook sur votre ordinateur, puis importé ce fichier dans le répertoire \"content\" avant de rouler la ligne suivante."
      ]
    },
    {
      "cell_type": "code",
      "execution_count": null,
      "metadata": {
        "id": "xLFzwcGIbjt1"
      },
      "outputs": [],
      "source": [
        "!jupyter nbconvert --to pdf /content/TP1.ipynb"
      ]
    }
  ],
  "metadata": {
    "colab": {
      "provenance": []
    },
    "kernelspec": {
      "display_name": "base",
      "language": "python",
      "name": "python3"
    },
    "language_info": {
      "codemirror_mode": {
        "name": "ipython",
        "version": 3
      },
      "file_extension": ".py",
      "mimetype": "text/x-python",
      "name": "python",
      "nbconvert_exporter": "python",
      "pygments_lexer": "ipython3",
      "version": "3.10.13"
    }
  },
  "nbformat": 4,
  "nbformat_minor": 0
}
