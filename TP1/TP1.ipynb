{
  "cells": [
    {
      "cell_type": "markdown",
      "metadata": {
        "id": "th8R6iFhsz79"
      },
      "source": [
        "## <center> Polytechnique Montréal <br> Département Génie Informatique et Génie Logiciel <br>  INF8008 – Prétraitement de données <br> . <br> TP1  - Analyse descriptive des données<br>  Hiver 2025 <br> . <br> 20 janvier 2025 </center>"
      ]
    },
    {
      "cell_type": "markdown",
      "metadata": {
        "id": "4-uCAmWYtjG8"
      },
      "source": [
        "## Introduction\n",
        "\n",
        "Le TD1 porte sur l'analyse descriptive de données.  Nous survolons l'utilisation de fonctions de base de Pandas et de l'analyse de données numériques et de leur visualisation.\n",
        "\n",
        "Les données du fichier <b> ntsb-accidents.csv </b> proviennent d'une base de données sur les accidents d’aviation provenant du <a href = https://carol.ntsb.gov> National Transportation Safety Board </a>. Nous nous en inspirerons pour le travail des TPs de cette session.\n",
        "\n",
        "Les champs du fichier de données <b> ntsb-accidents.csv </b> sont les suivants :\n",
        "\n",
        "- **event_id** : Identifiant unique de l'événement (souvent un code de référence pour suivre chaque cas).\n",
        "- **ntsb_make** : Fabricant de l'appareil impliqué dans l'événement (exemple : BELL, ROBINSON).\n",
        "- **ntsb_model** : Modèle spécifique de l'appareil (exemple : R22 BETA, R44).\n",
        "- **ntsb_number** : Code d'identification de l'incident assigné par la NTSB.\n",
        "- **year** : Année où l'événement a eu lieu.\n",
        "- **date** : Date et heure exactes de l'événement (année/mois/jour heure:minute:seconde).\n",
        "- **city** : Ville où l'événement s'est produit.\n",
        "- **state** : État ou province où l'événement s'est produit.\n",
        "- **country** : Pays où l'événement a eu lieu.\n",
        "- **total_fatalities** : Nombre total de décès associés à l'incident.\n",
        "- **latimes_make** : Fabricant simplifié utilisé dans les rapports (exemple : BELL, ROBINSON).\n",
        "- **latimes_model** : Modèle simplifié utilisé dans les rapports (exemple : R22, 369).\n",
        "- **latimes_make_and_model** : Combinaison du fabricant et du modèle pour décrire l'appareil de manière concise (exemple : BELL 407, ROBINSON R44).\n",
        "\n"
      ]
    },
    {
      "cell_type": "markdown",
      "metadata": {
        "id": "jSAmD2Iuuxds"
      },
      "source": [
        "Les librairies python qui seront à utiliser pour ce TP sont les suivantes:\n",
        "- [pandas](https://pandas.pydata.org/docs/user_guide/index.html)\n",
        "- [matplotlib](https://matplotlib.org/stable/users/explain/quick_start.html)\n",
        "\n",
        "\n"
      ]
    },
    {
      "cell_type": "code",
      "execution_count": null,
      "metadata": {
        "id": "Yowt8NL4v29E"
      },
      "outputs": [],
      "source": [
        "import pandas as pd"
      ]
    },
    {
      "cell_type": "markdown",
      "metadata": {
        "id": "6zP9EwsKve8l"
      },
      "source": [
        "## 1. Analyse des données numériques\n",
        "\n",
        "\n",
        "### Q1\n",
        "À l'aide de Pandas, chargez les données dans une variable nommée 'df'. Quelle est la dimension de 'df'? Combien y a-t-il de lignes et de colonnes? <b>(2 points)</b>"
      ]
    },
    {
      "cell_type": "code",
      "execution_count": 2,
      "metadata": {
        "colab": {
          "base_uri": "https://localhost:8080/",
          "height": 597
        },
        "id": "6JJzhtUMyzuC",
        "outputId": "c971e578-3b35-4555-d08f-7df41a83794f"
      },
      "outputs": [],
      "source": [
        "# Chargement et affichage de df\n",
        "\n",
        "df = pd.read_csv('ntsb-accidents.csv')"
      ]
    },
    {
      "cell_type": "code",
      "execution_count": 3,
      "metadata": {
        "colab": {
          "base_uri": "https://localhost:8080/"
        },
        "id": "RRr24fyJsmzX",
        "outputId": "795df170-be7b-47cd-d23d-d7459369a841"
      },
      "outputs": [
        {
          "name": "stdout",
          "output_type": "stream",
          "text": [
            "Nombre de lignes: 163\n",
            "Nombre de colonnes: 13\n",
            "\n",
            "\n"
          ]
        }
      ],
      "source": [
        "# Complétez ce code afin d'afficher les bonnes informations dans les \"print\".\n",
        "\n",
        "print(f\"Nombre de lignes: {df.shape[0]}\")\n",
        "print(f\"Nombre de colonnes: {df.shape[1]}\")\n",
        "print(\"\\n\")"
      ]
    },
    {
      "cell_type": "markdown",
      "metadata": {
        "id": "gyXbJPKzyDbw"
      },
      "source": [
        "### Q2\n",
        "Quelle est l'intervalle d'années et l'ensemble des fabricants et modèles d'hélicoptères compris dans le jeu de données?<b>(1 point)</b>"
      ]
    },
    {
      "cell_type": "code",
      "execution_count": 5,
      "metadata": {
        "colab": {
          "base_uri": "https://localhost:8080/"
        },
        "id": "BwUGtes-v0n0",
        "outputId": "268da871-7e35-4f88-a414-44775837486f"
      },
      "outputs": [
        {
          "name": "stdout",
          "output_type": "stream",
          "text": [
            "Années: de 2006 à 2016\n",
            "\n",
            "Fabricants uniques:\n",
            "['BELL' 'ROBINSON' 'AIRBUS' 'HUGHES' 'SCHWEIZER' 'MCDONNELL DOUGLAS'\n",
            " 'SIKORSKY' 'AGUSTA']\n",
            "\n",
            "Modèles uniques:\n",
            "['407' 'R22' 'R44' '350' '369' '269' '135' '206' '76' '109' '130']\n",
            "\n",
            "\n"
          ]
        }
      ],
      "source": [
        "print(f\"Années: de {df['year'].min()} à {df['year'].max()}\")\n",
        "print(\"\\nFabricants uniques:\")\n",
        "print(df['latimes_make'].unique())\n",
        "print(\"\\nModèles uniques:\")\n",
        "print(df['latimes_model'].unique())\n",
        "print(\"\\n\")\n"
      ]
    },
    {
      "cell_type": "markdown",
      "metadata": {
        "id": "arqXC2AS-YwE"
      },
      "source": [
        "### Q3\n",
        "Combien de décès y a-t-il en moyenne? <b>(1 point)</b>"
      ]
    },
    {
      "cell_type": "code",
      "execution_count": 6,
      "metadata": {
        "colab": {
          "base_uri": "https://localhost:8080/"
        },
        "id": "w6vAYZ9I-YwF",
        "outputId": "dea4e3e0-70b9-4a0b-f0a8-da6eb8326bcd"
      },
      "outputs": [
        {
          "name": "stdout",
          "output_type": "stream",
          "text": [
            "Moyenne des décès: 2.06\n",
            "\n",
            "\n"
          ]
        }
      ],
      "source": [
        "print(f\"Moyenne des décès: {df['total_fatalities'].mean():.2f}\")\n",
        "print(\"\\n\")"
      ]
    },
    {
      "cell_type": "markdown",
      "metadata": {
        "id": "hATy_JNm0kQH"
      },
      "source": [
        "### Q4\n",
        "Combien d'**accidents** y a-t-il eu pour chaque combinaison de fabricant et modèle d'hélicoptère? Créez un tableau de fréquence du nombre d'accidents par combinaison de fabricant et modèle.  <b>(3 points)</b>\n"
      ]
    },
    {
      "cell_type": "code",
      "execution_count": 7,
      "metadata": {
        "colab": {
          "base_uri": "https://localhost:8080/"
        },
        "id": "fu8P0Y8m37B-",
        "outputId": "ec64fabb-c25a-4666-b741-135fc5b26f96"
      },
      "outputs": [
        {
          "name": "stdout",
          "output_type": "stream",
          "text": [
            "latimes_make_and_model\n",
            "ROBINSON R44             38\n",
            "AIRBUS 350               29\n",
            "BELL 206                 28\n",
            "ROBINSON R22             20\n",
            "BELL 407                 13\n",
            "HUGHES 369               13\n",
            "MCDONNELL DOUGLAS 369     6\n",
            "SCHWEIZER 269             5\n",
            "AIRBUS 135                4\n",
            "bell 206                  2\n",
            "SIKORSKY 76               2\n",
            "AGUSTA 109                2\n",
            "AIRBUS 130                1\n",
            "Name: count, dtype: int64\n",
            "\n",
            "\n"
          ]
        }
      ],
      "source": [
        "accident_freq = df['latimes_make_and_model'].value_counts()\n",
        "print(accident_freq)\n",
        "print(\"\\n\")"
      ]
    },
    {
      "cell_type": "markdown",
      "metadata": {
        "id": "24Ca2hNYFu6u"
      },
      "source": [
        "### Q5\n",
        "Déterminez la moyenne, la médiane et l'écart-type du nombre de décès. Dans un premier temps, fournissez les statistiques avec AIRBUS 350.  Puis, dans un second temps, fournissez les statistiques avec ROBINSON R44.<b>(3 points)</b>"
      ]
    },
    {
      "cell_type": "code",
      "execution_count": 10,
      "metadata": {
        "colab": {
          "base_uri": "https://localhost:8080/"
        },
        "id": "LDXMzCZH_Zyu",
        "outputId": "9d584485-fa19-485f-8302-9dbca9f1b427"
      },
      "outputs": [
        {
          "name": "stdout",
          "output_type": "stream",
          "text": [
            "AIRBUS 350:\n",
            "Moyenne: 2.79\n",
            "Médiane: 3.00\n",
            "Écart-type: 1.63\n"
          ]
        }
      ],
      "source": [
        "# Calcul des statistiques pour AIRBUS 350\n",
        "\n",
        "airbus_stats = df[df['latimes_make_and_model'] == 'AIRBUS 350']['total_fatalities'].describe()\n",
        "print(\"AIRBUS 350:\")\n",
        "print(f\"Moyenne: {airbus_stats['mean']:.2f}\")\n",
        "print(f\"Médiane: {airbus_stats['50%']:.2f}\")\n",
        "print(f\"Écart-type: {airbus_stats['std']:.2f}\")"
      ]
    },
    {
      "cell_type": "code",
      "execution_count": 9,
      "metadata": {
        "colab": {
          "base_uri": "https://localhost:8080/"
        },
        "id": "5sI3Ti0UFuVg",
        "outputId": "612b22bb-2970-4b8e-ab8c-46058c295448"
      },
      "outputs": [
        {
          "name": "stdout",
          "output_type": "stream",
          "text": [
            "\n",
            "ROBINSON R44:\n",
            "Moyenne: 1.87\n",
            "Médiane: 2.00\n",
            "Écart-type: 0.91\n",
            "\n",
            "\n"
          ]
        }
      ],
      "source": [
        "# Calcul des statistiques pour ROBINSON R44\n",
        "\n",
        "robinson_stats = df[df['latimes_make_and_model'] == 'ROBINSON R44']['total_fatalities'].describe()\n",
        "print(\"\\nROBINSON R44:\")\n",
        "print(f\"Moyenne: {robinson_stats['mean']:.2f}\")\n",
        "print(f\"Médiane: {robinson_stats['50%']:.2f}\")\n",
        "print(f\"Écart-type: {robinson_stats['std']:.2f}\")\n",
        "print(\"\\n\")"
      ]
    },
    {
      "cell_type": "markdown",
      "metadata": {
        "id": "NN-3hJmH5vU7"
      },
      "source": [
        "### Q6\n",
        "Combien d’accidents ont enregistré plus d’un décès?\n",
        "Combien de décès se sont produits en Californie en 2015? <b>(1 point)</b>"
      ]
    },
    {
      "cell_type": "code",
      "execution_count": 11,
      "metadata": {
        "colab": {
          "base_uri": "https://localhost:8080/"
        },
        "id": "FQgpoppx8GOf",
        "outputId": "9f5557ed-6250-4813-abd4-3a1821453c5f"
      },
      "outputs": [
        {
          "name": "stdout",
          "output_type": "stream",
          "text": [
            "Accidents avec plus d'un décès: 89\n",
            "Décès en Californie en 2015: 0\n",
            "\n",
            "\n"
          ]
        }
      ],
      "source": [
        "multiple_deaths = len(df[df['total_fatalities'] > 1])\n",
        "ca_2015_deaths = df[(df['state'] == 'California') & (df['year'] == 2015)]['total_fatalities'].sum()\n",
        "print(f\"Accidents avec plus d'un décès: {multiple_deaths}\")\n",
        "print(f\"Décès en Californie en 2015: {ca_2015_deaths}\")\n",
        "print(\"\\n\")"
      ]
    },
    {
      "cell_type": "markdown",
      "metadata": {
        "id": "Is2pL61E2cA9"
      },
      "source": [
        "## 2. Visualisation de données"
      ]
    },
    {
      "cell_type": "code",
      "execution_count": 16,
      "metadata": {
        "id": "X_ZqXvKZ1-wB"
      },
      "outputs": [],
      "source": [
        "import matplotlib.pyplot as plt"
      ]
    },
    {
      "cell_type": "markdown",
      "metadata": {
        "id": "q2P0oK6KDBCh"
      },
      "source": [
        "### Q7\n",
        "Affichez le nombre de décès par année. Nommez vos axes et donnez un titre à votre graphique. Qu’observez-vous? Quelle année marque le plus de décès? Quelle année marque le moins?<b>(3 points)</b>"
      ]
    },
    {
      "cell_type": "code",
      "execution_count": 25,
      "metadata": {
        "colab": {
          "base_uri": "https://localhost:8080/",
          "height": 491
        },
        "id": "szVOQ95VC-lU",
        "outputId": "f68e1c71-238b-4540-e09d-0380eafd7fb6"
      },
      "outputs": [
        {
          "data": {
            "image/png": "[encoded data removed]",
            "text/plain": [
              "<Figure size 1200x600 with 1 Axes>"
            ]
          },
          "metadata": {},
          "output_type": "display_data"
        },
        {
          "name": "stdout",
          "output_type": "stream",
          "text": [
            "\n",
            "Observations principales :\n",
            "1. Le nombre de décès montre une forte variation au fil des années\n",
            "2. On observe une tendance générale à la baisse entre 2008 et 2016\n",
            "3. Il y a un pic très marqué en 2008, suivi d'une diminution progressive\n",
            "4. Quelques fluctuations sont notables, notamment une légère remontée en 2012-2014\n",
            "\n",
            "\n",
            "Année avec le plus de décès: 2008 (59 décès)\n",
            "Année avec le moins de décès: 2016 (18 décès)\n",
            "\n",
            "\n"
          ]
        }
      ],
      "source": [
        "plt.figure(figsize=(12, 6))\n",
        "deaths_by_year = df.groupby('year')['total_fatalities'].sum()\n",
        "deaths_by_year.plot(kind='line', marker='o')\n",
        "plt.title('Nombre de décès par année')\n",
        "plt.xlabel('Année')\n",
        "plt.ylabel('Nombre de décès')\n",
        "plt.grid(True)\n",
        "plt.show()\n",
        "\n",
        "# Observations\n",
        "print(\"\\nObservations principales :\")\n",
        "print(\"1. Le nombre de décès montre une forte variation au fil des années\")\n",
        "print(\"2. On observe une tendance générale à la baisse entre 2008 et 2016\")\n",
        "print(\"3. Il y a un pic très marqué en 2008, suivi d'une diminution progressive\")\n",
        "print(\"4. Quelques fluctuations sont notables, notamment une légère remontée en 2012-2014\")\n",
        "print(\"\\n\")\n",
        "\n",
        "print(f\"Année avec le plus de décès: {deaths_by_year.idxmax()} ({deaths_by_year.max()} décès)\")\n",
        "print(f\"Année avec le moins de décès: {deaths_by_year.idxmin()} ({deaths_by_year.min()} décès)\")\n",
        "print(\"\\n\")"
      ]
    },
    {
      "cell_type": "markdown",
      "metadata": {
        "id": "9gr4L6CFH2pL"
      },
      "source": [
        "### Q8\n",
        "En utilisant la fonction subplot de matplotlib:\n",
        "\n",
        "1) Affichez le nombre d'accidents par année dans un diagramme à barres.\n",
        "\n",
        "2) Affichez le nombre de décès par année dans un diagramme à barres.\n",
        "\n",
        "Nommez vos axes et donnez un titre à votre graphique.\n",
        "En comparant ceux-ci, observez-vous une relation entre le nombre de décès et d'accidents? Pouvez-vous justifier la cause du nombre de décès minimal de l'année évoquée dans la question 7?  <b>(5 points)</b>"
      ]
    },
    {
      "cell_type": "code",
      "execution_count": 27,
      "metadata": {
        "colab": {
          "base_uri": "https://localhost:8080/",
          "height": 607
        },
        "id": "e8zLBkxFK37A",
        "outputId": "f5a0df05-1cb6-4125-cace-d4540692c966"
      },
      "outputs": [
        {
          "data": {
            "image/png": "[encoded data removed]",
            "text/plain": [
              "<Figure size 1500x500 with 2 Axes>"
            ]
          },
          "metadata": {},
          "output_type": "display_data"
        },
        {
          "name": "stdout",
          "output_type": "stream",
          "text": [
            "\n",
            "Relation entre le nombre de décès et d'accidents :\n",
            "1. Il existe une certaine corrélation entre le nombre d'accidents et le nombre de décès, mais elle n'est pas parfaitement proportionnelle\n",
            "2. L'année 2006 montre clairement cette disparité : elle présente le second plus grand nombre d'accidents (~29) mais pas nécessairement le second plus grand nombre de décès (~34)\n",
            "3. On observe une tendance générale à la baisse tant pour les accidents que pour les décès entre 2008 et 2016\n",
            "4. La diminution est plus marquée pour les décès que pour les accidents, suggérant une amélioration possible de la sécurité ou de la gestion des accidents\n",
            "\n",
            "Justification du nombre minimal de décès en 2016 :\n",
            "1. Le nombre d'accidents en 2016 est le plus bas de la période (~10 accidents)\n",
            "2. Cette réduction du nombre d'accidents explique naturellement le nombre minimal de décès\n",
            "3. Le ratio décès/accidents semble également plus favorable en 2016, ce qui pourrait s'expliquer par :\n",
            "   - Une amélioration des mesures de sécurité\n",
            "   - Une meilleure réponse aux situations d'urgence\n",
            "   - Des accidents potentiellement moins graves (conditions météorologiques plus favorables, meilleure maintenance, etc.)\n",
            "\n",
            "\n"
          ]
        }
      ],
      "source": [
        "plt.figure(figsize=(15, 5))\n",
        "\n",
        "# Partie 1\n",
        "plt.subplot(1, 2, 1)\n",
        "accidents_by_year = df.groupby('year').size()\n",
        "accidents_by_year.plot(kind='bar')\n",
        "plt.title('Nombre d\\'accidents par année')\n",
        "plt.xlabel('Année')\n",
        "plt.ylabel('Nombre d\\'accidents')\n",
        "plt.xticks(rotation=45)\n",
        "\n",
        "# Partie 2\n",
        "plt.subplot(1, 2, 2)\n",
        "deaths_by_year.plot(kind='bar')\n",
        "plt.title('Nombre de décès par année')\n",
        "plt.xlabel('Année')\n",
        "plt.ylabel('Nombre de décès')\n",
        "plt.xticks(rotation=45)\n",
        "\n",
        "plt.tight_layout()\n",
        "plt.show()\n",
        "\n",
        "# Comparaison\n",
        "print(\"\\nRelation entre le nombre de décès et d'accidents :\")\n",
        "print(\"1. Il existe une certaine corrélation entre le nombre d'accidents et le nombre de décès, mais elle n'est pas parfaitement proportionnelle\")\n",
        "print(\"2. L'année 2006 montre clairement cette disparité : elle présente le second plus grand nombre d'accidents (~29) mais pas nécessairement le second plus grand nombre de décès (~34)\")\n",
        "print(\"3. On observe une tendance générale à la baisse tant pour les accidents que pour les décès entre 2008 et 2016\")\n",
        "print(\"4. La diminution est plus marquée pour les décès que pour les accidents, suggérant une amélioration possible de la sécurité ou de la gestion des accidents\")\n",
        "print(\"\\nJustification du nombre minimal de décès en 2016 :\")\n",
        "print(\"1. Le nombre d'accidents en 2016 est le plus bas de la période (~10 accidents)\")\n",
        "print(\"2. Cette réduction du nombre d'accidents explique naturellement le nombre minimal de décès\")\n",
        "print(\"3. Le ratio décès/accidents semble également plus favorable en 2016, ce qui pourrait s'expliquer par :\")\n",
        "print(\"   - Une amélioration des mesures de sécurité\")\n",
        "print(\"   - Une meilleure réponse aux situations d'urgence\")\n",
        "print(\"   - Des accidents potentiellement moins graves (conditions météorologiques plus favorables, meilleure maintenance, etc.)\")\n",
        "print(\"\\n\")"
      ]
    },
    {
      "cell_type": "markdown",
      "metadata": {
        "id": "0rT7_Mm0OIaD"
      },
      "source": [
        "## 3. LIVRABLES\n",
        "Vous devez remettre sur Moodle un fichier compressé .zip contenant :\n",
        "\n",
        "1) Le code : Un Jupyter notebook en Python qui contient le code tel implanté avec les librairies minimales demandées pour ce TP (Python, Pandas, Matplotlib). Le code doit être exécutable sans erreur et accompagné des commentaires appropriés dans le notebook de manière. Tous vos résultats doivent être reproductibles avec le code dans le notebook. *Attention, en aucun cas votre code ne doit avoir été copié de d'ailleurs.*\n",
        "\n",
        "2) Un fichier pdf représentant votre notebook complètement exécuté sous format pdf (obtenu via latex ou imprimé en pdf avec le navigateur). Assurez-vous que le PDF est entièrement lisible. [Tutoriel youtube](https://www.youtube.com/watch?v=-Ti9Mm21uVc)\n",
        "\n",
        "ATTENTION: assurez-vous que votre fichier compressé .zip ne dépasse pas la taille limite acceptée sur Moodle.\n"
      ]
    },
    {
      "cell_type": "markdown",
      "metadata": {
        "id": "JkxB1hfwRQw9"
      },
      "source": [
        "__ÉVALUATION__ <br>\n",
        "Votre TP sera évalué sur les points suivants :\n",
        "\n",
        "__Critères :__\n",
        "1. Implantation correcte et efficace\n",
        "2. Qualité du code (noms significatifs, structure, performance, gestion d’exception, etc.) <b>(1 point)</b>\n",
        "3. Réponses correctes/sensées aux questions de réflexion ou d'analyse\n",
        "\n",
        "__CODE D’HONNEUR__\n",
        "- __Règle 1__:  Le plagiat de code est bien évidemment interdit. Toute utilisation de code doit être référencée adéquatement. Vous __ne pouvez pas__ soumettre un code, écrit par quelqu’un d’autre. Dans le cas contraire, cela sera considéré comme du plagiat.\n",
        "- __Règle 2__: Vous êtes libres de discuter avec d'autres équipes. Cependant, vous ne pouvez en aucun cas incorporer leur code dans votre TP.\n",
        "- __Règle 3__:  Vous ne pouvez pas partager votre code publiquement (par exemple, dans un dépôt GitHub public) tant que le cours n'est pas fini."
      ]
    },
    {
      "cell_type": "markdown",
      "metadata": {
        "id": "6B9vE0FUSGFP"
      },
      "source": [
        "### Conversion en PDF sur Google Colab"
      ]
    },
    {
      "cell_type": "code",
      "execution_count": null,
      "metadata": {
        "id": "Iig7VzFFN11u"
      },
      "outputs": [],
      "source": [
        "%%capture\n",
        "!sudo apt-get install texlive-xetex texlive-fonts-recommended texlive-plain-generic"
      ]
    },
    {
      "cell_type": "markdown",
      "metadata": {
        "id": "tz0BpqmcU9ZA"
      },
      "source": [
        "Assurez vous d'avoir téléchargé le TP complété en notebook sur votre ordinateur, puis importé ce fichier dans le répertoire \"content\" avant de rouler la ligne suivante."
      ]
    },
    {
      "cell_type": "code",
      "execution_count": null,
      "metadata": {
        "id": "xLFzwcGIbjt1"
      },
      "outputs": [],
      "source": [
        "!jupyter nbconvert --to pdf /content/TP1.ipynb"
      ]
    }
  ],
  "metadata": {
    "colab": {
      "provenance": []
    },
    "kernelspec": {
      "display_name": "base",
      "language": "python",
      "name": "python3"
    },
    "language_info": {
      "codemirror_mode": {
        "name": "ipython",
        "version": 3
      },
      "file_extension": ".py",
      "mimetype": "text/x-python",
      "name": "python",
      "nbconvert_exporter": "python",
      "pygments_lexer": "ipython3",
      "version": "3.10.13"
    }
  },
  "nbformat": 4,
  "nbformat_minor": 0
}
