{
  "cells": [
    {
      "cell_type": "markdown",
      "metadata": {
        "id": "th8R6iFhsz79"
      },
      "source": [
        "## <center> Polytechnique Montréal <br> Département Génie Informatique et Génie Logiciel <br>  INF8008 – Prétraitement de données <br> . <br> TP1  - Analyse descriptive des données<br>  Hiver 2025 <br> . <br> 20 janvier 2025 </center>"
      ]
    },
    {
      "cell_type": "code",
      "source": [
        "from google.colab import drive\n",
        "drive.mount('/content/drive')"
      ],
      "metadata": {
        "colab": {
          "base_uri": "https://localhost:8080/"
        },
        "id": "jnp_MqGQLmfG",
        "outputId": "d8cee7ea-7b10-4aff-8063-0f0b9f00da9d"
      },
      "execution_count": 6,
      "outputs": [
        {
          "output_type": "stream",
          "name": "stdout",
          "text": [
            "Drive already mounted at /content/drive; to attempt to forcibly remount, call drive.mount(\"/content/drive\", force_remount=True).\n"
          ]
        }
      ]
    },
    {
      "cell_type": "markdown",
      "metadata": {
        "id": "4-uCAmWYtjG8"
      },
      "source": [
        "## Introduction\n",
        "\n",
        "Le TD1 porte sur l'analyse descriptive de données.  Nous survolons l'utilisation de fonctions de base de Pandas et de l'analyse de données numériques et de leur visualisation.\n",
        "\n",
        "Les données du fichier <b> ntsb-accidents.csv </b> proviennent d'une base de données sur les accidents d’aviation provenant du <a href = https://carol.ntsb.gov> National Transportation Safety Board </a>. Nous nous en inspirerons pour le travail des TPs de cette session.\n",
        "\n",
        "Les champs du fichier de données <b> ntsb-accidents.csv </b> sont les suivants :\n",
        "\n",
        "- **event_id** : Identifiant unique de l'événement (souvent un code de référence pour suivre chaque cas).\n",
        "- **ntsb_make** : Fabricant de l'appareil impliqué dans l'événement (exemple : BELL, ROBINSON).\n",
        "- **ntsb_model** : Modèle spécifique de l'appareil (exemple : R22 BETA, R44).\n",
        "- **ntsb_number** : Code d'identification de l'incident assigné par la NTSB.\n",
        "- **year** : Année où l'événement a eu lieu.\n",
        "- **date** : Date et heure exactes de l'événement (année/mois/jour heure:minute:seconde).\n",
        "- **city** : Ville où l'événement s'est produit.\n",
        "- **state** : État ou province où l'événement s'est produit.\n",
        "- **country** : Pays où l'événement a eu lieu.\n",
        "- **total_fatalities** : Nombre total de décès associés à l'incident.\n",
        "- **latimes_make** : Fabricant simplifié utilisé dans les rapports (exemple : BELL, ROBINSON).\n",
        "- **latimes_model** : Modèle simplifié utilisé dans les rapports (exemple : R22, 369).\n",
        "- **latimes_make_and_model** : Combinaison du fabricant et du modèle pour décrire l'appareil de manière concise (exemple : BELL 407, ROBINSON R44).\n",
        "\n"
      ]
    },
    {
      "cell_type": "markdown",
      "metadata": {
        "id": "jSAmD2Iuuxds"
      },
      "source": [
        "Les librairies python qui seront à utiliser pour ce TP sont les suivantes:\n",
        "- [pandas](https://pandas.pydata.org/docs/user_guide/index.html)\n",
        "- [matplotlib](https://matplotlib.org/stable/users/explain/quick_start.html)\n",
        "\n",
        "\n"
      ]
    },
    {
      "cell_type": "code",
      "execution_count": 7,
      "metadata": {
        "id": "Yowt8NL4v29E"
      },
      "outputs": [],
      "source": [
        "import pandas as pd"
      ]
    },
    {
      "cell_type": "markdown",
      "metadata": {
        "id": "6zP9EwsKve8l"
      },
      "source": [
        "## 1. Analyse des données numériques\n",
        "\n",
        "\n",
        "### Q1\n",
        "À l'aide de Pandas, chargez les données dans une variable nommée 'df'. Quelle est la dimension de 'df'? Combien y a-t-il de lignes et de colonnes? <b>(2 points)</b>"
      ]
    },
    {
      "cell_type": "code",
      "execution_count": 8,
      "metadata": {
        "colab": {
          "base_uri": "https://localhost:8080/",
          "height": 669
        },
        "id": "6JJzhtUMyzuC",
        "outputId": "c971e578-3b35-4555-d08f-7df41a83794f"
      },
      "outputs": [
        {
          "output_type": "execute_result",
          "data": {
            "text/plain": [
              "           event_id                       ntsb_make ntsb_model ntsb_number  \\\n",
              "0    20061222X01838                            BELL        407  NYC07FA048   \n",
              "1    20060817X01187                        ROBINSON   R22 BETA  LAX06LA257   \n",
              "2    20060111X00044                        ROBINSON        R44  MIA06FA039   \n",
              "3    20060419X00461                        ROBINSON     R44 II  DFW06FA102   \n",
              "4    20060208X00181                        ROBINSON        R44  SEA06LA052   \n",
              "..              ...                             ...        ...         ...   \n",
              "158  20160711X32921  BELL HELICOPTER TEXTRON CANADA        407  ERA16FA248   \n",
              "159  20160804X45514                       SCHWEIZER     269C 1  CEN16FA304   \n",
              "160  20160404X74644                            BELL        206  ERA16FA144   \n",
              "161  20160507X31120                          AIRBUS      AS350  ANC16FA023   \n",
              "162  20160612X85856     ROBINSON HELICOPTER COMPANY     R44 II  CEN16FA215   \n",
              "\n",
              "     year                 date            city state country  \\\n",
              "0    2006  12/14/2006 00:00:00        DAGSBORO    DE     USA   \n",
              "1    2006  08/10/2006 00:00:00          TUCSON    AZ     USA   \n",
              "2    2006  01/01/2006 00:00:00     GRAND RIDGE    FL     USA   \n",
              "3    2006  04/13/2006 00:00:00  FREDERICKSBURG    TX     USA   \n",
              "4    2006  02/06/2006 00:00:00          HELENA    MT     USA   \n",
              "..    ...                  ...             ...   ...     ...   \n",
              "158  2016  07/11/2016 00:00:00         HICKORY    KY     USA   \n",
              "159  2016  08/03/2016 00:00:00      JEANERETTE    LA     USA   \n",
              "160  2016  04/04/2016 00:00:00    PIGEON FORGE    TN     USA   \n",
              "161  2016  05/06/2016 00:00:00         SKAGWAY    AK     USA   \n",
              "162  2016  06/12/2016 00:00:00       JONESBORO    AR     USA   \n",
              "\n",
              "     total_fatalities latimes_make latimes_model latimes_make_and_model  \n",
              "0                   2         BELL           407               BELL 407  \n",
              "1                   1     ROBINSON           R22           ROBINSON R22  \n",
              "2                   3     ROBINSON           R44           ROBINSON R44  \n",
              "3                   2     ROBINSON           R44           ROBINSON R44  \n",
              "4                   1     ROBINSON           R44           ROBINSON R44  \n",
              "..                ...          ...           ...                    ...  \n",
              "158                 1         BELL           407               BELL 407  \n",
              "159                 1    SCHWEIZER           269          SCHWEIZER 269  \n",
              "160                 5         BELL           206               BELL 206  \n",
              "161                 1       AIRBUS           350             AIRBUS 350  \n",
              "162                 1     ROBINSON           R44           ROBINSON R44  \n",
              "\n",
              "[163 rows x 13 columns]"
            ],
            "text/html": [
              "\n",
              "  <div id=\"df-9e4eed00-70c2-4205-b458-c463d4e04bdb\" class=\"colab-df-container\">\n",
              "    <div>\n",
              "<style scoped>\n",
              "    .dataframe tbody tr th:only-of-type {\n",
              "        vertical-align: middle;\n",
              "    }\n",
              "\n",
              "    .dataframe tbody tr th {\n",
              "        vertical-align: top;\n",
              "    }\n",
              "\n",
              "    .dataframe thead th {\n",
              "        text-align: right;\n",
              "    }\n",
              "</style>\n",
              "<table border=\"1\" class=\"dataframe\">\n",
              "  <thead>\n",
              "    <tr style=\"text-align: right;\">\n",
              "      <th></th>\n",
              "      <th>event_id</th>\n",
              "      <th>ntsb_make</th>\n",
              "      <th>ntsb_model</th>\n",
              "      <th>ntsb_number</th>\n",
              "      <th>year</th>\n",
              "      <th>date</th>\n",
              "      <th>city</th>\n",
              "      <th>state</th>\n",
              "      <th>country</th>\n",
              "      <th>total_fatalities</th>\n",
              "      <th>latimes_make</th>\n",
              "      <th>latimes_model</th>\n",
              "      <th>latimes_make_and_model</th>\n",
              "    </tr>\n",
              "  </thead>\n",
              "  <tbody>\n",
              "    <tr>\n",
              "      <th>0</th>\n",
              "      <td>20061222X01838</td>\n",
              "      <td>BELL</td>\n",
              "      <td>407</td>\n",
              "      <td>NYC07FA048</td>\n",
              "      <td>2006</td>\n",
              "      <td>12/14/2006 00:00:00</td>\n",
              "      <td>DAGSBORO</td>\n",
              "      <td>DE</td>\n",
              "      <td>USA</td>\n",
              "      <td>2</td>\n",
              "      <td>BELL</td>\n",
              "      <td>407</td>\n",
              "      <td>BELL 407</td>\n",
              "    </tr>\n",
              "    <tr>\n",
              "      <th>1</th>\n",
              "      <td>20060817X01187</td>\n",
              "      <td>ROBINSON</td>\n",
              "      <td>R22 BETA</td>\n",
              "      <td>LAX06LA257</td>\n",
              "      <td>2006</td>\n",
              "      <td>08/10/2006 00:00:00</td>\n",
              "      <td>TUCSON</td>\n",
              "      <td>AZ</td>\n",
              "      <td>USA</td>\n",
              "      <td>1</td>\n",
              "      <td>ROBINSON</td>\n",
              "      <td>R22</td>\n",
              "      <td>ROBINSON R22</td>\n",
              "    </tr>\n",
              "    <tr>\n",
              "      <th>2</th>\n",
              "      <td>20060111X00044</td>\n",
              "      <td>ROBINSON</td>\n",
              "      <td>R44</td>\n",
              "      <td>MIA06FA039</td>\n",
              "      <td>2006</td>\n",
              "      <td>01/01/2006 00:00:00</td>\n",
              "      <td>GRAND RIDGE</td>\n",
              "      <td>FL</td>\n",
              "      <td>USA</td>\n",
              "      <td>3</td>\n",
              "      <td>ROBINSON</td>\n",
              "      <td>R44</td>\n",
              "      <td>ROBINSON R44</td>\n",
              "    </tr>\n",
              "    <tr>\n",
              "      <th>3</th>\n",
              "      <td>20060419X00461</td>\n",
              "      <td>ROBINSON</td>\n",
              "      <td>R44 II</td>\n",
              "      <td>DFW06FA102</td>\n",
              "      <td>2006</td>\n",
              "      <td>04/13/2006 00:00:00</td>\n",
              "      <td>FREDERICKSBURG</td>\n",
              "      <td>TX</td>\n",
              "      <td>USA</td>\n",
              "      <td>2</td>\n",
              "      <td>ROBINSON</td>\n",
              "      <td>R44</td>\n",
              "      <td>ROBINSON R44</td>\n",
              "    </tr>\n",
              "    <tr>\n",
              "      <th>4</th>\n",
              "      <td>20060208X00181</td>\n",
              "      <td>ROBINSON</td>\n",
              "      <td>R44</td>\n",
              "      <td>SEA06LA052</td>\n",
              "      <td>2006</td>\n",
              "      <td>02/06/2006 00:00:00</td>\n",
              "      <td>HELENA</td>\n",
              "      <td>MT</td>\n",
              "      <td>USA</td>\n",
              "      <td>1</td>\n",
              "      <td>ROBINSON</td>\n",
              "      <td>R44</td>\n",
              "      <td>ROBINSON R44</td>\n",
              "    </tr>\n",
              "    <tr>\n",
              "      <th>...</th>\n",
              "      <td>...</td>\n",
              "      <td>...</td>\n",
              "      <td>...</td>\n",
              "      <td>...</td>\n",
              "      <td>...</td>\n",
              "      <td>...</td>\n",
              "      <td>...</td>\n",
              "      <td>...</td>\n",
              "      <td>...</td>\n",
              "      <td>...</td>\n",
              "      <td>...</td>\n",
              "      <td>...</td>\n",
              "      <td>...</td>\n",
              "    </tr>\n",
              "    <tr>\n",
              "      <th>158</th>\n",
              "      <td>20160711X32921</td>\n",
              "      <td>BELL HELICOPTER TEXTRON CANADA</td>\n",
              "      <td>407</td>\n",
              "      <td>ERA16FA248</td>\n",
              "      <td>2016</td>\n",
              "      <td>07/11/2016 00:00:00</td>\n",
              "      <td>HICKORY</td>\n",
              "      <td>KY</td>\n",
              "      <td>USA</td>\n",
              "      <td>1</td>\n",
              "      <td>BELL</td>\n",
              "      <td>407</td>\n",
              "      <td>BELL 407</td>\n",
              "    </tr>\n",
              "    <tr>\n",
              "      <th>159</th>\n",
              "      <td>20160804X45514</td>\n",
              "      <td>SCHWEIZER</td>\n",
              "      <td>269C 1</td>\n",
              "      <td>CEN16FA304</td>\n",
              "      <td>2016</td>\n",
              "      <td>08/03/2016 00:00:00</td>\n",
              "      <td>JEANERETTE</td>\n",
              "      <td>LA</td>\n",
              "      <td>USA</td>\n",
              "      <td>1</td>\n",
              "      <td>SCHWEIZER</td>\n",
              "      <td>269</td>\n",
              "      <td>SCHWEIZER 269</td>\n",
              "    </tr>\n",
              "    <tr>\n",
              "      <th>160</th>\n",
              "      <td>20160404X74644</td>\n",
              "      <td>BELL</td>\n",
              "      <td>206</td>\n",
              "      <td>ERA16FA144</td>\n",
              "      <td>2016</td>\n",
              "      <td>04/04/2016 00:00:00</td>\n",
              "      <td>PIGEON FORGE</td>\n",
              "      <td>TN</td>\n",
              "      <td>USA</td>\n",
              "      <td>5</td>\n",
              "      <td>BELL</td>\n",
              "      <td>206</td>\n",
              "      <td>BELL 206</td>\n",
              "    </tr>\n",
              "    <tr>\n",
              "      <th>161</th>\n",
              "      <td>20160507X31120</td>\n",
              "      <td>AIRBUS</td>\n",
              "      <td>AS350</td>\n",
              "      <td>ANC16FA023</td>\n",
              "      <td>2016</td>\n",
              "      <td>05/06/2016 00:00:00</td>\n",
              "      <td>SKAGWAY</td>\n",
              "      <td>AK</td>\n",
              "      <td>USA</td>\n",
              "      <td>1</td>\n",
              "      <td>AIRBUS</td>\n",
              "      <td>350</td>\n",
              "      <td>AIRBUS 350</td>\n",
              "    </tr>\n",
              "    <tr>\n",
              "      <th>162</th>\n",
              "      <td>20160612X85856</td>\n",
              "      <td>ROBINSON HELICOPTER COMPANY</td>\n",
              "      <td>R44 II</td>\n",
              "      <td>CEN16FA215</td>\n",
              "      <td>2016</td>\n",
              "      <td>06/12/2016 00:00:00</td>\n",
              "      <td>JONESBORO</td>\n",
              "      <td>AR</td>\n",
              "      <td>USA</td>\n",
              "      <td>1</td>\n",
              "      <td>ROBINSON</td>\n",
              "      <td>R44</td>\n",
              "      <td>ROBINSON R44</td>\n",
              "    </tr>\n",
              "  </tbody>\n",
              "</table>\n",
              "<p>163 rows × 13 columns</p>\n",
              "</div>\n",
              "    <div class=\"colab-df-buttons\">\n",
              "\n",
              "  <div class=\"colab-df-container\">\n",
              "    <button class=\"colab-df-convert\" onclick=\"convertToInteractive('df-9e4eed00-70c2-4205-b458-c463d4e04bdb')\"\n",
              "            title=\"Convert this dataframe to an interactive table.\"\n",
              "            style=\"display:none;\">\n",
              "\n",
              "  <svg xmlns=\"http://www.w3.org/2000/svg\" height=\"24px\" viewBox=\"0 -960 960 960\">\n",
              "    <path d=\"M120-120v-720h720v720H120Zm60-500h600v-160H180v160Zm220 220h160v-160H400v160Zm0 220h160v-160H400v160ZM180-400h160v-160H180v160Zm440 0h160v-160H620v160ZM180-180h160v-160H180v160Zm440 0h160v-160H620v160Z\"/>\n",
              "  </svg>\n",
              "    </button>\n",
              "\n",
              "  <style>\n",
              "    .colab-df-container {\n",
              "      display:flex;\n",
              "      gap: 12px;\n",
              "    }\n",
              "\n",
              "    .colab-df-convert {\n",
              "      background-color: #E8F0FE;\n",
              "      border: none;\n",
              "      border-radius: 50%;\n",
              "      cursor: pointer;\n",
              "      display: none;\n",
              "      fill: #1967D2;\n",
              "      height: 32px;\n",
              "      padding: 0 0 0 0;\n",
              "      width: 32px;\n",
              "    }\n",
              "\n",
              "    .colab-df-convert:hover {\n",
              "      background-color: #E2EBFA;\n",
              "      box-shadow: 0px 1px 2px rgba(60, 64, 67, 0.3), 0px 1px 3px 1px rgba(60, 64, 67, 0.15);\n",
              "      fill: #174EA6;\n",
              "    }\n",
              "\n",
              "    .colab-df-buttons div {\n",
              "      margin-bottom: 4px;\n",
              "    }\n",
              "\n",
              "    [theme=dark] .colab-df-convert {\n",
              "      background-color: #3B4455;\n",
              "      fill: #D2E3FC;\n",
              "    }\n",
              "\n",
              "    [theme=dark] .colab-df-convert:hover {\n",
              "      background-color: #434B5C;\n",
              "      box-shadow: 0px 1px 3px 1px rgba(0, 0, 0, 0.15);\n",
              "      filter: drop-shadow(0px 1px 2px rgba(0, 0, 0, 0.3));\n",
              "      fill: #FFFFFF;\n",
              "    }\n",
              "  </style>\n",
              "\n",
              "    <script>\n",
              "      const buttonEl =\n",
              "        document.querySelector('#df-9e4eed00-70c2-4205-b458-c463d4e04bdb button.colab-df-convert');\n",
              "      buttonEl.style.display =\n",
              "        google.colab.kernel.accessAllowed ? 'block' : 'none';\n",
              "\n",
              "      async function convertToInteractive(key) {\n",
              "        const element = document.querySelector('#df-9e4eed00-70c2-4205-b458-c463d4e04bdb');\n",
              "        const dataTable =\n",
              "          await google.colab.kernel.invokeFunction('convertToInteractive',\n",
              "                                                    [key], {});\n",
              "        if (!dataTable) return;\n",
              "\n",
              "        const docLinkHtml = 'Like what you see? Visit the ' +\n",
              "          '<a target=\"_blank\" href=https://colab.research.google.com/notebooks/data_table.ipynb>data table notebook</a>'\n",
              "          + ' to learn more about interactive tables.';\n",
              "        element.innerHTML = '';\n",
              "        dataTable['output_type'] = 'display_data';\n",
              "        await google.colab.output.renderOutput(dataTable, element);\n",
              "        const docLink = document.createElement('div');\n",
              "        docLink.innerHTML = docLinkHtml;\n",
              "        element.appendChild(docLink);\n",
              "      }\n",
              "    </script>\n",
              "  </div>\n",
              "\n",
              "\n",
              "<div id=\"df-b66637c9-02b0-492c-8f5b-735b54d3c5f2\">\n",
              "  <button class=\"colab-df-quickchart\" onclick=\"quickchart('df-b66637c9-02b0-492c-8f5b-735b54d3c5f2')\"\n",
              "            title=\"Suggest charts\"\n",
              "            style=\"display:none;\">\n",
              "\n",
              "<svg xmlns=\"http://www.w3.org/2000/svg\" height=\"24px\"viewBox=\"0 0 24 24\"\n",
              "     width=\"24px\">\n",
              "    <g>\n",
              "        <path d=\"M19 3H5c-1.1 0-2 .9-2 2v14c0 1.1.9 2 2 2h14c1.1 0 2-.9 2-2V5c0-1.1-.9-2-2-2zM9 17H7v-7h2v7zm4 0h-2V7h2v10zm4 0h-2v-4h2v4z\"/>\n",
              "    </g>\n",
              "</svg>\n",
              "  </button>\n",
              "\n",
              "<style>\n",
              "  .colab-df-quickchart {\n",
              "      --bg-color: #E8F0FE;\n",
              "      --fill-color: #1967D2;\n",
              "      --hover-bg-color: #E2EBFA;\n",
              "      --hover-fill-color: #174EA6;\n",
              "      --disabled-fill-color: #AAA;\n",
              "      --disabled-bg-color: #DDD;\n",
              "  }\n",
              "\n",
              "  [theme=dark] .colab-df-quickchart {\n",
              "      --bg-color: #3B4455;\n",
              "      --fill-color: #D2E3FC;\n",
              "      --hover-bg-color: #434B5C;\n",
              "      --hover-fill-color: #FFFFFF;\n",
              "      --disabled-bg-color: #3B4455;\n",
              "      --disabled-fill-color: #666;\n",
              "  }\n",
              "\n",
              "  .colab-df-quickchart {\n",
              "    background-color: var(--bg-color);\n",
              "    border: none;\n",
              "    border-radius: 50%;\n",
              "    cursor: pointer;\n",
              "    display: none;\n",
              "    fill: var(--fill-color);\n",
              "    height: 32px;\n",
              "    padding: 0;\n",
              "    width: 32px;\n",
              "  }\n",
              "\n",
              "  .colab-df-quickchart:hover {\n",
              "    background-color: var(--hover-bg-color);\n",
              "    box-shadow: 0 1px 2px rgba(60, 64, 67, 0.3), 0 1px 3px 1px rgba(60, 64, 67, 0.15);\n",
              "    fill: var(--button-hover-fill-color);\n",
              "  }\n",
              "\n",
              "  .colab-df-quickchart-complete:disabled,\n",
              "  .colab-df-quickchart-complete:disabled:hover {\n",
              "    background-color: var(--disabled-bg-color);\n",
              "    fill: var(--disabled-fill-color);\n",
              "    box-shadow: none;\n",
              "  }\n",
              "\n",
              "  .colab-df-spinner {\n",
              "    border: 2px solid var(--fill-color);\n",
              "    border-color: transparent;\n",
              "    border-bottom-color: var(--fill-color);\n",
              "    animation:\n",
              "      spin 1s steps(1) infinite;\n",
              "  }\n",
              "\n",
              "  @keyframes spin {\n",
              "    0% {\n",
              "      border-color: transparent;\n",
              "      border-bottom-color: var(--fill-color);\n",
              "      border-left-color: var(--fill-color);\n",
              "    }\n",
              "    20% {\n",
              "      border-color: transparent;\n",
              "      border-left-color: var(--fill-color);\n",
              "      border-top-color: var(--fill-color);\n",
              "    }\n",
              "    30% {\n",
              "      border-color: transparent;\n",
              "      border-left-color: var(--fill-color);\n",
              "      border-top-color: var(--fill-color);\n",
              "      border-right-color: var(--fill-color);\n",
              "    }\n",
              "    40% {\n",
              "      border-color: transparent;\n",
              "      border-right-color: var(--fill-color);\n",
              "      border-top-color: var(--fill-color);\n",
              "    }\n",
              "    60% {\n",
              "      border-color: transparent;\n",
              "      border-right-color: var(--fill-color);\n",
              "    }\n",
              "    80% {\n",
              "      border-color: transparent;\n",
              "      border-right-color: var(--fill-color);\n",
              "      border-bottom-color: var(--fill-color);\n",
              "    }\n",
              "    90% {\n",
              "      border-color: transparent;\n",
              "      border-bottom-color: var(--fill-color);\n",
              "    }\n",
              "  }\n",
              "</style>\n",
              "\n",
              "  <script>\n",
              "    async function quickchart(key) {\n",
              "      const quickchartButtonEl =\n",
              "        document.querySelector('#' + key + ' button');\n",
              "      quickchartButtonEl.disabled = true;  // To prevent multiple clicks.\n",
              "      quickchartButtonEl.classList.add('colab-df-spinner');\n",
              "      try {\n",
              "        const charts = await google.colab.kernel.invokeFunction(\n",
              "            'suggestCharts', [key], {});\n",
              "      } catch (error) {\n",
              "        console.error('Error during call to suggestCharts:', error);\n",
              "      }\n",
              "      quickchartButtonEl.classList.remove('colab-df-spinner');\n",
              "      quickchartButtonEl.classList.add('colab-df-quickchart-complete');\n",
              "    }\n",
              "    (() => {\n",
              "      let quickchartButtonEl =\n",
              "        document.querySelector('#df-b66637c9-02b0-492c-8f5b-735b54d3c5f2 button');\n",
              "      quickchartButtonEl.style.display =\n",
              "        google.colab.kernel.accessAllowed ? 'block' : 'none';\n",
              "    })();\n",
              "  </script>\n",
              "</div>\n",
              "\n",
              "  <div id=\"id_4c2a075e-b3c2-4625-bed0-17361f2f9c7d\">\n",
              "    <style>\n",
              "      .colab-df-generate {\n",
              "        background-color: #E8F0FE;\n",
              "        border: none;\n",
              "        border-radius: 50%;\n",
              "        cursor: pointer;\n",
              "        display: none;\n",
              "        fill: #1967D2;\n",
              "        height: 32px;\n",
              "        padding: 0 0 0 0;\n",
              "        width: 32px;\n",
              "      }\n",
              "\n",
              "      .colab-df-generate:hover {\n",
              "        background-color: #E2EBFA;\n",
              "        box-shadow: 0px 1px 2px rgba(60, 64, 67, 0.3), 0px 1px 3px 1px rgba(60, 64, 67, 0.15);\n",
              "        fill: #174EA6;\n",
              "      }\n",
              "\n",
              "      [theme=dark] .colab-df-generate {\n",
              "        background-color: #3B4455;\n",
              "        fill: #D2E3FC;\n",
              "      }\n",
              "\n",
              "      [theme=dark] .colab-df-generate:hover {\n",
              "        background-color: #434B5C;\n",
              "        box-shadow: 0px 1px 3px 1px rgba(0, 0, 0, 0.15);\n",
              "        filter: drop-shadow(0px 1px 2px rgba(0, 0, 0, 0.3));\n",
              "        fill: #FFFFFF;\n",
              "      }\n",
              "    </style>\n",
              "    <button class=\"colab-df-generate\" onclick=\"generateWithVariable('df')\"\n",
              "            title=\"Generate code using this dataframe.\"\n",
              "            style=\"display:none;\">\n",
              "\n",
              "  <svg xmlns=\"http://www.w3.org/2000/svg\" height=\"24px\"viewBox=\"0 0 24 24\"\n",
              "       width=\"24px\">\n",
              "    <path d=\"M7,19H8.4L18.45,9,17,7.55,7,17.6ZM5,21V16.75L18.45,3.32a2,2,0,0,1,2.83,0l1.4,1.43a1.91,1.91,0,0,1,.58,1.4,1.91,1.91,0,0,1-.58,1.4L9.25,21ZM18.45,9,17,7.55Zm-12,3A5.31,5.31,0,0,0,4.9,8.1,5.31,5.31,0,0,0,1,6.5,5.31,5.31,0,0,0,4.9,4.9,5.31,5.31,0,0,0,6.5,1,5.31,5.31,0,0,0,8.1,4.9,5.31,5.31,0,0,0,12,6.5,5.46,5.46,0,0,0,6.5,12Z\"/>\n",
              "  </svg>\n",
              "    </button>\n",
              "    <script>\n",
              "      (() => {\n",
              "      const buttonEl =\n",
              "        document.querySelector('#id_4c2a075e-b3c2-4625-bed0-17361f2f9c7d button.colab-df-generate');\n",
              "      buttonEl.style.display =\n",
              "        google.colab.kernel.accessAllowed ? 'block' : 'none';\n",
              "\n",
              "      buttonEl.onclick = () => {\n",
              "        google.colab.notebook.generateWithVariable('df');\n",
              "      }\n",
              "      })();\n",
              "    </script>\n",
              "  </div>\n",
              "\n",
              "    </div>\n",
              "  </div>\n"
            ],
            "application/vnd.google.colaboratory.intrinsic+json": {
              "type": "dataframe",
              "variable_name": "df",
              "summary": "{\n  \"name\": \"df\",\n  \"rows\": 163,\n  \"fields\": [\n    {\n      \"column\": \"event_id\",\n      \"properties\": {\n        \"dtype\": \"string\",\n        \"num_unique_values\": 161,\n        \"samples\": [\n          \"20130222X12624\",\n          \"20130525X61706\",\n          \"20150308X10201\"\n        ],\n        \"semantic_type\": \"\",\n        \"description\": \"\"\n      }\n    },\n    {\n      \"column\": \"ntsb_make\",\n      \"properties\": {\n        \"dtype\": \"category\",\n        \"num_unique_values\": 25,\n        \"samples\": [\n          \"MCDONNELL DOUGLAS\",\n          \"BELL HELICOPTER TEXTRON\",\n          \"BELL\"\n        ],\n        \"semantic_type\": \"\",\n        \"description\": \"\"\n      }\n    },\n    {\n      \"column\": \"ntsb_model\",\n      \"properties\": {\n        \"dtype\": \"category\",\n        \"num_unique_values\": 53,\n        \"samples\": [\n          \"AS350BA\",\n          \"206L 3\",\n          \"AS350B3E\"\n        ],\n        \"semantic_type\": \"\",\n        \"description\": \"\"\n      }\n    },\n    {\n      \"column\": \"ntsb_number\",\n      \"properties\": {\n        \"dtype\": \"string\",\n        \"num_unique_values\": 161,\n        \"samples\": [\n          \"CEN13FA174\",\n          \"CEN13FA295\",\n          \"CEN15FA164\"\n        ],\n        \"semantic_type\": \"\",\n        \"description\": \"\"\n      }\n    },\n    {\n      \"column\": \"year\",\n      \"properties\": {\n        \"dtype\": \"number\",\n        \"std\": 3,\n        \"min\": 2006,\n        \"max\": 2016,\n        \"num_unique_values\": 10,\n        \"samples\": [\n          2015,\n          2007,\n          2012\n        ],\n        \"semantic_type\": \"\",\n        \"description\": \"\"\n      }\n    },\n    {\n      \"column\": \"date\",\n      \"properties\": {\n        \"dtype\": \"object\",\n        \"num_unique_values\": 156,\n        \"samples\": [\n          \"11/27/2012 00:00:00\",\n          \"01/05/2010 00:00:00\",\n          \"03/25/2010 00:00:00\"\n        ],\n        \"semantic_type\": \"\",\n        \"description\": \"\"\n      }\n    },\n    {\n      \"column\": \"city\",\n      \"properties\": {\n        \"dtype\": \"string\",\n        \"num_unique_values\": 158,\n        \"samples\": [\n          \"GREEN RIVER\",\n          \"BARTLETT\",\n          \"LAKE WORTH\"\n        ],\n        \"semantic_type\": \"\",\n        \"description\": \"\"\n      }\n    },\n    {\n      \"column\": \"state\",\n      \"properties\": {\n        \"dtype\": \"category\",\n        \"num_unique_values\": 42,\n        \"samples\": [\n          \"MD\",\n          \"NV\",\n          \"DC\"\n        ],\n        \"semantic_type\": \"\",\n        \"description\": \"\"\n      }\n    },\n    {\n      \"column\": \"country\",\n      \"properties\": {\n        \"dtype\": \"category\",\n        \"num_unique_values\": 1,\n        \"samples\": [\n          \"USA\"\n        ],\n        \"semantic_type\": \"\",\n        \"description\": \"\"\n      }\n    },\n    {\n      \"column\": \"total_fatalities\",\n      \"properties\": {\n        \"dtype\": \"number\",\n        \"std\": 1,\n        \"min\": 1,\n        \"max\": 9,\n        \"num_unique_values\": 8,\n        \"samples\": [\n          1\n        ],\n        \"semantic_type\": \"\",\n        \"description\": \"\"\n      }\n    },\n    {\n      \"column\": \"latimes_make\",\n      \"properties\": {\n        \"dtype\": \"category\",\n        \"num_unique_values\": 8,\n        \"samples\": [\n          \"ROBINSON\"\n        ],\n        \"semantic_type\": \"\",\n        \"description\": \"\"\n      }\n    },\n    {\n      \"column\": \"latimes_model\",\n      \"properties\": {\n        \"dtype\": \"category\",\n        \"num_unique_values\": 11,\n        \"samples\": [\n          \"269\"\n        ],\n        \"semantic_type\": \"\",\n        \"description\": \"\"\n      }\n    },\n    {\n      \"column\": \"latimes_make_and_model\",\n      \"properties\": {\n        \"dtype\": \"category\",\n        \"num_unique_values\": 13,\n        \"samples\": [\n          \"AGUSTA 109\"\n        ],\n        \"semantic_type\": \"\",\n        \"description\": \"\"\n      }\n    }\n  ]\n}"
            }
          },
          "metadata": {},
          "execution_count": 8
        }
      ],
      "source": [
        "#TODO: Chargement et affichage de df\n",
        "df = pd.read_csv('/content/drive/MyDrive/INF8008/Hiver 2025/ntsb-accidents.csv')\n",
        "df"
      ]
    },
    {
      "cell_type": "code",
      "execution_count": 9,
      "metadata": {
        "colab": {
          "base_uri": "https://localhost:8080/"
        },
        "id": "RRr24fyJsmzX",
        "outputId": "795df170-be7b-47cd-d23d-d7459369a841"
      },
      "outputs": [
        {
          "output_type": "stream",
          "name": "stdout",
          "text": [
            "df est de dimension (163, 13)\n",
            "nombre de lignes 163\n",
            "nombre de colonnes 13\n"
          ]
        }
      ],
      "source": [
        "#TODO: Complétez ce code afin d'afficher les bonnes informations dans les \"print\".\n",
        "\n",
        "print(\"df est de dimension\", df.shape)\n",
        "print(\"nombre de lignes\", df.shape[0])\n",
        "print(\"nombre de colonnes\", df.shape[1])"
      ]
    },
    {
      "cell_type": "markdown",
      "metadata": {
        "id": "gyXbJPKzyDbw"
      },
      "source": [
        "### Q2\n",
        "Quelle est l'intervalle d'années et l'ensemble des fabricants et modèles d'hélicoptères compris dans le jeu de données?<b>(1 point)</b>"
      ]
    },
    {
      "cell_type": "code",
      "execution_count": 10,
      "metadata": {
        "colab": {
          "base_uri": "https://localhost:8080/"
        },
        "id": "BwUGtes-v0n0",
        "outputId": "268da871-7e35-4f88-a414-44775837486f"
      },
      "outputs": [
        {
          "output_type": "stream",
          "name": "stdout",
          "text": [
            "L'intervalle d'années est:  [2006 2007 2008 2009 2010 2012 2013 2014 2015 2016]\n",
            "L'intervalle d'années est:  (2006, 2016)\n",
            "L'ensemble des fabricants et modèles est:  ['BELL 407' 'ROBINSON R22' 'ROBINSON R44' 'AIRBUS 350' 'HUGHES 369'\n",
            " 'SCHWEIZER 269' 'AIRBUS 135' 'bell 206' 'BELL 206'\n",
            " 'MCDONNELL DOUGLAS 369' 'SIKORSKY 76' 'AGUSTA 109' 'AIRBUS 130']\n"
          ]
        }
      ],
      "source": [
        "#TODO:\n",
        "intervalle = df.year.unique()\n",
        "print(\"L'intervalle d'années est: \", intervalle)\n",
        "intervalle_range = (intervalle.min(), intervalle.max())\n",
        "print(\"L'intervalle d'années est: \", intervalle_range)\n",
        "fabricants_modeles = df.latimes_make_and_model.unique()\n",
        "print(\"L'ensemble des fabricants et modèles est: \", fabricants_modeles)\n"
      ]
    },
    {
      "cell_type": "markdown",
      "metadata": {
        "id": "arqXC2AS-YwE"
      },
      "source": [
        "### Q3\n",
        "Combien de décès y a-t-il en moyenne? <b>(1 point)</b>"
      ]
    },
    {
      "cell_type": "code",
      "execution_count": 11,
      "metadata": {
        "id": "w6vAYZ9I-YwF",
        "outputId": "dea4e3e0-70b9-4a0b-f0a8-da6eb8326bcd",
        "colab": {
          "base_uri": "https://localhost:8080/"
        }
      },
      "outputs": [
        {
          "output_type": "stream",
          "name": "stdout",
          "text": [
            "Le nombre moyen de décès est:  2.061349693251534\n"
          ]
        }
      ],
      "source": [
        "#TODO:\n",
        "deces = df.total_fatalities.mean()\n",
        "print(\"Le nombre moyen de décès est: \", deces)"
      ]
    },
    {
      "cell_type": "markdown",
      "metadata": {
        "id": "hATy_JNm0kQH"
      },
      "source": [
        "### Q4\n",
        "Combien d'**accidents** y a-t-il eu pour chaque combinaison de fabricant et modèle d'hélicoptère? Créez un tableau de fréquence du nombre d'accidents par combinaison de fabricant et modèle.  <b>(3 points)</b>\n"
      ]
    },
    {
      "cell_type": "code",
      "execution_count": 12,
      "metadata": {
        "colab": {
          "base_uri": "https://localhost:8080/"
        },
        "id": "fu8P0Y8m37B-",
        "outputId": "ec64fabb-c25a-4666-b741-135fc5b26f96"
      },
      "outputs": [
        {
          "output_type": "stream",
          "name": "stdout",
          "text": [
            "Tableau de fréquence du nombre d'accidents par combinaison de fabricant et modèle: \n",
            "   latimes_make_and_model  event_id\n",
            "0              AGUSTA 109         2\n",
            "1              AIRBUS 130         1\n",
            "2              AIRBUS 135         4\n",
            "3              AIRBUS 350        28\n",
            "4                BELL 206        28\n",
            "5                BELL 407        12\n",
            "6              HUGHES 369        13\n",
            "7   MCDONNELL DOUGLAS 369         6\n",
            "8            ROBINSON R22        20\n",
            "9            ROBINSON R44        38\n",
            "10          SCHWEIZER 269         5\n",
            "11            SIKORSKY 76         2\n",
            "12               bell 206         2\n"
          ]
        }
      ],
      "source": [
        "#TODO:\n",
        "\n",
        "freq_table = df.groupby('latimes_make_and_model')['event_id'].nunique().reset_index()\n",
        "#differente maniere:\n",
        "# freq_table = df.latimes_make_and_model.value_counts()\n",
        "print(\"Tableau de fréquence du nombre d'accidents par combinaison de fabricant et modèle: \")\n",
        "print(freq_table)"
      ]
    },
    {
      "cell_type": "markdown",
      "metadata": {
        "id": "24Ca2hNYFu6u"
      },
      "source": [
        "### Q5\n",
        "Déterminez la moyenne, la médiane et l'écart-type du nombre de décès. Dans un premier temps, fournissez les statistiques avec AIRBUS 350.  Puis, dans un second temps, fournissez les statistiques avec ROBINSON R44.<b>(3 points)</b>"
      ]
    },
    {
      "cell_type": "code",
      "execution_count": 13,
      "metadata": {
        "id": "LDXMzCZH_Zyu",
        "outputId": "9d584485-fa19-485f-8302-9dbca9f1b427",
        "colab": {
          "base_uri": "https://localhost:8080/"
        }
      },
      "outputs": [
        {
          "output_type": "stream",
          "name": "stdout",
          "text": [
            "AIRBUS 350 - Moyenne: 2.793103448275862, Médiane: 3.0, Écart-type: 1.6339983901204604\n",
            "ROBINSON R44 - Moyenne: 1.868421052631579, Médiane: 2.0, Écart-type: 0.9055699304881247\n"
          ]
        }
      ],
      "source": [
        "# Calcul des statistiques pour AIRBUS 350\n",
        "airbus_stats = [func(df[df['latimes_make_and_model'] == 'AIRBUS 350']['total_fatalities']) for func in [pd.Series.mean, pd.Series.median, pd.Series.std]]\n",
        "print(\"AIRBUS 350 - Moyenne: {}, Médiane: {}, Écart-type: {}\".format(*airbus_stats))\n",
        "\n",
        "# Calcul des statistiques pour ROBINSON R44\n",
        "robinson_stats = [func(df[df['latimes_make_and_model'] == 'ROBINSON R44']['total_fatalities']) for func in [pd.Series.mean, pd.Series.median, pd.Series.std]]\n",
        "print(\"ROBINSON R44 - Moyenne: {}, Médiane: {}, Écart-type: {}\".format(*robinson_stats))"
      ]
    },
    {
      "cell_type": "code",
      "execution_count": 14,
      "metadata": {
        "colab": {
          "base_uri": "https://localhost:8080/"
        },
        "id": "5sI3Ti0UFuVg",
        "outputId": "612b22bb-2970-4b8e-ab8c-46058c295448"
      },
      "outputs": [
        {
          "output_type": "stream",
          "name": "stdout",
          "text": [
            "La moyenne du nombre de décès pour AIRBUS 350 est:  2.793103448275862\n",
            "L'écart-type du nombre de décès pour AIRBUS 350 est:  1.6339983901204604\n",
            "La médiane du nombre de décès pour AIRBUS 350 est:  3.0\n",
            "\n",
            "La moyenne du nombre de décès pour ROBINSON R44 est:  1.868421052631579\n",
            "L'écart-type du nombre de décès pour ROBINSON R44 est:  0.9055699304881247\n",
            "La médiane du nombre de décès pour ROBINSON R44 est:  2.0\n"
          ]
        }
      ],
      "source": [
        "#TODO:\n",
        "airbus = df[df['latimes_make_and_model'] == 'AIRBUS 350']\n",
        "\n",
        "avg_a = airbus['total_fatalities'].mean()\n",
        "std_a = airbus['total_fatalities'].std()\n",
        "med_a = airbus['total_fatalities'].median()\n",
        "\n",
        "print(\"La moyenne du nombre de décès pour AIRBUS 350 est: \", avg_a)\n",
        "print(\"L'écart-type du nombre de décès pour AIRBUS 350 est: \", std_a)\n",
        "print(\"La médiane du nombre de décès pour AIRBUS 350 est: \", med_a)\n",
        "\n",
        "\n",
        "robinson = df[df['latimes_make_and_model'] == 'ROBINSON R44']\n",
        "\n",
        "avg_r = robinson['total_fatalities'].mean()\n",
        "std_r = robinson['total_fatalities'].std()\n",
        "med_r = robinson['total_fatalities'].median()\n",
        "\n",
        "print()\n",
        "print(\"La moyenne du nombre de décès pour ROBINSON R44 est: \", avg_r)\n",
        "print(\"L'écart-type du nombre de décès pour ROBINSON R44 est: \", std_r)\n",
        "print(\"La médiane du nombre de décès pour ROBINSON R44 est: \", med_r)"
      ]
    },
    {
      "cell_type": "markdown",
      "metadata": {
        "id": "NN-3hJmH5vU7"
      },
      "source": [
        "### Q6\n",
        "Combien d’accidents ont enregistré plus d’un décès?\n",
        "Combien de décès se sont produits en Californie en 2015? <b>(1 point)</b>"
      ]
    },
    {
      "cell_type": "code",
      "execution_count": 15,
      "metadata": {
        "colab": {
          "base_uri": "https://localhost:8080/"
        },
        "id": "FQgpoppx8GOf",
        "outputId": "9f5557ed-6250-4813-abd4-3a1821453c5f"
      },
      "outputs": [
        {
          "output_type": "stream",
          "name": "stdout",
          "text": [
            "Le nombre d'accidents avec plus d'un décès est de :  87\n",
            "Le nombre de décès en 2015 à Californie est de :   3.0\n"
          ]
        }
      ],
      "source": [
        "#TODO:\n",
        "\n",
        "ss = df[df['total_fatalities'] >1]['event_id'].nunique()\n",
        "print(\"Le nombre d'accidents avec plus d'un décès est de : \", ss)\n",
        "\n",
        "\n",
        "avg_time = df[(df['year'] ==  2015) & (df['state']== 'CA')]\n",
        "print(\"Le nombre de décès en 2015 à Californie est de :  \", avg_time.total_fatalities.mean())"
      ]
    },
    {
      "cell_type": "markdown",
      "metadata": {
        "id": "Is2pL61E2cA9"
      },
      "source": [
        "## 2. Visualisation de données"
      ]
    },
    {
      "cell_type": "code",
      "execution_count": 16,
      "metadata": {
        "id": "X_ZqXvKZ1-wB"
      },
      "outputs": [],
      "source": [
        "import matplotlib.pyplot as plt"
      ]
    },
    {
      "cell_type": "markdown",
      "metadata": {
        "id": "q2P0oK6KDBCh"
      },
      "source": [
        "### Q7\n",
        "Affichez le nombre de décès par année. Nommez vos axes et donnez un titre à votre graphique. Qu’observez-vous? Quelle année marque le plus de décès? Quelle année marque le moins?<b>(3 points)</b>"
      ]
    },
    {
      "cell_type": "code",
      "execution_count": 17,
      "metadata": {
        "colab": {
          "base_uri": "https://localhost:8080/",
          "height": 491
        },
        "id": "szVOQ95VC-lU",
        "outputId": "f68e1c71-238b-4540-e09d-0380eafd7fb6"
      },
      "outputs": [
        {
          "output_type": "execute_result",
          "data": {
            "text/plain": [
              "Text(0.5, 1.0, 'Nombre de décès par année')"
            ]
          },
          "metadata": {},
          "execution_count": 17
        },
        {
          "output_type": "display_data",
          "data": {
            "text/plain": [
              "<Figure size 640x480 with 1 Axes>"
            ],
            "image/png": "[encoded data removed]"
          },
          "metadata": {}
        }
      ],
      "source": [
        "#TODO:\n",
        "\n",
        "plt.bar(df['year'], df['total_fatalities'])\n",
        "plt.xlabel(\"Année\")\n",
        "plt.ylabel(\"Nombre de décès\")\n",
        "plt.title('Nombre de décès par année')"
      ]
    },
    {
      "cell_type": "markdown",
      "metadata": {
        "id": "G4AvTGfVN5Dv"
      },
      "source": [
        "2009: le plus de décès\n",
        "\n",
        "2011: le moins de décès"
      ]
    },
    {
      "cell_type": "markdown",
      "metadata": {
        "id": "9gr4L6CFH2pL"
      },
      "source": [
        "### Q8\n",
        "En utilisant la fonction subplot de matplotlib:\n",
        "\n",
        "1) Affichez le nombre d'accidents par année dans un diagramme à barres.\n",
        "\n",
        "2) Affichez le nombre de décès par année dans un diagramme à barres.\n",
        "\n",
        "Nommez vos axes et donnez un titre à votre graphique.\n",
        "En comparant ceux-ci, observez-vous une relation entre le nombre de décès et d'accidents? Pouvez-vous justifier la cause du nombre de décès minimal de l'année évoquée dans la question 7?  <b>(5 points)</b>"
      ]
    },
    {
      "cell_type": "code",
      "execution_count": 18,
      "metadata": {
        "colab": {
          "base_uri": "https://localhost:8080/",
          "height": 366
        },
        "id": "e8zLBkxFK37A",
        "outputId": "f5a0df05-1cb6-4125-cace-d4540692c966"
      },
      "outputs": [
        {
          "output_type": "display_data",
          "data": {
            "text/plain": [
              "<Figure size 1500x600 with 2 Axes>"
            ],
            "image/png": "[encoded data removed]"
          },
          "metadata": {}
        }
      ],
      "source": [
        "#TODO: Filtrez votre dataframe\n",
        "\n",
        "#TODO: Partie 1\n",
        "plt.figure(figsize=(15, 6))\n",
        "plt.subplot(1, 2, 1)\n",
        "event_counts_per_year = df['year'].value_counts().sort_index()\n",
        "plt.bar(event_counts_per_year.index, event_counts_per_year.values, color='lightcoral')\n",
        "plt.xlabel(\"Année\")\n",
        "plt.ylabel(\"Nombre d'accidents\")\n",
        "plt.title(\"Nombre d'accidents par année\")\n",
        "\n",
        "#TODO: Partie 2\n",
        "plt.subplot(1, 2, 2)\n",
        "plt.bar(df['year'], df['total_fatalities'])\n",
        "plt.xlabel(\"Année\")\n",
        "plt.ylabel(\"Nombre de décès\")\n",
        "plt.title(\"Nombre de décès par année\")\n",
        "\n",
        "plt.tight_layout()\n",
        "plt.show()\n"
      ]
    },
    {
      "cell_type": "markdown",
      "metadata": {
        "id": "628ixXH9N08e"
      },
      "source": [
        "L'année 2009 ayant le plus de décès n'a pas le plus d'accidents. Le nombre de décès n'est donc pas relié au nombre d'accidents.\n",
        "\n",
        "L'année 2011 n'a pas de données et de ce fait a le moins de décès enregistrés."
      ]
    },
    {
      "cell_type": "markdown",
      "metadata": {
        "id": "0rT7_Mm0OIaD"
      },
      "source": [
        "## 3. LIVRABLES\n",
        "Vous devez remettre sur Moodle un fichier compressé .zip contenant :\n",
        "\n",
        "1) Le code : Un Jupyter notebook en Python qui contient le code tel implanté avec les librairies minimales demandées pour ce TP (Python, Pandas, Matplotlib). Le code doit être exécutable sans erreur et accompagné des commentaires appropriés dans le notebook de manière. Tous vos résultats doivent être reproductibles avec le code dans le notebook. *Attention, en aucun cas votre code ne doit avoir été copié de d'ailleurs.*\n",
        "\n",
        "2) Un fichier pdf représentant votre notebook complètement exécuté sous format pdf (obtenu via latex ou imprimé en pdf avec le navigateur). Assurez-vous que le PDF est entièrement lisible. [Tutoriel youtube](https://www.youtube.com/watch?v=-Ti9Mm21uVc)\n",
        "\n",
        "ATTENTION: assurez-vous que votre fichier compressé .zip ne dépasse pas la taille limite acceptée sur Moodle.\n"
      ]
    },
    {
      "cell_type": "markdown",
      "metadata": {
        "id": "JkxB1hfwRQw9"
      },
      "source": [
        "__ÉVALUATION__ <br>\n",
        "Votre TP sera évalué sur les points suivants :\n",
        "\n",
        "__Critères :__\n",
        "1. Implantation correcte et efficace\n",
        "2. Qualité du code (noms significatifs, structure, performance, gestion d’exception, etc.) <b>(1 point)</b>\n",
        "3. Réponses correctes/sensées aux questions de réflexion ou d'analyse\n",
        "\n",
        "__CODE D’HONNEUR__\n",
        "- __Règle 1__:  Le plagiat de code est bien évidemment interdit. Toute utilisation de code doit être référencée adéquatement. Vous __ne pouvez pas__ soumettre un code, écrit par quelqu’un d’autre. Dans le cas contraire, cela sera considéré comme du plagiat.\n",
        "- __Règle 2__: Vous êtes libres de discuter avec d'autres équipes. Cependant, vous ne pouvez en aucun cas incorporer leur code dans votre TP.\n",
        "- __Règle 3__:  Vous ne pouvez pas partager votre code publiquement (par exemple, dans un dépôt GitHub public) tant que le cours n'est pas fini."
      ]
    },
    {
      "cell_type": "markdown",
      "metadata": {
        "id": "6B9vE0FUSGFP"
      },
      "source": [
        "### Conversion en PDF sur Google Colab"
      ]
    },
    {
      "cell_type": "code",
      "execution_count": 19,
      "metadata": {
        "id": "Iig7VzFFN11u"
      },
      "outputs": [],
      "source": [
        "%%capture\n",
        "!sudo apt-get install texlive-xetex texlive-fonts-recommended texlive-plain-generic"
      ]
    },
    {
      "cell_type": "markdown",
      "metadata": {
        "id": "tz0BpqmcU9ZA"
      },
      "source": [
        "Assurez vous d'avoir téléchargé le TP complété en notebook sur votre ordinateur, puis importé ce fichier dans le répertoire \"content\" avant de rouler la ligne suivante."
      ]
    },
    {
      "cell_type": "code",
      "execution_count": 20,
      "metadata": {
        "id": "OPSlcCFrSqik",
        "colab": {
          "base_uri": "https://localhost:8080/"
        },
        "collapsed": true,
        "outputId": "690398d1-2af6-4cf0-ab55-48c4f16f809a"
      },
      "outputs": [
        {
          "output_type": "stream",
          "name": "stdout",
          "text": [
            "[NbConvertApp] WARNING | pattern '/content/TP1.ipynb' matched no files\n",
            "This application is used to convert notebook files (*.ipynb)\n",
            "        to various other formats.\n",
            "\n",
            "        WARNING: THE COMMANDLINE INTERFACE MAY CHANGE IN FUTURE RELEASES.\n",
            "\n",
            "Options\n",
            "=======\n",
            "The options below are convenience aliases to configurable class-options,\n",
            "as listed in the \"Equivalent to\" description-line of the aliases.\n",
            "To see all configurable class-options for some <cmd>, use:\n",
            "    <cmd> --help-all\n",
            "\n",
            "--debug\n",
            "    set log level to logging.DEBUG (maximize logging output)\n",
            "    Equivalent to: [--Application.log_level=10]\n",
            "--show-config\n",
            "    Show the application's configuration (human-readable format)\n",
            "    Equivalent to: [--Application.show_config=True]\n",
            "--show-config-json\n",
            "    Show the application's configuration (json format)\n",
            "    Equivalent to: [--Application.show_config_json=True]\n",
            "--generate-config\n",
            "    generate default config file\n",
            "    Equivalent to: [--JupyterApp.generate_config=True]\n",
            "-y\n",
            "    Answer yes to any questions instead of prompting.\n",
            "    Equivalent to: [--JupyterApp.answer_yes=True]\n",
            "--execute\n",
            "    Execute the notebook prior to export.\n",
            "    Equivalent to: [--ExecutePreprocessor.enabled=True]\n",
            "--allow-errors\n",
            "    Continue notebook execution even if one of the cells throws an error and include the error message in the cell output (the default behaviour is to abort conversion). This flag is only relevant if '--execute' was specified, too.\n",
            "    Equivalent to: [--ExecutePreprocessor.allow_errors=True]\n",
            "--stdin\n",
            "    read a single notebook file from stdin. Write the resulting notebook with default basename 'notebook.*'\n",
            "    Equivalent to: [--NbConvertApp.from_stdin=True]\n",
            "--stdout\n",
            "    Write notebook output to stdout instead of files.\n",
            "    Equivalent to: [--NbConvertApp.writer_class=StdoutWriter]\n",
            "--inplace\n",
            "    Run nbconvert in place, overwriting the existing notebook (only\n",
            "            relevant when converting to notebook format)\n",
            "    Equivalent to: [--NbConvertApp.use_output_suffix=False --NbConvertApp.export_format=notebook --FilesWriter.build_directory=]\n",
            "--clear-output\n",
            "    Clear output of current file and save in place,\n",
            "            overwriting the existing notebook.\n",
            "    Equivalent to: [--NbConvertApp.use_output_suffix=False --NbConvertApp.export_format=notebook --FilesWriter.build_directory= --ClearOutputPreprocessor.enabled=True]\n",
            "--coalesce-streams\n",
            "    Coalesce consecutive stdout and stderr outputs into one stream (within each cell).\n",
            "    Equivalent to: [--NbConvertApp.use_output_suffix=False --NbConvertApp.export_format=notebook --FilesWriter.build_directory= --CoalesceStreamsPreprocessor.enabled=True]\n",
            "--no-prompt\n",
            "    Exclude input and output prompts from converted document.\n",
            "    Equivalent to: [--TemplateExporter.exclude_input_prompt=True --TemplateExporter.exclude_output_prompt=True]\n",
            "--no-input\n",
            "    Exclude input cells and output prompts from converted document.\n",
            "            This mode is ideal for generating code-free reports.\n",
            "    Equivalent to: [--TemplateExporter.exclude_output_prompt=True --TemplateExporter.exclude_input=True --TemplateExporter.exclude_input_prompt=True]\n",
            "--allow-chromium-download\n",
            "    Whether to allow downloading chromium if no suitable version is found on the system.\n",
            "    Equivalent to: [--WebPDFExporter.allow_chromium_download=True]\n",
            "--disable-chromium-sandbox\n",
            "    Disable chromium security sandbox when converting to PDF..\n",
            "    Equivalent to: [--WebPDFExporter.disable_sandbox=True]\n",
            "--show-input\n",
            "    Shows code input. This flag is only useful for dejavu users.\n",
            "    Equivalent to: [--TemplateExporter.exclude_input=False]\n",
            "--embed-images\n",
            "    Embed the images as base64 dataurls in the output. This flag is only useful for the HTML/WebPDF/Slides exports.\n",
            "    Equivalent to: [--HTMLExporter.embed_images=True]\n",
            "--sanitize-html\n",
            "    Whether the HTML in Markdown cells and cell outputs should be sanitized..\n",
            "    Equivalent to: [--HTMLExporter.sanitize_html=True]\n",
            "--log-level=<Enum>\n",
            "    Set the log level by value or name.\n",
            "    Choices: any of [0, 10, 20, 30, 40, 50, 'DEBUG', 'INFO', 'WARN', 'ERROR', 'CRITICAL']\n",
            "    Default: 30\n",
            "    Equivalent to: [--Application.log_level]\n",
            "--config=<Unicode>\n",
            "    Full path of a config file.\n",
            "    Default: ''\n",
            "    Equivalent to: [--JupyterApp.config_file]\n",
            "--to=<Unicode>\n",
            "    The export format to be used, either one of the built-in formats\n",
            "            ['asciidoc', 'custom', 'html', 'latex', 'markdown', 'notebook', 'pdf', 'python', 'qtpdf', 'qtpng', 'rst', 'script', 'slides', 'webpdf']\n",
            "            or a dotted object name that represents the import path for an\n",
            "            ``Exporter`` class\n",
            "    Default: ''\n",
            "    Equivalent to: [--NbConvertApp.export_format]\n",
            "--template=<Unicode>\n",
            "    Name of the template to use\n",
            "    Default: ''\n",
            "    Equivalent to: [--TemplateExporter.template_name]\n",
            "--template-file=<Unicode>\n",
            "    Name of the template file to use\n",
            "    Default: None\n",
            "    Equivalent to: [--TemplateExporter.template_file]\n",
            "--theme=<Unicode>\n",
            "    Template specific theme(e.g. the name of a JupyterLab CSS theme distributed\n",
            "    as prebuilt extension for the lab template)\n",
            "    Default: 'light'\n",
            "    Equivalent to: [--HTMLExporter.theme]\n",
            "--sanitize_html=<Bool>\n",
            "    Whether the HTML in Markdown cells and cell outputs should be sanitized.This\n",
            "    should be set to True by nbviewer or similar tools.\n",
            "    Default: False\n",
            "    Equivalent to: [--HTMLExporter.sanitize_html]\n",
            "--writer=<DottedObjectName>\n",
            "    Writer class used to write the\n",
            "                                        results of the conversion\n",
            "    Default: 'FilesWriter'\n",
            "    Equivalent to: [--NbConvertApp.writer_class]\n",
            "--post=<DottedOrNone>\n",
            "    PostProcessor class used to write the\n",
            "                                        results of the conversion\n",
            "    Default: ''\n",
            "    Equivalent to: [--NbConvertApp.postprocessor_class]\n",
            "--output=<Unicode>\n",
            "    Overwrite base name use for output files.\n",
            "                Supports pattern replacements '{notebook_name}'.\n",
            "    Default: '{notebook_name}'\n",
            "    Equivalent to: [--NbConvertApp.output_base]\n",
            "--output-dir=<Unicode>\n",
            "    Directory to write output(s) to. Defaults\n",
            "                                  to output to the directory of each notebook. To recover\n",
            "                                  previous default behaviour (outputting to the current\n",
            "                                  working directory) use . as the flag value.\n",
            "    Default: ''\n",
            "    Equivalent to: [--FilesWriter.build_directory]\n",
            "--reveal-prefix=<Unicode>\n",
            "    The URL prefix for reveal.js (version 3.x).\n",
            "            This defaults to the reveal CDN, but can be any url pointing to a copy\n",
            "            of reveal.js.\n",
            "            For speaker notes to work, this must be a relative path to a local\n",
            "            copy of reveal.js: e.g., \"reveal.js\".\n",
            "            If a relative path is given, it must be a subdirectory of the\n",
            "            current directory (from which the server is run).\n",
            "            See the usage documentation\n",
            "            (https://nbconvert.readthedocs.io/en/latest/usage.html#reveal-js-html-slideshow)\n",
            "            for more details.\n",
            "    Default: ''\n",
            "    Equivalent to: [--SlidesExporter.reveal_url_prefix]\n",
            "--nbformat=<Enum>\n",
            "    The nbformat version to write.\n",
            "            Use this to downgrade notebooks.\n",
            "    Choices: any of [1, 2, 3, 4]\n",
            "    Default: 4\n",
            "    Equivalent to: [--NotebookExporter.nbformat_version]\n",
            "\n",
            "Examples\n",
            "--------\n",
            "\n",
            "    The simplest way to use nbconvert is\n",
            "\n",
            "            > jupyter nbconvert mynotebook.ipynb --to html\n",
            "\n",
            "            Options include ['asciidoc', 'custom', 'html', 'latex', 'markdown', 'notebook', 'pdf', 'python', 'qtpdf', 'qtpng', 'rst', 'script', 'slides', 'webpdf'].\n",
            "\n",
            "            > jupyter nbconvert --to latex mynotebook.ipynb\n",
            "\n",
            "            Both HTML and LaTeX support multiple output templates. LaTeX includes\n",
            "            'base', 'article' and 'report'.  HTML includes 'basic', 'lab' and\n",
            "            'classic'. You can specify the flavor of the format used.\n",
            "\n",
            "            > jupyter nbconvert --to html --template lab mynotebook.ipynb\n",
            "\n",
            "            You can also pipe the output to stdout, rather than a file\n",
            "\n",
            "            > jupyter nbconvert mynotebook.ipynb --stdout\n",
            "\n",
            "            PDF is generated via latex\n",
            "\n",
            "            > jupyter nbconvert mynotebook.ipynb --to pdf\n",
            "\n",
            "            You can get (and serve) a Reveal.js-powered slideshow\n",
            "\n",
            "            > jupyter nbconvert myslides.ipynb --to slides --post serve\n",
            "\n",
            "            Multiple notebooks can be given at the command line in a couple of\n",
            "            different ways:\n",
            "\n",
            "            > jupyter nbconvert notebook*.ipynb\n",
            "            > jupyter nbconvert notebook1.ipynb notebook2.ipynb\n",
            "\n",
            "            or you can specify the notebooks list in a config file, containing::\n",
            "\n",
            "                c.NbConvertApp.notebooks = [\"my_notebook.ipynb\"]\n",
            "\n",
            "            > jupyter nbconvert --config mycfg.py\n",
            "\n",
            "To see all available configurables, use `--help-all`.\n",
            "\n"
          ]
        }
      ],
      "source": [
        "!jupyter nbconvert --to pdf /content/TP1.ipynb"
      ]
    }
  ],
  "metadata": {
    "colab": {
      "provenance": []
    },
    "kernelspec": {
      "display_name": "base",
      "language": "python",
      "name": "python3"
    },
    "language_info": {
      "codemirror_mode": {
        "name": "ipython",
        "version": 3
      },
      "file_extension": ".py",
      "mimetype": "text/x-python",
      "name": "python",
      "nbconvert_exporter": "python",
      "pygments_lexer": "ipython3",
      "version": "3.10.13"
    }
  },
  "nbformat": 4,
  "nbformat_minor": 0
}